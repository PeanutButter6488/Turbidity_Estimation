{
 "cells": [
  {
   "cell_type": "markdown",
   "id": "062509cb-b398-48b7-ad9f-5cda5be5a7f2",
   "metadata": {},
   "source": [
    "### Model Fitting using Training set sampled images"
   ]
  },
  {
   "cell_type": "code",
   "execution_count": 1,
   "id": "a3c43f6e-b722-422a-b100-280acf85663f",
   "metadata": {},
   "outputs": [],
   "source": [
    "%matplotlib widget\n",
    "import numpy as np\n",
    "import pandas as pd\n",
    "from matplotlib import pyplot as plt\n",
    "import statsmodels.api as sm\n",
    "from statsmodels.formula.api import ols\n",
    "import glob\n",
    "import cv2\n",
    "\n",
    "import os\n",
    "import sys  \n",
    "import re\n",
    "sys.path.insert(0, '../dip_utils')\n",
    "\n",
    "from matrix_utils import arr_info\n",
    "from vis_utils import (vis_rgb_cube,\n",
    "                       vis_hists,\n",
    "                       vis_pair, \n",
    "                       vis_triple)\n",
    "%run watershed.ipynb\n",
    "%run calibrate.ipynb\n",
    "%run greyscale.ipynb\n",
    "%run image_stacking.ipynb\n",
    "%run whitep_elimination.ipynb"
   ]
  },
  {
   "cell_type": "code",
   "execution_count": 2,
   "id": "a1966a3a-d114-4963-aaaa-2c159cf6ab37",
   "metadata": {},
   "outputs": [],
   "source": [
    "path = '../sampled_images'\n",
    "dest = '../stacked_new'"
   ]
  },
  {
   "cell_type": "code",
   "execution_count": 3,
   "id": "93282153-087b-4f33-a0c2-b7b2357d15f0",
   "metadata": {},
   "outputs": [],
   "source": [
    "files = glob.glob('%s/*' % dest)\n",
    "for f in files:\n",
    "    os.remove(f)"
   ]
  },
  {
   "cell_type": "code",
   "execution_count": 4,
   "id": "fe7e2177-a218-477a-b349-e14e3e2f6ed4",
   "metadata": {},
   "outputs": [],
   "source": [
    "image_stacking(path, dest)"
   ]
  },
  {
   "cell_type": "code",
   "execution_count": 5,
   "id": "6f00a2c0-dad6-416a-b0ec-06f6e875ee0e",
   "metadata": {},
   "outputs": [],
   "source": [
    "clear = '../stacked_new/NTU0.jpg'"
   ]
  },
  {
   "cell_type": "code",
   "execution_count": 6,
   "id": "a498314d-811e-42e5-bfcb-295027f1b636",
   "metadata": {},
   "outputs": [],
   "source": [
    "img_lib = []"
   ]
  },
  {
   "cell_type": "code",
   "execution_count": 7,
   "id": "1d9a0c41-d6a6-4a17-b3ab-85ff69f66f8c",
   "metadata": {},
   "outputs": [],
   "source": [
    "for dic in os.listdir(dest):\n",
    "    if dic != '.ipynb_checkpoints':\n",
    "        img_lib.append(dic)"
   ]
  },
  {
   "cell_type": "code",
   "execution_count": 8,
   "id": "5d5edae2-9cc8-4421-abf5-b9aece7acfaa",
   "metadata": {},
   "outputs": [],
   "source": [
    "markers_lib = dict()\n",
    "for img in img_lib:\n",
    "    markers = watershed(dest, img)\n",
    "    markers_lib[img] = markers"
   ]
  },
  {
   "cell_type": "code",
   "execution_count": 9,
   "id": "f22369bf-9285-4ca2-bab4-4900a62bce2a",
   "metadata": {},
   "outputs": [],
   "source": [
    "bottom_lib = dict()\n",
    "left_lib = dict()\n",
    "top_lib = dict()\n",
    "right_lib = dict()"
   ]
  },
  {
   "cell_type": "code",
   "execution_count": 10,
   "id": "8b7cbe6b-4d6f-42ce-9a46-24f5e068b3bb",
   "metadata": {},
   "outputs": [],
   "source": [
    "# Acquire the bottom and the leftmost point of the ROI\n",
    "# Also acquire the right and top part of the ROI for resize purposes.\n",
    "for key in markers_lib:\n",
    "    bottom = np.where(markers_lib[key]==1)[0].max()\n",
    "    bottom_lib[key] = bottom\n",
    "    top = np.where(markers_lib[key]==2)[0].min()\n",
    "    top_lib[key] = top\n",
    "    left = np.where((markers_lib[key]!=1) & (markers_lib[key]!=-1))[1].min()\n",
    "    left_lib[key] = left\n",
    "    right = np.where((markers_lib[key]!=1) & (markers_lib[key]!=-1))[1].max()\n",
    "    right_lib[key] = right\n",
    "    \n",
    "ref_b = bottom_lib['NTU0.jpg']\n",
    "ref_t = top_lib['NTU0.jpg']\n",
    "ref_l = left_lib['NTU0.jpg']\n",
    "ref_r = right_lib['NTU0.jpg']\n",
    "ratio_ref = (ref_b - ref_t) / (ref_r - ref_l)"
   ]
  },
  {
   "cell_type": "code",
   "execution_count": 11,
   "id": "7f204fc9-f932-40f3-932b-a9de446f1ab7",
   "metadata": {},
   "outputs": [],
   "source": [
    "# Some threshold values\n",
    "# 500 50 80 350\n",
    "vert_thres = 500\n",
    "horz_thres = 50\n",
    "length = 80\n",
    "dist = 300   # distance between the two cuvettes"
   ]
  },
  {
   "cell_type": "code",
   "execution_count": 12,
   "id": "0be2d0ba-352f-4716-bae4-daccc304dec8",
   "metadata": {},
   "outputs": [],
   "source": [
    "# Avoid Extracting incorrect ROI\n",
    "count = []\n",
    "for key in markers_lib:\n",
    "    c = 0\n",
    "    while markers_lib[key][bottom_lib[key]-vert_thres, left_lib[key]+horz_thres] == 1:\n",
    "        left_lib[key] += horz_thres\n",
    "        c += 1\n",
    "    count.append(c)"
   ]
  },
  {
   "cell_type": "code",
   "execution_count": 13,
   "id": "9a8d8831-33b7-4668-a197-87a74d1e001b",
   "metadata": {},
   "outputs": [
    {
     "data": {
      "text/plain": [
       "0.8421052631578947"
      ]
     },
     "execution_count": 13,
     "metadata": {},
     "output_type": "execute_result"
    }
   ],
   "source": [
    "count = np.array(count)\n",
    "recall = 1 - np.mean(np.sum(count) / np.size(count))\n",
    "recall"
   ]
  },
  {
   "cell_type": "code",
   "execution_count": 14,
   "id": "e94fe81e-3edd-408f-a256-9dd94e8ba255",
   "metadata": {},
   "outputs": [],
   "source": [
    "# Calibration\n",
    "calibrated = {}\n",
    "for img in img_lib:\n",
    "    org = plt.imread(os.path.join(dest, img))\n",
    "    org = lab_trans(clear, org)\n",
    "    calibrated[img] = org"
   ]
  },
  {
   "cell_type": "code",
   "execution_count": 15,
   "id": "631238ad-b422-4c87-9196-ea1183b37f85",
   "metadata": {},
   "outputs": [],
   "source": [
    "greyscale = {}\n",
    "for img in img_lib:\n",
    "    grey = calibrated[img]\n",
    "    grey = to_single_channel(grey)\n",
    "    greyscale[img] = grey"
   ]
  },
  {
   "cell_type": "code",
   "execution_count": 16,
   "id": "897513e8-99e3-4cef-9c39-3a229e6c5ae4",
   "metadata": {},
   "outputs": [],
   "source": [
    "# x_left represents the ROI of the reference, while x_right represents the ROI of the sample\n",
    "x_left = []\n",
    "x_right = []\n",
    "y_left = []\n",
    "y_right = []"
   ]
  },
  {
   "cell_type": "code",
   "execution_count": 17,
   "id": "b4e04046-d03f-40ba-a972-a61b9237765a",
   "metadata": {},
   "outputs": [],
   "source": [
    "vert_d = dict()\n",
    "horz_d = dict()\n",
    "length_d = dict()\n",
    "dist_d = dict()\n",
    "for key in greyscale:\n",
    "    sample_b = bottom_lib[key]\n",
    "    sample_t = top_lib[key]\n",
    "    sample_l = left_lib[key]\n",
    "    sample_r = right_lib[key]\n",
    "    ratio_width = (sample_r - sample_l) / (ref_r - ref_l)\n",
    "    ratio_height = (sample_b - sample_t) / (ref_b - ref_t)\n",
    "    vert_d[key] = int(vert_thres*ratio_height)\n",
    "    horz_d[key] = horz_thres\n",
    "    length_d[key] = int(length*ratio_height)\n",
    "    dist_d[key] = dist"
   ]
  },
  {
   "cell_type": "code",
   "execution_count": 18,
   "id": "0c3c0a7d-c725-4a1b-8e97-699ed24c928c",
   "metadata": {},
   "outputs": [],
   "source": [
    "for key in greyscale:\n",
    "    x = []\n",
    "    x1 = []\n",
    "    y = []\n",
    "    y1 = []\n",
    "    for i in range(bottom_lib[key], bottom_lib[key]-vert_d[key], -1):\n",
    "        x.append(i)\n",
    "        y.append(np.mean(greyscale[key][i-1:i, left_lib[key]+horz_d[key]:left_lib[key]+horz_d[key]+length_d[key]]))\n",
    "    x_left.append(x)\n",
    "    y_left.append(y)\n",
    "    for i in range(bottom_lib[key], bottom_lib[key]-vert_d[key], -1):\n",
    "        x1.append(i)\n",
    "        y1.append(np.mean(greyscale[key][i-1:i, left_lib[key]+horz_d[key]+dist_d[key]:\n",
    "                                         left_lib[key]+horz_d[key]+dist_d[key]+length_d[key]]))\n",
    "    x_right.append(x1)\n",
    "    y_right.append(y1)"
   ]
  },
  {
   "cell_type": "code",
   "execution_count": 20,
   "id": "e99fd2cc-ac6a-4d59-8274-929557191f8a",
   "metadata": {},
   "outputs": [],
   "source": [
    "# plot the ratio with respect to NTU\n",
    "num = []\n",
    "for img in img_lib:\n",
    "    img = img.replace('_', '.')\n",
    "    a = img.split('NTU')\n",
    "    a = [b.split('.jpg') for b in a]\n",
    "    for item in a:\n",
    "        item.remove(\"\")\n",
    "    num.append(a)"
   ]
  },
  {
   "cell_type": "code",
   "execution_count": 21,
   "id": "a4a96337-bec0-414c-b38d-a84bfc4fcac6",
   "metadata": {},
   "outputs": [],
   "source": [
    "NTU = []\n",
    "for i in num:\n",
    "    for j in i:\n",
    "        if len(j) != 0:\n",
    "            NTU.append(float(j[0]))"
   ]
  },
  {
   "cell_type": "code",
   "execution_count": 22,
   "id": "f70fc52b-4d6c-487f-841b-bf33f03f7c81",
   "metadata": {},
   "outputs": [
    {
     "data": {
      "text/plain": [
       "{'NTU85.jpg': 21.53612075617285,\n",
       " 'NTU190.jpg': 33.132019810508176,\n",
       " 'NTU156.jpg': 29.01498501498502,\n",
       " 'NTU41.jpg': 10.52607478409415,\n",
       " 'NTU87_5.jpg': 21.65384713343351,\n",
       " 'NTU44_2.jpg': 15.11178414096917,\n",
       " 'NTU76_1.jpg': 21.076329874939745,\n",
       " 'NTU0.jpg': 0.8622750000000002,\n",
       " 'NTU290.jpg': 45.55911394179737,\n",
       " 'NTU113.jpg': 25.92643158058978,\n",
       " 'NTU69_9.jpg': 19.164074017589346,\n",
       " 'NTU182.jpg': 32.32186082611756,\n",
       " 'NTU142.jpg': 34.67805034471702,\n",
       " 'NTU36_5.jpg': 13.195038997570654,\n",
       " 'NTU16_1.jpg': 7.047062146892647,\n",
       " 'NTU167.jpg': 31.064666738220446,\n",
       " 'NTU108.jpg': 24.83983258472849,\n",
       " 'NTU208.jpg': 35.11447854054623,\n",
       " 'NTU250.jpg': 36.87289363529032,\n",
       " 'NTU212.jpg': 33.85287457082329,\n",
       " 'NTU235.jpg': 35.26644115574349,\n",
       " 'NTU281.jpg': 38.85794373557243,\n",
       " 'NTU266.jpg': 37.13633265167011,\n",
       " 'NTU256.jpg': 36.77070000000005,\n",
       " 'NTU145.jpg': 24.23824786324788,\n",
       " 'NTU126.jpg': 25.88913984566159,\n",
       " 'NTU129.jpg': 25.616883116883134,\n",
       " 'NTU135.jpg': 29.20856433356432,\n",
       " 'NTU50.jpg': 15.241538316760256,\n",
       " 'NTU33_3.jpg': 5.961948029399846,\n",
       " 'NTU24_5.jpg': 9.233006611761986,\n",
       " 'NTU123.jpg': 24.104532462229503,\n",
       " 'NTU224.jpg': 35.847351561984034,\n",
       " 'NTU308.jpg': 54.50972433620835,\n",
       " 'NTU272.jpg': 46.71546769405669,\n",
       " 'NTU341.jpg': 50.63762353998201,\n",
       " 'NTU315.jpg': 53.75423822714676,\n",
       " 'NTU330.jpg': 57.16246279179071}"
      ]
     },
     "execution_count": 22,
     "metadata": {},
     "output_type": "execute_result"
    }
   ],
   "source": [
    "diff = {}\n",
    "for i in range(len(x_left)):\n",
    "    s = 0\n",
    "    mean = 0\n",
    "    for j in range(len(x_left[i])):\n",
    "        s += (y_right[i][j] - y_left[i][j])\n",
    "    mean = s / len(x_left[i])\n",
    "    diff[img_lib[i]] = abs(mean)\n",
    "diff"
   ]
  },
  {
   "cell_type": "code",
   "execution_count": 23,
   "id": "41e5435e-7fa8-43ab-b3a9-4bf98ddcc20a",
   "metadata": {},
   "outputs": [],
   "source": [
    "diff_c = diff['NTU0.jpg']\n",
    "for key in diff:\n",
    "    diff[key] -= diff_c"
   ]
  },
  {
   "cell_type": "code",
   "execution_count": 24,
   "id": "ed571063-af76-4adb-bd54-bbfecc82ec18",
   "metadata": {},
   "outputs": [],
   "source": [
    "pixel_intensity = []\n",
    "for key in diff:\n",
    "    pixel_intensity.append(diff[key])\n",
    "pixel_intensity = np.array(pixel_intensity)"
   ]
  },
  {
   "cell_type": "code",
   "execution_count": 25,
   "id": "e95d5f93-82cb-4ae3-a71f-85ab0bb93b03",
   "metadata": {},
   "outputs": [
    {
     "data": {
      "text/plain": [
       "[('NTU0.jpg', 0.0),\n",
       " ('NTU108.jpg', 23.97755758472849),\n",
       " ('NTU113.jpg', 25.06415658058978),\n",
       " ('NTU123.jpg', 23.242257462229503),\n",
       " ('NTU126.jpg', 25.02686484566159),\n",
       " ('NTU129.jpg', 24.754608116883134),\n",
       " ('NTU135.jpg', 28.346289333564318),\n",
       " ('NTU142.jpg', 33.815775344717025),\n",
       " ('NTU145.jpg', 23.37597286324788),\n",
       " ('NTU156.jpg', 28.15271001498502),\n",
       " ('NTU167.jpg', 30.202391738220445),\n",
       " ('NTU16_1.jpg', 6.1847871468926465),\n",
       " ('NTU182.jpg', 31.459585826117557),\n",
       " ('NTU190.jpg', 32.26974481050818),\n",
       " ('NTU208.jpg', 34.25220354054623),\n",
       " ('NTU212.jpg', 32.99059957082329),\n",
       " ('NTU224.jpg', 34.98507656198404),\n",
       " ('NTU235.jpg', 34.404166155743496),\n",
       " ('NTU24_5.jpg', 8.370731611761986),\n",
       " ('NTU250.jpg', 36.01061863529032),\n",
       " ('NTU256.jpg', 35.90842500000005),\n",
       " ('NTU266.jpg', 36.27405765167011),\n",
       " ('NTU272.jpg', 45.853192694056695),\n",
       " ('NTU281.jpg', 37.99566873557243),\n",
       " ('NTU290.jpg', 44.696838941797374),\n",
       " ('NTU308.jpg', 53.64744933620835),\n",
       " ('NTU315.jpg', 52.89196322714676),\n",
       " ('NTU330.jpg', 56.30018779179071),\n",
       " ('NTU33_3.jpg', 5.099673029399845),\n",
       " ('NTU341.jpg', 49.77534853998201),\n",
       " ('NTU36_5.jpg', 12.332763997570654),\n",
       " ('NTU41.jpg', 9.66379978409415),\n",
       " ('NTU44_2.jpg', 14.24950914096917),\n",
       " ('NTU50.jpg', 14.379263316760255),\n",
       " ('NTU69_9.jpg', 18.301799017589346),\n",
       " ('NTU76_1.jpg', 20.214054874939745),\n",
       " ('NTU85.jpg', 20.67384575617285),\n",
       " ('NTU87_5.jpg', 20.791572133433508)]"
      ]
     },
     "execution_count": 25,
     "metadata": {},
     "output_type": "execute_result"
    }
   ],
   "source": [
    "sorted(diff.items(), key=lambda x:x[0])"
   ]
  },
  {
   "cell_type": "code",
   "execution_count": 26,
   "id": "830dae12-8eeb-4e5e-bf87-90c1130ccf94",
   "metadata": {},
   "outputs": [],
   "source": [
    "NTU = np.array(NTU)"
   ]
  },
  {
   "cell_type": "code",
   "execution_count": 27,
   "id": "cc63ad87-139e-4f8a-9a8e-7aaaf2b4fe13",
   "metadata": {},
   "outputs": [],
   "source": [
    "df = pd.DataFrame({'pixel intensity': pixel_intensity,\n",
    "                   'turbidity (NTU)': NTU})"
   ]
  },
  {
   "cell_type": "code",
   "execution_count": 28,
   "id": "04e2bae2-9d0e-4a6c-bea5-5788f511d2e1",
   "metadata": {},
   "outputs": [
    {
     "name": "stdout",
     "output_type": "stream",
     "text": [
      "                            OLS Regression Results                            \n",
      "==============================================================================\n",
      "Dep. Variable:                    NTU   R-squared:                       0.934\n",
      "Model:                            OLS   Adj. R-squared:                  0.932\n",
      "Method:                 Least Squares   F-statistic:                     507.7\n",
      "Date:                Sun, 09 Oct 2022   Prob (F-statistic):           8.16e-23\n",
      "Time:                        17:16:58   Log-Likelihood:                -176.71\n",
      "No. Observations:                  38   AIC:                             357.4\n",
      "Df Residuals:                      36   BIC:                             360.7\n",
      "Df Model:                           1                                         \n",
      "Covariance Type:            nonrobust                                         \n",
      "===================================================================================\n",
      "                      coef    std err          t      P>|t|      [0.025      0.975]\n",
      "-----------------------------------------------------------------------------------\n",
      "Intercept         -34.7939      9.607     -3.622      0.001     -54.277     -15.311\n",
      "pixel_intensity     6.9331      0.308     22.533      0.000       6.309       7.557\n",
      "==============================================================================\n",
      "Omnibus:                        0.933   Durbin-Watson:                   1.207\n",
      "Prob(Omnibus):                  0.627   Jarque-Bera (JB):                0.977\n",
      "Skew:                           0.279   Prob(JB):                        0.614\n",
      "Kurtosis:                       2.447   Cond. No.                         71.2\n",
      "==============================================================================\n",
      "\n",
      "Notes:\n",
      "[1] Standard Errors assume that the covariance matrix of the errors is correctly specified.\n"
     ]
    }
   ],
   "source": [
    "#fit simple linear regression model\n",
    "model = ols('NTU ~ pixel_intensity', data=df).fit()\n",
    "\n",
    "#view model summary\n",
    "print(model.summary())"
   ]
  },
  {
   "cell_type": "code",
   "execution_count": 29,
   "id": "08062d38-1880-4f1d-b569-cad3b7a2db5d",
   "metadata": {},
   "outputs": [
    {
     "data": {
      "text/plain": [
       "Text(0.5, 1.0, 'Pixel Intensity V.S. NTU Value')"
      ]
     },
     "execution_count": 29,
     "metadata": {},
     "output_type": "execute_result"
    },
    {
     "data": {
      "application/vnd.jupyter.widget-view+json": {
       "model_id": "030b81b9fe534645a87804a50f062e27",
       "version_major": 2,
       "version_minor": 0
      },
      "image/png": "[encoded data removed]",
      "text/html": [
       "\n",
       "            <div style=\"display: inline-block;\">\n",
       "                <div class=\"jupyter-widgets widget-label\" style=\"text-align: center;\">\n",
       "                    Figure\n",
       "                </div>\n",
       "                <img src='data:image/png;base64,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' width=640.0/>\n",
       "            </div>\n",
       "        "
      ],
      "text/plain": [
       "Canvas(toolbar=Toolbar(toolitems=[('Home', 'Reset original view', 'home', 'home'), ('Back', 'Back to previous …"
      ]
     },
     "metadata": {},
     "output_type": "display_data"
    }
   ],
   "source": [
    "plt.figure()\n",
    "plt.plot(pixel_intensity, NTU, 'yo')\n",
    "plt.title('Pixel Intensity V.S. NTU Value')"
   ]
  },
  {
   "cell_type": "code",
   "execution_count": 30,
   "id": "a7b307f0-a1c4-409e-883c-655776d867e9",
   "metadata": {},
   "outputs": [],
   "source": [
    "theta = np.polyfit(pixel_intensity, NTU, 1)"
   ]
  },
  {
   "cell_type": "code",
   "execution_count": 31,
   "id": "3433a0bb-5b4a-4ce2-88a1-3a44543616b8",
   "metadata": {},
   "outputs": [
    {
     "data": {
      "text/plain": [
       "[<matplotlib.lines.Line2D at 0x7fe6494db2e0>]"
      ]
     },
     "execution_count": 31,
     "metadata": {},
     "output_type": "execute_result"
    }
   ],
   "source": [
    "plt.plot(pixel_intensity, theta[0]*pixel_intensity + theta[1])"
   ]
  },
  {
   "cell_type": "code",
   "execution_count": 32,
   "id": "7b142431-2159-4e9d-8c7d-0cc487b526a3",
   "metadata": {},
   "outputs": [
    {
     "data": {
      "application/vnd.jupyter.widget-view+json": {
       "model_id": "f2107cc8517748c0a6017abf78c3e08d",
       "version_major": 2,
       "version_minor": 0
      },
      "image/png": "[encoded data removed]",
      "text/html": [
       "\n",
       "            <div style=\"display: inline-block;\">\n",
       "                <div class=\"jupyter-widgets widget-label\" style=\"text-align: center;\">\n",
       "                    Figure\n",
       "                </div>\n",
       "                <img src='data:image/png;base64,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' width=640.0/>\n",
       "            </div>\n",
       "        "
      ],
      "text/plain": [
       "Canvas(toolbar=Toolbar(toolitems=[('Home', 'Reset original view', 'home', 'home'), ('Back', 'Back to previous …"
      ]
     },
     "metadata": {},
     "output_type": "display_data"
    }
   ],
   "source": [
    "# Figure 8\n",
    "#define figure size\n",
    "fig, ax = plt.subplots()\n",
    "\n",
    "#produce regression plots\n",
    "#fig = sm.graphics.plot_regress_exog(model, 'pixel_intensity', fig=fig)\n",
    "fig = sm.graphics.plot_fit(model, 'pixel_intensity', ax=ax)\n",
    "plt.savefig('../assets/model_fit.pdf', dpi=600)"
   ]
  },
  {
   "cell_type": "code",
   "execution_count": 33,
   "id": "f9859cf8-bfe5-431e-bb09-fa6d6ed35be4",
   "metadata": {},
   "outputs": [],
   "source": [
    "f = open('../assets/theta.txt', 'w')\n",
    "f.write(str(diff_c))\n",
    "f.write('\\n')\n",
    "f.write(str(theta[0]))\n",
    "f.write('\\n')\n",
    "f.write(str(theta[1]))\n",
    "f.close()"
   ]
  },
  {
   "cell_type": "code",
   "execution_count": null,
   "id": "bad440b5-4b4f-432c-9e93-51716f5fe415",
   "metadata": {},
   "outputs": [],
   "source": []
  }
 ],
 "metadata": {
  "kernelspec": {
   "display_name": "Python 3 (ipykernel)",
   "language": "python",
   "name": "python3"
  },
  "language_info": {
   "codemirror_mode": {
    "name": "ipython",
    "version": 3
   },
   "file_extension": ".py",
   "mimetype": "text/x-python",
   "name": "python",
   "nbconvert_exporter": "python",
   "pygments_lexer": "ipython3",
   "version": "3.9.13"
  }
 },
 "nbformat": 4,
 "nbformat_minor": 5
}
