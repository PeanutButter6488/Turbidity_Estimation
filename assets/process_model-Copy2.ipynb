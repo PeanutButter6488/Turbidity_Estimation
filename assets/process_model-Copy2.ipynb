{
 "cells": [
  {
   "cell_type": "markdown",
   "id": "062509cb-b398-48b7-ad9f-5cda5be5a7f2",
   "metadata": {},
   "source": [
    "### Model Fitting using Training set sampled images"
   ]
  },
  {
   "cell_type": "code",
   "execution_count": 1,
   "id": "a3c43f6e-b722-422a-b100-280acf85663f",
   "metadata": {},
   "outputs": [],
   "source": [
    "%matplotlib widget\n",
    "import numpy as np\n",
    "import pandas as pd\n",
    "from matplotlib import pyplot as plt\n",
    "import statsmodels.api as sm\n",
    "from statsmodels.formula.api import ols\n",
    "import glob\n",
    "import cv2\n",
    "\n",
    "import os\n",
    "import sys  \n",
    "import re\n",
    "sys.path.insert(0, '../dip_utils')\n",
    "\n",
    "from matrix_utils import arr_info\n",
    "from vis_utils import (vis_rgb_cube,\n",
    "                       vis_hists,\n",
    "                       vis_pair, \n",
    "                       vis_triple)\n",
    "%run watershed.ipynb\n",
    "%run calibrate.ipynb\n",
    "%run greyscale.ipynb\n",
    "%run image_stacking.ipynb\n",
    "%run whitep_elimination.ipynb\n",
    "%run skew_correction.ipynb"
   ]
  },
  {
   "cell_type": "code",
   "execution_count": 2,
   "id": "a1966a3a-d114-4963-aaaa-2c159cf6ab37",
   "metadata": {},
   "outputs": [],
   "source": [
    "path = '../sampled_images'\n",
    "dest = '../stacked_new'"
   ]
  },
  {
   "cell_type": "code",
   "execution_count": 3,
   "id": "93282153-087b-4f33-a0c2-b7b2357d15f0",
   "metadata": {},
   "outputs": [],
   "source": [
    "files = glob.glob('%s/*' % dest)\n",
    "for f in files:\n",
    "    os.remove(f)"
   ]
  },
  {
   "cell_type": "code",
   "execution_count": 4,
   "id": "fe7e2177-a218-477a-b349-e14e3e2f6ed4",
   "metadata": {},
   "outputs": [],
   "source": [
    "image_stacking(path, dest)"
   ]
  },
  {
   "cell_type": "code",
   "execution_count": 5,
   "id": "6f00a2c0-dad6-416a-b0ec-06f6e875ee0e",
   "metadata": {},
   "outputs": [],
   "source": [
    "clear = '../stacked_new/NTU0.jpg'"
   ]
  },
  {
   "cell_type": "code",
   "execution_count": 6,
   "id": "a498314d-811e-42e5-bfcb-295027f1b636",
   "metadata": {},
   "outputs": [],
   "source": [
    "img_lib = []"
   ]
  },
  {
   "cell_type": "code",
   "execution_count": 7,
   "id": "7c4abe94-82bb-4bec-8319-f013b1e46adc",
   "metadata": {},
   "outputs": [],
   "source": [
    "for dic in os.listdir(dest):\n",
    "    if dic != '.ipynb_checkpoints':\n",
    "        img_lib.append(dic)"
   ]
  },
  {
   "cell_type": "code",
   "execution_count": 8,
   "id": "5d5edae2-9cc8-4421-abf5-b9aece7acfaa",
   "metadata": {},
   "outputs": [],
   "source": [
    "markers_lib = dict()\n",
    "for img in img_lib:\n",
    "    markers = watershed(dest, img)\n",
    "    markers_lib[img] = markers"
   ]
  },
  {
   "cell_type": "code",
   "execution_count": 9,
   "id": "f22369bf-9285-4ca2-bab4-4900a62bce2a",
   "metadata": {},
   "outputs": [],
   "source": [
    "bottom_lib = dict()\n",
    "left_lib = dict()\n",
    "top_lib = dict()\n",
    "right_lib = dict()"
   ]
  },
  {
   "cell_type": "code",
   "execution_count": 10,
   "id": "8b7cbe6b-4d6f-42ce-9a46-24f5e068b3bb",
   "metadata": {},
   "outputs": [],
   "source": [
    "# Acquire the bottom and the leftmost point of the ROI\n",
    "for key in markers_lib:\n",
    "    bottom = np.where(markers_lib[key]==1)[0].max()\n",
    "    bottom_lib[key] = bottom\n",
    "    left = np.where((markers_lib[key]!=1) & (markers_lib[key]!=-1))[1].min()\n",
    "    left_lib[key] = left\n",
    "    top = np.where(markers_lib[key]==2)[0].min()\n",
    "    top_lib[key] = top\n",
    "    right = np.where((markers_lib[key]!=1) & (markers_lib[key]!=-1))[1].max()\n",
    "    right_lib[key] = right"
   ]
  },
  {
   "cell_type": "code",
   "execution_count": 11,
   "id": "a98e2cfa-f080-42c7-b9e7-7b056c7179a9",
   "metadata": {},
   "outputs": [],
   "source": [
    "# Some threshold values\n",
    "# 500 50 80 350\n",
    "vert_thres = 500\n",
    "horz_thres = 50\n",
    "length = 80\n",
    "dist = 330   # distance between the two cuvettes"
   ]
  },
  {
   "cell_type": "code",
   "execution_count": 12,
   "id": "c9d13ca5-5150-494e-af25-923f07ef51b5",
   "metadata": {},
   "outputs": [],
   "source": [
    "# Avoid Extracting incorrect ROI\n",
    "count = []\n",
    "for key in markers_lib:\n",
    "    count.append(0)\n",
    "    while markers_lib[key][bottom_lib[key]-vert_thres, left_lib[key]+horz_thres] == 1:\n",
    "        left_lib[key] += horz_thres\n",
    "        count[-1] = 1"
   ]
  },
  {
   "cell_type": "code",
   "execution_count": 13,
   "id": "8457da75-d00e-4803-a698-4337a081e06c",
   "metadata": {},
   "outputs": [
    {
     "data": {
      "text/plain": [
       "0.9736842105263158"
      ]
     },
     "execution_count": 13,
     "metadata": {},
     "output_type": "execute_result"
    }
   ],
   "source": [
    "count = np.array(count)\n",
    "recall = 1 - np.mean(np.sum(count) / np.size(count))\n",
    "recall"
   ]
  },
  {
   "cell_type": "code",
   "execution_count": 14,
   "id": "628553cd-8e42-47de-8462-536180d88892",
   "metadata": {},
   "outputs": [],
   "source": [
    "# Corners: Top left, Top right, Bottom left, Bottom right\n",
    "src_corners = dict()\n",
    "for key in markers_lib:\n",
    "    corners = []\n",
    "    tl = [left_lib[key], top_lib[key]]\n",
    "    tr = [right_lib[key], top_lib[key]]\n",
    "    bl = [left_lib[key], bottom_lib[key]]\n",
    "    br = [right_lib[key], bottom_lib[key]]\n",
    "    corners.append(tl)\n",
    "    corners.append(tr)\n",
    "    corners.append(bl)\n",
    "    corners.append(br)\n",
    "    src_corners[key] = (corners)"
   ]
  },
  {
   "cell_type": "code",
   "execution_count": 15,
   "id": "4aa0bbf0-83ab-4a92-864d-b18639700f8c",
   "metadata": {},
   "outputs": [],
   "source": [
    "dst_corners = dict()\n",
    "for key in markers_lib:\n",
    "    dst_corners[key] = get_destination_points(src_corners[key])"
   ]
  },
  {
   "cell_type": "code",
   "execution_count": 16,
   "id": "649ee6d9-d91b-4d3e-942d-005fd8713c82",
   "metadata": {},
   "outputs": [],
   "source": [
    "# Calibration\n",
    "calibrated = {}\n",
    "for img in img_lib:\n",
    "    org = plt.imread(os.path.join(dest, img))\n",
    "    org = lab_trans(clear, org)\n",
    "    calibrated[img] = org"
   ]
  },
  {
   "cell_type": "code",
   "execution_count": 17,
   "id": "31a112b6-3720-44cb-8e0b-134f4ef6c403",
   "metadata": {},
   "outputs": [],
   "source": [
    "greyscale = {}\n",
    "for img in img_lib:\n",
    "    grey = calibrated[img]\n",
    "    grey = to_single_channel(grey)\n",
    "    greyscale[img] = grey"
   ]
  },
  {
   "cell_type": "code",
   "execution_count": 18,
   "id": "9ad1f1d0-6d0e-4b9a-9256-4b700dc9193e",
   "metadata": {},
   "outputs": [],
   "source": [
    "deskewed_lib = dict()\n",
    "dimensions = dict()\n",
    "for key in greyscale:\n",
    "    deskewed = unwarp(dest, key, np.float32(src_corners[key]), dst_corners[key][0])\n",
    "    dimensions[key] = (dst_corners[key][1], dst_corners[key][2])\n",
    "    deskewed_lib[key] = deskewed"
   ]
  },
  {
   "cell_type": "code",
   "execution_count": 19,
   "id": "9f8043f2-259c-40d7-8049-c875f148679c",
   "metadata": {},
   "outputs": [],
   "source": [
    "h, w = deskewed_lib['NTU0.jpg'].shape[:2]\n",
    "resize_lib = dict()\n",
    "resize_dim = dict()\n",
    "ref = (dimensions['NTU0.jpg'][0], dimensions['NTU0.jpg'][1])\n",
    "for key in deskewed_lib:\n",
    "    dim = (dimensions[key][0] / ref[0], dimensions[key][1] / ref[1])\n",
    "    img_dim = (int(h*dim[0]), int(w*dim[1]))\n",
    "    resize_lib[key] = cv2.resize(deskewed_lib[key], img_dim, interpolation=cv2.INTER_AREA)"
   ]
  },
  {
   "cell_type": "code",
   "execution_count": 20,
   "id": "d51f0401-7b67-4f0a-8487-95fa262c5faf",
   "metadata": {},
   "outputs": [],
   "source": [
    "greyscale = {}\n",
    "for img in resize_lib:\n",
    "    grey = resize_lib[img]\n",
    "    grey = to_single_channel(grey)\n",
    "    greyscale[img] = grey"
   ]
  },
  {
   "cell_type": "code",
   "execution_count": 21,
   "id": "def4ce85-e96c-42bd-a848-be7b910acfbe",
   "metadata": {},
   "outputs": [],
   "source": [
    "# x_left represents the ROI of the reference, while x_right represents the ROI of the sample\n",
    "x_left = []\n",
    "x_right = []\n",
    "y_left = []\n",
    "y_right = []"
   ]
  },
  {
   "cell_type": "code",
   "execution_count": 22,
   "id": "d46bef18-d000-4ea8-80bd-0827061101fa",
   "metadata": {},
   "outputs": [],
   "source": [
    "for key in deskewed_lib:\n",
    "    x = []\n",
    "    x1 = []\n",
    "    y = []\n",
    "    y1 = []\n",
    "    for i in range(dst_corners[key][1], dst_corners[key][1]-vert_thres, -1):\n",
    "        x.append(i)\n",
    "        y.append(np.mean(deskewed_lib[key][i-1:i, horz_thres:horz_thres+length]))\n",
    "    x_left.append(x)\n",
    "    y_left.append(y)\n",
    "    for i in range(dst_corners[key][1], dst_corners[key][1]-vert_thres, -1):\n",
    "        x1.append(i)\n",
    "        y1.append(np.mean(deskewed_lib[key][i-1:i, horz_thres+dist:\n",
    "                                         horz_thres+dist+length]))\n",
    "    x_right.append(x1)\n",
    "    y_right.append(y1)"
   ]
  },
  {
   "cell_type": "code",
   "execution_count": 23,
   "id": "4e1075fe-7c8a-4498-a86d-4e61e5cfe0c1",
   "metadata": {},
   "outputs": [],
   "source": [
    "x_left = np.array(x_left)\n",
    "x_right = np.array(x_right)\n",
    "y_left = np.array(y_left)\n",
    "y_right = np.array(y_right)"
   ]
  },
  {
   "cell_type": "code",
   "execution_count": 24,
   "id": "ebbf0386-6cfa-4fe3-ae03-a6bb53127a7b",
   "metadata": {},
   "outputs": [
    {
     "data": {
      "text/plain": [
       "(((38, 500), dtype('int64'), 54, 766),\n",
       " ((38, 500), dtype('float64'), 14.75, 179.3875))"
      ]
     },
     "execution_count": 24,
     "metadata": {},
     "output_type": "execute_result"
    }
   ],
   "source": [
    "arr_info(x_left), arr_info(y_left)"
   ]
  },
  {
   "cell_type": "code",
   "execution_count": 25,
   "id": "de991ef1-12fb-407c-89e3-f37604e3a680",
   "metadata": {},
   "outputs": [],
   "source": [
    "# plot the ratio with respect to NTU\n",
    "num = []\n",
    "for img in img_lib:\n",
    "    img = img.replace('_', '.')\n",
    "    a = img.split('NTU')\n",
    "    a = [b.split('.jpg') for b in a]\n",
    "    for item in a:\n",
    "        item.remove(\"\")\n",
    "    num.append(a)"
   ]
  },
  {
   "cell_type": "code",
   "execution_count": 26,
   "id": "1ce0d08f-671f-4629-a3cd-a404d9da366d",
   "metadata": {},
   "outputs": [],
   "source": [
    "NTU = []\n",
    "for i in num:\n",
    "    for j in i:\n",
    "        if len(j) != 0:\n",
    "            NTU.append(float(j[0]))"
   ]
  },
  {
   "cell_type": "code",
   "execution_count": 27,
   "id": "0a73c501-0b34-4784-8304-2f2e18278165",
   "metadata": {},
   "outputs": [
    {
     "data": {
      "text/plain": [
       "{'NTU85.jpg': 21.71955833333333,\n",
       " 'NTU190.jpg': 33.458325,\n",
       " 'NTU156.jpg': 29.552416666666666,\n",
       " 'NTU41.jpg': 11.306775,\n",
       " 'NTU87_5.jpg': 21.441324999999996,\n",
       " 'NTU44_2.jpg': 22.238966666666666,\n",
       " 'NTU76_1.jpg': 20.653716666666668,\n",
       " 'NTU0.jpg': -1.3484083333333334,\n",
       " 'NTU290.jpg': 42.85125,\n",
       " 'NTU113.jpg': 25.543200000000002,\n",
       " 'NTU69_9.jpg': 19.06898333333334,\n",
       " 'NTU182.jpg': 30.08486666666667,\n",
       " 'NTU142.jpg': 33.14588333333333,\n",
       " 'NTU36_5.jpg': 13.296375,\n",
       " 'NTU16_1.jpg': 6.9844333333333335,\n",
       " 'NTU167.jpg': 31.639708333333328,\n",
       " 'NTU108.jpg': 25.536841666666668,\n",
       " 'NTU208.jpg': 32.846091666666666,\n",
       " 'NTU250.jpg': 37.743941666666665,\n",
       " 'NTU212.jpg': 33.540283333333335,\n",
       " 'NTU235.jpg': 37.319799999999994,\n",
       " 'NTU281.jpg': 40.09426666666666,\n",
       " 'NTU266.jpg': 37.66705833333334,\n",
       " 'NTU256.jpg': 36.611375,\n",
       " 'NTU145.jpg': 25.841924999999996,\n",
       " 'NTU126.jpg': 29.56655,\n",
       " 'NTU129.jpg': 26.458225,\n",
       " 'NTU135.jpg': 31.296766666666663,\n",
       " 'NTU50.jpg': 21.247841666666666,\n",
       " 'NTU33_3.jpg': 13.281024999999998,\n",
       " 'NTU24_5.jpg': 19.42638333333333,\n",
       " 'NTU123.jpg': 23.476208333333332,\n",
       " 'NTU224.jpg': 36.29006666666667,\n",
       " 'NTU308.jpg': 53.77664166666666,\n",
       " 'NTU272.jpg': 44.69518333333333,\n",
       " 'NTU341.jpg': 54.76210833333334,\n",
       " 'NTU315.jpg': 52.462875,\n",
       " 'NTU330.jpg': 56.28324166666667}"
      ]
     },
     "execution_count": 27,
     "metadata": {},
     "output_type": "execute_result"
    }
   ],
   "source": [
    "diff = {}\n",
    "for i in range(x_left.shape[0]):\n",
    "    diff[img_lib[i]] = np.mean(y_right[i] - y_left[i])\n",
    "diff"
   ]
  },
  {
   "cell_type": "code",
   "execution_count": 28,
   "id": "2be03a49-17d6-403f-b41c-d4f559cda988",
   "metadata": {},
   "outputs": [],
   "source": [
    "diff_c = diff['NTU0.jpg']\n",
    "for key in diff:\n",
    "    diff[key] -= diff_c"
   ]
  },
  {
   "cell_type": "code",
   "execution_count": 29,
   "id": "3e87bda6-bf49-4ec1-a82e-ed67c087938b",
   "metadata": {},
   "outputs": [],
   "source": [
    "pixel_intensity = []\n",
    "for key in diff:\n",
    "    pixel_intensity.append(diff[key])\n",
    "pixel_intensity = np.array(pixel_intensity)"
   ]
  },
  {
   "cell_type": "code",
   "execution_count": 30,
   "id": "46725ff9-b7e6-4f49-8ca1-59e2797d1a5c",
   "metadata": {},
   "outputs": [
    {
     "data": {
      "text/plain": [
       "[('NTU0.jpg', 0.0),\n",
       " ('NTU108.jpg', 26.88525),\n",
       " ('NTU113.jpg', 26.891608333333338),\n",
       " ('NTU123.jpg', 24.824616666666664),\n",
       " ('NTU126.jpg', 30.91495833333333),\n",
       " ('NTU129.jpg', 27.80663333333333),\n",
       " ('NTU135.jpg', 32.645174999999995),\n",
       " ('NTU142.jpg', 34.49429166666666),\n",
       " ('NTU145.jpg', 27.190333333333328),\n",
       " ('NTU156.jpg', 30.900824999999998),\n",
       " ('NTU167.jpg', 32.98811666666666),\n",
       " ('NTU16_1.jpg', 8.332841666666667),\n",
       " ('NTU182.jpg', 31.433275000000002),\n",
       " ('NTU190.jpg', 34.806733333333334),\n",
       " ('NTU208.jpg', 34.1945),\n",
       " ('NTU212.jpg', 34.888691666666666),\n",
       " ('NTU224.jpg', 37.638475),\n",
       " ('NTU235.jpg', 38.668208333333325),\n",
       " ('NTU24_5.jpg', 20.774791666666665),\n",
       " ('NTU250.jpg', 39.092349999999996),\n",
       " ('NTU256.jpg', 37.959783333333334),\n",
       " ('NTU266.jpg', 39.01546666666667),\n",
       " ('NTU272.jpg', 46.043591666666664),\n",
       " ('NTU281.jpg', 41.442674999999994),\n",
       " ('NTU290.jpg', 44.19965833333333),\n",
       " ('NTU308.jpg', 55.125049999999995),\n",
       " ('NTU315.jpg', 53.81128333333333),\n",
       " ('NTU330.jpg', 57.63165),\n",
       " ('NTU33_3.jpg', 14.629433333333331),\n",
       " ('NTU341.jpg', 56.11051666666667),\n",
       " ('NTU36_5.jpg', 14.644783333333333),\n",
       " ('NTU41.jpg', 12.655183333333333),\n",
       " ('NTU44_2.jpg', 23.587375),\n",
       " ('NTU50.jpg', 22.596249999999998),\n",
       " ('NTU69_9.jpg', 20.417391666666674),\n",
       " ('NTU76_1.jpg', 22.002125),\n",
       " ('NTU85.jpg', 23.067966666666663),\n",
       " ('NTU87_5.jpg', 22.78973333333333)]"
      ]
     },
     "execution_count": 30,
     "metadata": {},
     "output_type": "execute_result"
    }
   ],
   "source": [
    "sorted(diff.items(), key=lambda x:x[0])"
   ]
  },
  {
   "cell_type": "code",
   "execution_count": 31,
   "id": "2f22715a-4fcb-4167-8036-06ff7570344b",
   "metadata": {},
   "outputs": [],
   "source": [
    "NTU = np.array(NTU)"
   ]
  },
  {
   "cell_type": "code",
   "execution_count": 32,
   "id": "c3d966ad-1a77-4f65-86bc-be95bede873c",
   "metadata": {},
   "outputs": [],
   "source": [
    "df = pd.DataFrame({'pixel intensity': pixel_intensity,\n",
    "                   'turbidity (NTU)': NTU})"
   ]
  },
  {
   "cell_type": "code",
   "execution_count": 33,
   "id": "007247ae-db59-427b-a26a-904c6038a1c9",
   "metadata": {},
   "outputs": [
    {
     "name": "stdout",
     "output_type": "stream",
     "text": [
      "                            OLS Regression Results                            \n",
      "==============================================================================\n",
      "Dep. Variable:                    NTU   R-squared:                       0.909\n",
      "Model:                            OLS   Adj. R-squared:                  0.906\n",
      "Method:                 Least Squares   F-statistic:                     359.5\n",
      "Date:                Sun, 16 Oct 2022   Prob (F-statistic):           2.54e-20\n",
      "Time:                        13:46:56   Log-Likelihood:                -182.75\n",
      "No. Observations:                  38   AIC:                             369.5\n",
      "Df Residuals:                      36   BIC:                             372.8\n",
      "Df Model:                           1                                         \n",
      "Covariance Type:            nonrobust                                         \n",
      "===================================================================================\n",
      "                      coef    std err          t      P>|t|      [0.025      0.975]\n",
      "-----------------------------------------------------------------------------------\n",
      "Intercept         -67.2916     12.952     -5.195      0.000     -93.560     -41.023\n",
      "pixel_intensity     7.2903      0.384     18.961      0.000       6.511       8.070\n",
      "==============================================================================\n",
      "Omnibus:                        0.023   Durbin-Watson:                   1.343\n",
      "Prob(Omnibus):                  0.989   Jarque-Bera (JB):                0.206\n",
      "Skew:                           0.020   Prob(JB):                        0.902\n",
      "Kurtosis:                       2.642   Cond. No.                         88.3\n",
      "==============================================================================\n",
      "\n",
      "Notes:\n",
      "[1] Standard Errors assume that the covariance matrix of the errors is correctly specified.\n"
     ]
    }
   ],
   "source": [
    "#fit simple linear regression model\n",
    "model = ols('NTU ~ pixel_intensity', data=df).fit()\n",
    "\n",
    "#view model summary\n",
    "print(model.summary())"
   ]
  },
  {
   "cell_type": "code",
   "execution_count": 34,
   "id": "a34fd149-9595-4373-94c3-bcf46da478a9",
   "metadata": {},
   "outputs": [
    {
     "data": {
      "text/plain": [
       "Text(0.5, 1.0, 'Pixel Intensity V.S. NTU Value')"
      ]
     },
     "execution_count": 34,
     "metadata": {},
     "output_type": "execute_result"
    },
    {
     "data": {
      "application/vnd.jupyter.widget-view+json": {
       "model_id": "1c94f7e0db4c4928ad6547d4c01a0a37",
       "version_major": 2,
       "version_minor": 0
      },
      "image/png": "[encoded data removed]",
      "text/html": [
       "\n",
       "            <div style=\"display: inline-block;\">\n",
       "                <div class=\"jupyter-widgets widget-label\" style=\"text-align: center;\">\n",
       "                    Figure\n",
       "                </div>\n",
       "                <img src='data:image/png;base64,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' width=640.0/>\n",
       "            </div>\n",
       "        "
      ],
      "text/plain": [
       "Canvas(toolbar=Toolbar(toolitems=[('Home', 'Reset original view', 'home', 'home'), ('Back', 'Back to previous …"
      ]
     },
     "metadata": {},
     "output_type": "display_data"
    }
   ],
   "source": [
    "plt.figure()\n",
    "plt.plot(pixel_intensity, NTU, 'yo')\n",
    "plt.title('Pixel Intensity V.S. NTU Value')"
   ]
  },
  {
   "cell_type": "code",
   "execution_count": 35,
   "id": "1fca3b38-5f39-4b2f-959f-ffda5e9df317",
   "metadata": {},
   "outputs": [],
   "source": [
    "theta = np.polyfit(pixel_intensity, NTU, 1)"
   ]
  },
  {
   "cell_type": "code",
   "execution_count": 39,
   "id": "c76d7e12-37e1-4223-a3da-377abec76933",
   "metadata": {},
   "outputs": [
    {
     "data": {
      "text/plain": [
       "array([  7.29031192, -67.29156936])"
      ]
     },
     "execution_count": 39,
     "metadata": {},
     "output_type": "execute_result"
    }
   ],
   "source": [
    "theta"
   ]
  },
  {
   "cell_type": "code",
   "execution_count": 36,
   "id": "0af381f2-47aa-4c75-8f6d-04a343aff5c9",
   "metadata": {},
   "outputs": [
    {
     "data": {
      "text/plain": [
       "[<matplotlib.lines.Line2D at 0x7f7b528b73d0>]"
      ]
     },
     "execution_count": 36,
     "metadata": {},
     "output_type": "execute_result"
    }
   ],
   "source": [
    "plt.plot(pixel_intensity, theta[0]*pixel_intensity + theta[1])"
   ]
  },
  {
   "cell_type": "code",
   "execution_count": 37,
   "id": "7ae36ba3-8adc-4949-a28f-acb583f37d72",
   "metadata": {},
   "outputs": [
    {
     "data": {
      "application/vnd.jupyter.widget-view+json": {
       "model_id": "ddf98a78ead74754920f4b98f1b00b70",
       "version_major": 2,
       "version_minor": 0
      },
      "image/png": "[encoded data removed]",
      "text/html": [
       "\n",
       "            <div style=\"display: inline-block;\">\n",
       "                <div class=\"jupyter-widgets widget-label\" style=\"text-align: center;\">\n",
       "                    Figure\n",
       "                </div>\n",
       "                <img src='data:image/png;base64,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' width=640.0/>\n",
       "            </div>\n",
       "        "
      ],
      "text/plain": [
       "Canvas(toolbar=Toolbar(toolitems=[('Home', 'Reset original view', 'home', 'home'), ('Back', 'Back to previous …"
      ]
     },
     "metadata": {},
     "output_type": "display_data"
    }
   ],
   "source": [
    "# Figure 8\n",
    "#define figure size\n",
    "fig, ax = plt.subplots()\n",
    "\n",
    "#produce regression plots\n",
    "#fig = sm.graphics.plot_regress_exog(model, 'pixel_intensity', fig=fig)\n",
    "fig = sm.graphics.plot_fit(model, 'pixel_intensity', ax=ax)\n",
    "plt.savefig('../assets/model_fit.pdf', dpi=600)"
   ]
  },
  {
   "cell_type": "code",
   "execution_count": 38,
   "id": "36ae8a0a-296b-4d4b-9878-807348ff9b4e",
   "metadata": {},
   "outputs": [],
   "source": [
    "f = open('../assets/theta.txt', 'w')\n",
    "f.write(str(diff_c))\n",
    "f.write('\\n')\n",
    "f.write(str(theta[0]))\n",
    "f.write('\\n')\n",
    "f.write(str(theta[1]))\n",
    "f.close()"
   ]
  },
  {
   "cell_type": "code",
   "execution_count": null,
   "id": "28b20087-0784-4047-a087-16e9b3ae2d31",
   "metadata": {},
   "outputs": [],
   "source": []
  }
 ],
 "metadata": {
  "kernelspec": {
   "display_name": "Python 3 (ipykernel)",
   "language": "python",
   "name": "python3"
  },
  "language_info": {
   "codemirror_mode": {
    "name": "ipython",
    "version": 3
   },
   "file_extension": ".py",
   "mimetype": "text/x-python",
   "name": "python",
   "nbconvert_exporter": "python",
   "pygments_lexer": "ipython3",
   "version": "3.9.13"
  }
 },
 "nbformat": 4,
 "nbformat_minor": 5
}
