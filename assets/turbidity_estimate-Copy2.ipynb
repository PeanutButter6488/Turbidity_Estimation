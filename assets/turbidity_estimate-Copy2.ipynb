{
 "cells": [
  {
   "cell_type": "markdown",
   "id": "69c55e06-7f3e-496e-a63b-7d5bbfed502b",
   "metadata": {},
   "source": [
    "### Turbidity Estimation using test set sampled images"
   ]
  },
  {
   "cell_type": "code",
   "execution_count": 1,
   "id": "f4b99865-38af-4f85-877a-a0464c968762",
   "metadata": {},
   "outputs": [],
   "source": [
    "%matplotlib widget\n",
    "from sklearn.metrics import r2_score\n",
    "from matplotlib import pyplot as plt\n",
    "import numpy as np\n",
    "import collections\n",
    "import glob\n",
    "import os\n",
    "import sys \n",
    "import pandas as pd\n",
    "import statsmodels.api as sm\n",
    "from statsmodels.formula.api import ols\n",
    "sys.path.insert(0, '../dip_utils')\n",
    "from matrix_utils import arr_info\n",
    "from vis_utils import (vis_pair, \n",
    "                       vis_triple)\n",
    "%run watershed.ipynb\n",
    "%run calibrate.ipynb\n",
    "%run greyscale.ipynb\n",
    "%run image_stacking.ipynb\n",
    "%run whitep_elimination.ipynb\n",
    "%run skew_correction.ipynb"
   ]
  },
  {
   "cell_type": "code",
   "execution_count": 2,
   "id": "9d3c5809-3159-4f3b-b22f-e730d8fa6abd",
   "metadata": {},
   "outputs": [],
   "source": [
    "path = '../test_images/'\n",
    "dest = '../stacked_test/'\n",
    "clear = '../stacked_new/NTU0.jpg'"
   ]
  },
  {
   "cell_type": "code",
   "execution_count": 3,
   "id": "e8b28784-4a38-4072-8e24-699eb9908fe5",
   "metadata": {
    "scrolled": true
   },
   "outputs": [],
   "source": [
    "%%bash\n",
    "cd ../stacked_test/\n",
    "rm -r *"
   ]
  },
  {
   "cell_type": "code",
   "execution_count": 4,
   "id": "38d7792e-7b1d-4865-b5d2-f451afef01aa",
   "metadata": {},
   "outputs": [],
   "source": [
    "image_stacking(path, dest)"
   ]
  },
  {
   "cell_type": "code",
   "execution_count": 5,
   "id": "ecab057b-f554-40fe-aedf-ae90aa9bd93b",
   "metadata": {},
   "outputs": [],
   "source": [
    "image = []\n",
    "filename = []\n",
    "for dic in os.listdir(dest):\n",
    "    if dic != '.ipynb_checkpoints':\n",
    "        filename.append(dic)\n",
    "for dic in os.listdir(dest):\n",
    "    d = os.path.join(dest, dic)  # directory of water samples\n",
    "    if not d.endswith('.ipynb_checkpoints'):\n",
    "        img = plt.imread(d)\n",
    "        image.append(img)"
   ]
  },
  {
   "cell_type": "code",
   "execution_count": 6,
   "id": "21e6d4a2-7d87-41eb-a244-bd6ad3ca8d64",
   "metadata": {},
   "outputs": [],
   "source": [
    "img_lib = {}\n",
    "for i in range(len(filename)):\n",
    "    img_lib[filename[i]] = image[i]"
   ]
  },
  {
   "cell_type": "code",
   "execution_count": 7,
   "id": "9231b00a-6b9a-4833-871d-7d90969e41c8",
   "metadata": {},
   "outputs": [],
   "source": [
    "markers_lib = dict()\n",
    "for img in img_lib:\n",
    "    markers = watershed(dest, img)\n",
    "    markers_lib[img] = markers"
   ]
  },
  {
   "cell_type": "code",
   "execution_count": 8,
   "id": "e4ae60d7-9af8-4ecf-8521-9eeb36189bf5",
   "metadata": {},
   "outputs": [],
   "source": [
    "bottom_lib = dict()\n",
    "left_lib = dict()\n",
    "top_lib = dict()\n",
    "right_lib = dict()"
   ]
  },
  {
   "cell_type": "code",
   "execution_count": 9,
   "id": "c6e85aaa-0299-4185-a612-88f63bc47212",
   "metadata": {},
   "outputs": [],
   "source": [
    "# Acquire the bottom and the leftmost point of the ROI\n",
    "for key in markers_lib:\n",
    "    bottom = np.where(markers_lib[key]==1)[0].max()\n",
    "    bottom_lib[key] = bottom\n",
    "    left = np.where((markers_lib[key]!=1) & (markers_lib[key]!=-1))[1].min()\n",
    "    left_lib[key] = left\n",
    "    top = np.where(markers_lib[key]==2)[0].min()\n",
    "    top_lib[key] = top\n",
    "    right = np.where((markers_lib[key]!=1) & (markers_lib[key]!=-1))[1].max()\n",
    "    right_lib[key] = right"
   ]
  },
  {
   "cell_type": "code",
   "execution_count": 10,
   "id": "a3acd182-f2a0-4f2e-8e95-46c29794cea6",
   "metadata": {},
   "outputs": [],
   "source": [
    "# Some threshold values\n",
    "envir = ['NTU19_0.jpg', 'NTU3_18.jpg', 'NTU4_05.jpg']\n",
    "# 550 50 80 350\n",
    "vert_thres = 500\n",
    "horz_thres = 50\n",
    "length = 80\n",
    "dist = 330"
   ]
  },
  {
   "cell_type": "code",
   "execution_count": 11,
   "id": "907d1dc0-6907-4740-a56c-3fbea2586dde",
   "metadata": {},
   "outputs": [
    {
     "data": {
      "text/plain": [
       "{'NTU164.jpg': 192,\n",
       " 'NTU74_5.jpg': 260,\n",
       " 'NTU236.jpg': 193,\n",
       " 'NTU137.jpg': 153,\n",
       " 'NTU50_5.jpg': 210,\n",
       " 'NTU35_2.jpg': 205,\n",
       " 'NTU334.jpg': 241,\n",
       " 'NTU263.jpg': 253,\n",
       " 'NTU185.jpg': 222,\n",
       " 'NTU358.jpg': 121,\n",
       " 'NTU214.jpg': 224,\n",
       " 'NTU160.jpg': 166,\n",
       " 'NTU65_3.jpg': 78,\n",
       " 'NTU374.jpg': 208,\n",
       " 'NTU43_3.jpg': 204,\n",
       " 'NTU148.jpg': 209,\n",
       " 'NTU127.jpg': 120,\n",
       " 'NTU323.jpg': 131,\n",
       " 'NTU109.jpg': 199,\n",
       " 'NTU296.jpg': 158,\n",
       " 'NTU417.jpg': 183}"
      ]
     },
     "execution_count": 11,
     "metadata": {},
     "output_type": "execute_result"
    }
   ],
   "source": [
    "# Avoid Extracting incorrect ROI\n",
    "for key in markers_lib:\n",
    "    while markers_lib[key][bottom_lib[key]-vert_thres, left_lib[key]+horz_thres] == 1:\n",
    "        left_lib[key] += horz_thres\n",
    "    # if key in envir:\n",
    "    #     left_lib[key] += 3*horz_thres\n",
    "left_lib"
   ]
  },
  {
   "cell_type": "code",
   "execution_count": 12,
   "id": "22a8c513-9313-457b-aafc-3ccdca77a3d3",
   "metadata": {},
   "outputs": [],
   "source": [
    "# Corners: Top left, Top right, Bottom left, Bottom right\n",
    "src_corners = dict()\n",
    "for key in markers_lib:\n",
    "    corners = []\n",
    "    tl = [left_lib[key], top_lib[key]]\n",
    "    tr = [right_lib[key], top_lib[key]]\n",
    "    bl = [left_lib[key], bottom_lib[key]]\n",
    "    br = [right_lib[key], bottom_lib[key]]\n",
    "    corners.append(tl)\n",
    "    corners.append(tr)\n",
    "    corners.append(bl)\n",
    "    corners.append(br)\n",
    "    src_corners[key] = (corners)"
   ]
  },
  {
   "cell_type": "code",
   "execution_count": 13,
   "id": "e95bf249-e52c-4d2d-a3bc-8a555b6b06e2",
   "metadata": {},
   "outputs": [],
   "source": [
    "dst_corners = dict()\n",
    "for key in markers_lib:\n",
    "    dst_corners[key] = get_destination_points(src_corners[key])"
   ]
  },
  {
   "cell_type": "code",
   "execution_count": 14,
   "id": "ecfd7472-b158-4229-9ea6-869c77798328",
   "metadata": {},
   "outputs": [],
   "source": [
    "# Calibration\n",
    "calibrated = {}\n",
    "for img in img_lib:\n",
    "    org = plt.imread(os.path.join(dest, img))\n",
    "    org = lab_trans(clear, org)\n",
    "    calibrated[img] = org"
   ]
  },
  {
   "cell_type": "code",
   "execution_count": 15,
   "id": "67eff439-424f-4ed0-ab4f-27dd681dadb2",
   "metadata": {},
   "outputs": [],
   "source": [
    "greyscale = {}\n",
    "for img in img_lib:\n",
    "    grey = calibrated[img]\n",
    "    grey = to_single_channel(grey)\n",
    "    greyscale[img] = grey"
   ]
  },
  {
   "cell_type": "code",
   "execution_count": 16,
   "id": "5e21ea11-0861-4e6f-b5eb-43952698f285",
   "metadata": {},
   "outputs": [],
   "source": [
    "deskewed_lib = dict()\n",
    "dimensions = dict()\n",
    "for key in greyscale:\n",
    "    deskewed = unwarp(dest, key, np.float32(src_corners[key]), dst_corners[key][0])\n",
    "    dimensions[key] = (dst_corners[key][1], dst_corners[key][2])\n",
    "    deskewed_lib[key] = deskewed"
   ]
  },
  {
   "cell_type": "code",
   "execution_count": 17,
   "id": "b6aad1d7-94ae-4042-b3f3-030c33734a51",
   "metadata": {},
   "outputs": [],
   "source": [
    "greyscale = {}\n",
    "for img in deskewed_lib:\n",
    "    grey = deskewed_lib[img]\n",
    "    grey = to_single_channel(grey)\n",
    "    greyscale[img] = grey"
   ]
  },
  {
   "cell_type": "code",
   "execution_count": 18,
   "id": "91b4f250-52be-47c0-bc81-bd6e45b330d7",
   "metadata": {},
   "outputs": [],
   "source": [
    "# x_left represents the ROI of the reference, while x_right represents the ROI of the sample\n",
    "x_left = []\n",
    "x_right = []\n",
    "y_left = []\n",
    "y_right = []"
   ]
  },
  {
   "cell_type": "code",
   "execution_count": 19,
   "id": "593686e2-32d0-4aac-ac28-9f2eb1d9152e",
   "metadata": {},
   "outputs": [],
   "source": [
    "for key in deskewed_lib:\n",
    "    x = []\n",
    "    x1 = []\n",
    "    y = []\n",
    "    y1 = []\n",
    "    for i in range(dst_corners[key][1], dst_corners[key][1]-vert_thres, -1):\n",
    "        x.append(i)\n",
    "        y.append(np.mean(deskewed_lib[key][i-1:i, horz_thres:horz_thres+length]))\n",
    "    x_left.append(x)\n",
    "    y_left.append(y)\n",
    "    for i in range(dst_corners[key][1], dst_corners[key][1]-vert_thres, -1):\n",
    "        x1.append(i)\n",
    "        y1.append(np.mean(deskewed_lib[key][i-1:i, horz_thres+dist:\n",
    "                                         horz_thres+dist+length]))\n",
    "    x_right.append(x1)\n",
    "    y_right.append(y1)"
   ]
  },
  {
   "cell_type": "code",
   "execution_count": 20,
   "id": "d6b40118-8988-419d-ab21-fd6b7de3c7bb",
   "metadata": {},
   "outputs": [],
   "source": [
    "x_left = np.array(x_left)\n",
    "x_right = np.array(x_right)\n",
    "y_left = np.array(y_left)\n",
    "y_right = np.array(y_right)"
   ]
  },
  {
   "cell_type": "code",
   "execution_count": 21,
   "id": "4951527d-09b5-42ea-b291-5ce5b7d4e711",
   "metadata": {},
   "outputs": [],
   "source": [
    "# plot the ratio with respect to NTU\n",
    "num = []\n",
    "for img in img_lib:\n",
    "    img = img.replace('_', '.')\n",
    "    a = img.split('NTU')\n",
    "    a = [b.split('.jpg') for b in a]\n",
    "    for item in a:\n",
    "        item.remove(\"\")\n",
    "    num.append(a)"
   ]
  },
  {
   "cell_type": "code",
   "execution_count": 22,
   "id": "5a3c09a4-53ef-4c5d-9bfe-e8f42bd5ee21",
   "metadata": {},
   "outputs": [],
   "source": [
    "NTU = []\n",
    "for i in num:\n",
    "    for j in i:\n",
    "        if len(j) != 0:\n",
    "            NTU.append(float(j[0]))"
   ]
  },
  {
   "cell_type": "code",
   "execution_count": 23,
   "id": "53d1c380-ee78-4b29-bec8-aff197144311",
   "metadata": {},
   "outputs": [],
   "source": [
    "f = open('../assets/theta.txt')\n",
    "thresholds = f.readlines()\n",
    "for i in range(len(thresholds)):\n",
    "    thresholds[i] = thresholds[i].strip()\n",
    "    thresholds[i] = float(thresholds[i])"
   ]
  },
  {
   "cell_type": "code",
   "execution_count": 24,
   "id": "a649184f-d49a-43e5-afc2-cf84477990e0",
   "metadata": {},
   "outputs": [],
   "source": [
    "diff = []\n",
    "for i in range(x_left.shape[0]):\n",
    "    diff.append(abs(np.mean(abs(y_right[i] - y_left[i]))))"
   ]
  },
  {
   "cell_type": "code",
   "execution_count": 25,
   "id": "1c1f9d42-e96b-4836-8e53-035a3593ea0d",
   "metadata": {},
   "outputs": [],
   "source": [
    "for i in range(len(diff)):\n",
    "    diff[i] -= thresholds[0]"
   ]
  },
  {
   "cell_type": "code",
   "execution_count": 26,
   "id": "865142ff-1267-42e1-9e56-cb56be772f18",
   "metadata": {},
   "outputs": [
    {
     "data": {
      "text/plain": [
       "9.230273012056061"
      ]
     },
     "execution_count": 26,
     "metadata": {},
     "output_type": "execute_result"
    }
   ],
   "source": [
    "correction = abs(thresholds[2] / thresholds[1])\n",
    "correction"
   ]
  },
  {
   "cell_type": "code",
   "execution_count": 27,
   "id": "d8899706-f3c9-4b30-af9f-1fd4658a7980",
   "metadata": {},
   "outputs": [],
   "source": [
    "estimated = [abs(round(diff[i]*thresholds[1]+thresholds[2], 2)) for i in range(len(diff))]"
   ]
  },
  {
   "cell_type": "code",
   "execution_count": 28,
   "id": "b28b65f1-fae7-4151-83f8-9728cf1c232e",
   "metadata": {},
   "outputs": [],
   "source": [
    "pair = dict(zip(NTU, estimated))"
   ]
  },
  {
   "cell_type": "code",
   "execution_count": 29,
   "id": "78cd4275-e011-48cc-b7d6-f85abcb23c3a",
   "metadata": {},
   "outputs": [],
   "source": [
    "od_NTU = []\n",
    "od_estimated = []\n",
    "for key, value in sorted(pair.items()):\n",
    "    od_NTU.append(key)\n",
    "    od_estimated.append(value)"
   ]
  },
  {
   "cell_type": "code",
   "execution_count": 30,
   "id": "79c25f59-d4bd-4443-b63a-73fee70dc906",
   "metadata": {},
   "outputs": [],
   "source": [
    "r2 = r2_score(od_NTU, od_estimated)\n",
    "r2 = round(r2, 3)"
   ]
  },
  {
   "cell_type": "code",
   "execution_count": 31,
   "id": "2eb99126-6526-4829-99b5-f774a60f667a",
   "metadata": {},
   "outputs": [],
   "source": [
    "df = pd.DataFrame(list(zip(od_NTU, od_estimated)),\n",
    "               columns =['Actual_NTU', 'Estimated_NTU'])"
   ]
  },
  {
   "cell_type": "code",
   "execution_count": 32,
   "id": "0ec86aeb-5ec0-4b69-b64b-93942682e346",
   "metadata": {
    "scrolled": true,
    "tags": []
   },
   "outputs": [
    {
     "data": {
      "text/html": [
       "<div>\n",
       "<style scoped>\n",
       "    .dataframe tbody tr th:only-of-type {\n",
       "        vertical-align: middle;\n",
       "    }\n",
       "\n",
       "    .dataframe tbody tr th {\n",
       "        vertical-align: top;\n",
       "    }\n",
       "\n",
       "    .dataframe thead th {\n",
       "        text-align: right;\n",
       "    }\n",
       "</style>\n",
       "<table border=\"1\" class=\"dataframe\">\n",
       "  <thead>\n",
       "    <tr style=\"text-align: right;\">\n",
       "      <th></th>\n",
       "      <th>Actual_NTU</th>\n",
       "      <th>Estimated_NTU</th>\n",
       "      <th>R^2</th>\n",
       "    </tr>\n",
       "  </thead>\n",
       "  <tbody>\n",
       "    <tr>\n",
       "      <th>0</th>\n",
       "      <td>35.2</td>\n",
       "      <td>28.02</td>\n",
       "      <td>0.975</td>\n",
       "    </tr>\n",
       "    <tr>\n",
       "      <th>1</th>\n",
       "      <td>43.3</td>\n",
       "      <td>67.26</td>\n",
       "      <td>0.975</td>\n",
       "    </tr>\n",
       "    <tr>\n",
       "      <th>2</th>\n",
       "      <td>50.5</td>\n",
       "      <td>58.13</td>\n",
       "      <td>0.975</td>\n",
       "    </tr>\n",
       "    <tr>\n",
       "      <th>3</th>\n",
       "      <td>65.3</td>\n",
       "      <td>48.46</td>\n",
       "      <td>0.975</td>\n",
       "    </tr>\n",
       "    <tr>\n",
       "      <th>4</th>\n",
       "      <td>74.5</td>\n",
       "      <td>68.12</td>\n",
       "      <td>0.975</td>\n",
       "    </tr>\n",
       "    <tr>\n",
       "      <th>5</th>\n",
       "      <td>109.0</td>\n",
       "      <td>120.85</td>\n",
       "      <td>0.975</td>\n",
       "    </tr>\n",
       "    <tr>\n",
       "      <th>6</th>\n",
       "      <td>127.0</td>\n",
       "      <td>154.40</td>\n",
       "      <td>0.975</td>\n",
       "    </tr>\n",
       "    <tr>\n",
       "      <th>7</th>\n",
       "      <td>137.0</td>\n",
       "      <td>168.61</td>\n",
       "      <td>0.975</td>\n",
       "    </tr>\n",
       "    <tr>\n",
       "      <th>8</th>\n",
       "      <td>148.0</td>\n",
       "      <td>181.81</td>\n",
       "      <td>0.975</td>\n",
       "    </tr>\n",
       "    <tr>\n",
       "      <th>9</th>\n",
       "      <td>160.0</td>\n",
       "      <td>137.86</td>\n",
       "      <td>0.975</td>\n",
       "    </tr>\n",
       "    <tr>\n",
       "      <th>10</th>\n",
       "      <td>164.0</td>\n",
       "      <td>162.55</td>\n",
       "      <td>0.975</td>\n",
       "    </tr>\n",
       "    <tr>\n",
       "      <th>11</th>\n",
       "      <td>185.0</td>\n",
       "      <td>175.52</td>\n",
       "      <td>0.975</td>\n",
       "    </tr>\n",
       "    <tr>\n",
       "      <th>12</th>\n",
       "      <td>214.0</td>\n",
       "      <td>201.04</td>\n",
       "      <td>0.975</td>\n",
       "    </tr>\n",
       "    <tr>\n",
       "      <th>13</th>\n",
       "      <td>236.0</td>\n",
       "      <td>259.77</td>\n",
       "      <td>0.975</td>\n",
       "    </tr>\n",
       "    <tr>\n",
       "      <th>14</th>\n",
       "      <td>263.0</td>\n",
       "      <td>248.09</td>\n",
       "      <td>0.975</td>\n",
       "    </tr>\n",
       "    <tr>\n",
       "      <th>15</th>\n",
       "      <td>296.0</td>\n",
       "      <td>305.44</td>\n",
       "      <td>0.975</td>\n",
       "    </tr>\n",
       "    <tr>\n",
       "      <th>16</th>\n",
       "      <td>323.0</td>\n",
       "      <td>342.37</td>\n",
       "      <td>0.975</td>\n",
       "    </tr>\n",
       "    <tr>\n",
       "      <th>17</th>\n",
       "      <td>334.0</td>\n",
       "      <td>358.32</td>\n",
       "      <td>0.975</td>\n",
       "    </tr>\n",
       "    <tr>\n",
       "      <th>18</th>\n",
       "      <td>358.0</td>\n",
       "      <td>360.40</td>\n",
       "      <td>0.975</td>\n",
       "    </tr>\n",
       "    <tr>\n",
       "      <th>19</th>\n",
       "      <td>374.0</td>\n",
       "      <td>371.76</td>\n",
       "      <td>0.975</td>\n",
       "    </tr>\n",
       "    <tr>\n",
       "      <th>20</th>\n",
       "      <td>417.0</td>\n",
       "      <td>398.79</td>\n",
       "      <td>0.975</td>\n",
       "    </tr>\n",
       "  </tbody>\n",
       "</table>\n",
       "</div>"
      ],
      "text/plain": [
       "    Actual_NTU  Estimated_NTU    R^2\n",
       "0         35.2          28.02  0.975\n",
       "1         43.3          67.26  0.975\n",
       "2         50.5          58.13  0.975\n",
       "3         65.3          48.46  0.975\n",
       "4         74.5          68.12  0.975\n",
       "5        109.0         120.85  0.975\n",
       "6        127.0         154.40  0.975\n",
       "7        137.0         168.61  0.975\n",
       "8        148.0         181.81  0.975\n",
       "9        160.0         137.86  0.975\n",
       "10       164.0         162.55  0.975\n",
       "11       185.0         175.52  0.975\n",
       "12       214.0         201.04  0.975\n",
       "13       236.0         259.77  0.975\n",
       "14       263.0         248.09  0.975\n",
       "15       296.0         305.44  0.975\n",
       "16       323.0         342.37  0.975\n",
       "17       334.0         358.32  0.975\n",
       "18       358.0         360.40  0.975\n",
       "19       374.0         371.76  0.975\n",
       "20       417.0         398.79  0.975"
      ]
     },
     "execution_count": 32,
     "metadata": {},
     "output_type": "execute_result"
    }
   ],
   "source": [
    "df['R^2'] = r2\n",
    "df"
   ]
  },
  {
   "cell_type": "code",
   "execution_count": 33,
   "id": "e0653f98-6f10-4bcc-a8b5-f458ed13a5e5",
   "metadata": {},
   "outputs": [],
   "source": [
    "df.to_csv('../assets/prediction.csv')"
   ]
  },
  {
   "cell_type": "code",
   "execution_count": 34,
   "id": "cff44bfd-d929-4f85-a0b5-928ef91560e2",
   "metadata": {},
   "outputs": [
    {
     "name": "stdout",
     "output_type": "stream",
     "text": [
      "                            OLS Regression Results                            \n",
      "==============================================================================\n",
      "Dep. Variable:          Estimated_NTU   R-squared:                       0.977\n",
      "Model:                            OLS   Adj. R-squared:                  0.976\n",
      "Method:                 Least Squares   F-statistic:                     810.8\n",
      "Date:                Sun, 16 Oct 2022   Prob (F-statistic):           4.78e-17\n",
      "Time:                        13:48:06   Log-Likelihood:                -89.881\n",
      "No. Observations:                  21   AIC:                             183.8\n",
      "Df Residuals:                      19   BIC:                             185.9\n",
      "Df Model:                           1                                         \n",
      "Covariance Type:            nonrobust                                         \n",
      "==============================================================================\n",
      "                 coef    std err          t      P>|t|      [0.025      0.975]\n",
      "------------------------------------------------------------------------------\n",
      "Intercept      7.4813      7.886      0.949      0.355      -9.025      23.987\n",
      "Actual_NTU     0.9870      0.035     28.475      0.000       0.914       1.060\n",
      "==============================================================================\n",
      "Omnibus:                        5.784   Durbin-Watson:                   1.634\n",
      "Prob(Omnibus):                  0.055   Jarque-Bera (JB):                1.698\n",
      "Skew:                           0.117   Prob(JB):                        0.428\n",
      "Kurtosis:                       1.627   Cond. No.                         447.\n",
      "==============================================================================\n",
      "\n",
      "Notes:\n",
      "[1] Standard Errors assume that the covariance matrix of the errors is correctly specified.\n"
     ]
    }
   ],
   "source": [
    "# Figure 10\n",
    "model = ols('Estimated_NTU ~ Actual_NTU', data=df).fit()\n",
    "\n",
    "#view model summary\n",
    "print(model.summary())"
   ]
  },
  {
   "cell_type": "code",
   "execution_count": 35,
   "id": "296d965b-e798-47dd-84f9-880da26dd862",
   "metadata": {},
   "outputs": [],
   "source": [
    "# # Figure 9\n",
    "# #define figure size\n",
    "# fig = plt.figure(figsize=(12,8))\n",
    "\n",
    "# #produce regression plots\n",
    "# fig = sm.graphics.plot_regress_exog(model, 'Actual_NTU', fig=fig)\n",
    "# plt.savefig('../assets/test_fit.pdf', dpi=600)\n",
    "# plt.show()"
   ]
  },
  {
   "cell_type": "code",
   "execution_count": 36,
   "id": "b099a875-33cd-4bc3-b397-123357154642",
   "metadata": {},
   "outputs": [
    {
     "data": {
      "application/vnd.jupyter.widget-view+json": {
       "model_id": "dff252be6ae84873bdf22000b3aeb466",
       "version_major": 2,
       "version_minor": 0
      },
      "image/png": "[encoded data removed]",
      "text/html": [
       "\n",
       "            <div style=\"display: inline-block;\">\n",
       "                <div class=\"jupyter-widgets widget-label\" style=\"text-align: center;\">\n",
       "                    Figure\n",
       "                </div>\n",
       "                <img src='data:image/png;base64,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' width=640.0/>\n",
       "            </div>\n",
       "        "
      ],
      "text/plain": [
       "Canvas(toolbar=Toolbar(toolitems=[('Home', 'Reset original view', 'home', 'home'), ('Back', 'Back to previous …"
      ]
     },
     "metadata": {},
     "output_type": "display_data"
    }
   ],
   "source": [
    "fig, ax = plt.subplots()\n",
    "\n",
    "#produce regression plots\n",
    "#fig = sm.graphics.plot_regress_exog(model, 'pixel_intensity', fig=fig)\n",
    "fig = sm.graphics.plot_fit(model, 'Actual_NTU', ax=ax)\n",
    "plt.savefig('../assets/test_fit.pdf', dpi=600)"
   ]
  },
  {
   "cell_type": "code",
   "execution_count": null,
   "id": "83f41a90",
   "metadata": {},
   "outputs": [],
   "source": []
  },
  {
   "cell_type": "code",
   "execution_count": null,
   "id": "c0c9ea16",
   "metadata": {},
   "outputs": [],
   "source": []
  }
 ],
 "metadata": {
  "kernelspec": {
   "display_name": "Python 3 (ipykernel)",
   "language": "python",
   "name": "python3"
  },
  "language_info": {
   "codemirror_mode": {
    "name": "ipython",
    "version": 3
   },
   "file_extension": ".py",
   "mimetype": "text/x-python",
   "name": "python",
   "nbconvert_exporter": "python",
   "pygments_lexer": "ipython3",
   "version": "3.9.13"
  }
 },
 "nbformat": 4,
 "nbformat_minor": 5
}
