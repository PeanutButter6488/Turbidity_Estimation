{
 "cells": [
  {
   "cell_type": "markdown",
   "id": "dadbac34-e20c-4952-b342-81c9116f95cb",
   "metadata": {},
   "source": [
    "### Image Stacking\n",
    "\n",
    "we perform image stacking to stack multiple images of the samples to reduce signal-to-noise-ratio (SNR). \n",
    "Ideas came from this [blog](https://pythonmana.com/2021/12/20211208035410143h.html)."
   ]
  },
  {
   "cell_type": "code",
   "execution_count": 1,
   "id": "7299992c-9ffa-40fb-abe5-23040af765eb",
   "metadata": {},
   "outputs": [],
   "source": [
    "%matplotlib widget\n",
    "import numpy as np\n",
    "from matplotlib import pyplot as plt\n",
    "import glob\n",
    "from PIL import Image\n",
    "\n",
    "import os\n",
    "import sys  \n",
    "sys.path.insert(0, '../dip_utils')\n",
    "\n",
    "from matrix_utils import arr_info\n",
    "from vis_utils import (vis_rgb_cube,\n",
    "                       vis_hists,\n",
    "                       vis_pair)"
   ]
  },
  {
   "cell_type": "code",
   "execution_count": 2,
   "id": "592dd676-0045-4705-b569-861f8c89cb3b",
   "metadata": {},
   "outputs": [],
   "source": [
    "def blend_stack(I):\n",
    "    blend = np.mean(I, axis=0)\n",
    "    return blend.astype(I.dtype)"
   ]
  },
  {
   "cell_type": "code",
   "execution_count": 3,
   "id": "6d39461c-da8b-47b3-9943-d853ecdb4427",
   "metadata": {},
   "outputs": [],
   "source": [
    "def stackRead(path):\n",
    "    img_lib = glob.glob(path)\n",
    "    n = len(img_lib)\n",
    "    sample = plt.imread(img_lib[0])\n",
    "    y, x, c = sample.shape\n",
    "    stack = np.zeros((n,y,x,c), dtype=sample.dtype)\n",
    "    for file in img_lib:\n",
    "        index = img_lib.index(file)\n",
    "        image = plt.imread(file)\n",
    "        stack[index] = image\n",
    "    return stack"
   ]
  },
  {
   "cell_type": "code",
   "execution_count": 4,
   "id": "43351ec7-43cf-4e19-8b95-f25f28a9dae8",
   "metadata": {},
   "outputs": [],
   "source": [
    "def image_stacking(path, dest):\n",
    "    stack_list = []\n",
    "    filename = []\n",
    "    for dic in os.listdir(path):\n",
    "        if dic != '.ipynb_checkpoints':\n",
    "            filename.append(dic)\n",
    "    for dic in os.listdir(path):\n",
    "        d = os.path.join(path, dic)  # directory of water samples\n",
    "        if not d.endswith('.ipynb_checkpoints'):\n",
    "            stack = stackRead(os.path.join(d, '*.jpg'))\n",
    "            stack_list.append(stack)\n",
    "    for i in range(len(stack_list)):\n",
    "        mean = blend_stack(stack_list[i])\n",
    "        I = Image.fromarray(mean)\n",
    "        #I.save(\"../%s/%s.jpg\" % (dest, filename[i]))\n",
    "        I.save(\"%s/%s.jpg\" % (dest, filename[i]))"
   ]
  },
  {
   "cell_type": "code",
   "execution_count": null,
   "id": "93187c1b-fef6-4679-97a0-7d591850e97f",
   "metadata": {},
   "outputs": [],
   "source": []
  }
 ],
 "metadata": {
  "kernelspec": {
   "display_name": "Python 3",
   "language": "python",
   "name": "python3"
  },
  "language_info": {
   "codemirror_mode": {
    "name": "ipython",
    "version": 3
   },
   "file_extension": ".py",
   "mimetype": "text/x-python",
   "name": "python",
   "nbconvert_exporter": "python",
   "pygments_lexer": "ipython3",
   "version": "3.9.12"
  }
 },
 "nbformat": 4,
 "nbformat_minor": 5
}
