{
 "cells": [
  {
   "cell_type": "markdown",
   "id": "dadbac34-e20c-4952-b342-81c9116f95cb",
   "metadata": {},
   "source": [
    "### Image Stacking\n",
    "\n",
    "we perform image stacking to stack multiple images of the samples to reduce signal-to-noise-ratio (SNR). \n",
    "Ideas came from this [blog](https://pythonmana.com/2021/12/20211208035410143h.html)."
   ]
  },
  {
   "cell_type": "code",
   "execution_count": null,
   "id": "7299992c-9ffa-40fb-abe5-23040af765eb",
   "metadata": {},
   "outputs": [],
   "source": [
    "%matplotlib widget\n",
    "import numpy as np\n",
    "from matplotlib import pyplot as plt\n",
    "import glob\n",
    "from PIL import Image\n",
    "from pylab import figure, cm\n",
    "\n",
    "import os\n",
    "import sys  \n",
    "sys.path.insert(0, '../dip_utils')\n",
    "\n",
    "from matrix_utils import arr_info\n",
    "from vis_utils import (vis_rgb_cube,\n",
    "                       vis_hists,\n",
    "                       vis_pair)\n",
    "from mpl_toolkits.axes_grid1.inset_locator import zoomed_inset_axes \n",
    "from mpl_toolkits.axes_grid1.inset_locator import mark_inset\n",
    "from matplotlib import colors\n",
    "from matplotlib.colors import LogNorm"
   ]
  },
  {
   "cell_type": "code",
   "execution_count": null,
   "id": "592dd676-0045-4705-b569-861f8c89cb3b",
   "metadata": {},
   "outputs": [],
   "source": [
    "def blend_stack(I):\n",
    "    blend = np.mean(I, axis=0)\n",
    "    return blend.astype(I.dtype)"
   ]
  },
  {
   "cell_type": "code",
   "execution_count": null,
   "id": "6d39461c-da8b-47b3-9943-d853ecdb4427",
   "metadata": {},
   "outputs": [],
   "source": [
    "def stackRead(path):\n",
    "    img_lib = glob.glob(path)\n",
    "    n = len(img_lib)\n",
    "    sample = plt.imread(img_lib[0])\n",
    "    y, x, c = sample.shape\n",
    "    stack = np.zeros((n,y,x,c), dtype=sample.dtype)\n",
    "    for file in img_lib:\n",
    "        index = img_lib.index(file)\n",
    "        image = plt.imread(file)\n",
    "        stack[index] = image\n",
    "    return stack"
   ]
  },
  {
   "cell_type": "code",
   "execution_count": null,
   "id": "43351ec7-43cf-4e19-8b95-f25f28a9dae8",
   "metadata": {},
   "outputs": [],
   "source": [
    "def image_stacking(path, dest):\n",
    "    stack_list = []\n",
    "    filename = []\n",
    "    for dic in os.listdir(path):\n",
    "        if dic != '.ipynb_checkpoints':\n",
    "            filename.append(dic)\n",
    "    for dic in os.listdir(path):\n",
    "        d = os.path.join(path, dic)  # directory of water samples\n",
    "        if not d.endswith('.ipynb_checkpoints'):\n",
    "            stack = stackRead(os.path.join(d, '*.jpg'))\n",
    "            stack_list.append(stack)\n",
    "    for i in range(len(stack_list)):\n",
    "        mean = blend_stack(stack_list[i])\n",
    "        I = Image.fromarray(mean)\n",
    "        #I.save(\"../%s/%s.jpg\" % (dest, filename[i]))\n",
    "        I.save(\"%s/%s.jpg\" % (dest, filename[i]))"
   ]
  },
  {
   "cell_type": "code",
   "execution_count": null,
   "id": "098a9470-94c2-4136-ab5b-856b7fc50671",
   "metadata": {},
   "outputs": [],
   "source": [
    "# I = plt.imread('../sampled_images/NTU129/NTU129a.jpg')\n",
    "# J = plt.imread('../stacked_new/NTU129.jpg')\n",
    "# vis_pair(I, J)"
   ]
  },
  {
   "cell_type": "code",
   "execution_count": null,
   "id": "1a111eb2-9fa9-468c-af20-28ad87d9ff32",
   "metadata": {},
   "outputs": [],
   "source": [
    "# arr_info(I)"
   ]
  },
  {
   "cell_type": "code",
   "execution_count": null,
   "id": "96d46e05-b82c-4048-b076-f1f8af65ac75",
   "metadata": {},
   "outputs": [],
   "source": [
    "# Ilog = (32*np.log2(I + 1)).astype('uint8')\n",
    "# arr_info(Ilog)"
   ]
  },
  {
   "cell_type": "code",
   "execution_count": null,
   "id": "5d1ef0cf-01f0-4f4a-a00d-9e180e0390f5",
   "metadata": {},
   "outputs": [],
   "source": [
    "# Jlog = (32*np.log2(J + 1)).astype('uint8')"
   ]
  },
  {
   "cell_type": "code",
   "execution_count": null,
   "id": "fa9c6c46-a6f3-4787-92e9-e8ed16cbcbf9",
   "metadata": {},
   "outputs": [],
   "source": [
    "# vis_pair(Ilog, Jlog)\n",
    "# #120*114"
   ]
  },
  {
   "cell_type": "code",
   "execution_count": null,
   "id": "5bb572f3-c5af-4880-beaa-3eb87359f4bc",
   "metadata": {},
   "outputs": [],
   "source": [
    "# plt.savefig('../assets/stacked_log.pdf', dpi=600)"
   ]
  },
  {
   "cell_type": "code",
   "execution_count": null,
   "id": "d8d4f3c9-9328-4b80-905b-4d424888208f",
   "metadata": {},
   "outputs": [],
   "source": [
    "# x1 = 195\n",
    "# x2 = 315\n",
    "# y1 = 1543\n",
    "# y2 = 1663"
   ]
  },
  {
   "cell_type": "code",
   "execution_count": null,
   "id": "e1d254f3-ffaf-4a32-a83e-909849a59f87",
   "metadata": {},
   "outputs": [],
   "source": [
    "# f = figure(figsize=(6.2, 5.6))\n",
    "# ax = f.add_axes([0.17, 0.02, 0.72, 0.79])\n",
    "# axcolor = f.add_axes([0.90, 0.02, 0.03, 0.79])\n",
    "\n",
    "# im = ax.matshow(I, cmap=cm.gray_r, norm=LogNorm(vmin=0.01, vmax=1))\n",
    "\n",
    "# t = [0.01, 0.1, 0.2, 0.4, 0.6, 0.8, 1.0]\n",
    "# f.colorbar(im, cax=axcolor, ticks=t, format=\"$%.2f$\")\n",
    "\n",
    "# f.show()"
   ]
  },
  {
   "cell_type": "code",
   "execution_count": null,
   "id": "430867e6-6286-4411-b8fa-238a5d0925c1",
   "metadata": {},
   "outputs": [],
   "source": [
    "# f = figure(figsize=(6.2, 5.6))\n",
    "# ax = f.add_axes([0.17, 0.02, 0.72, 0.79])\n",
    "# axcolor = f.add_axes([0.90, 0.02, 0.03, 0.79])\n",
    "\n",
    "# im = ax.matshow(J, cmap=cm.gray_r, norm=LogNorm(vmin=0.01, vmax=1))\n",
    "\n",
    "# t = [0.01, 0.1, 0.2, 0.4, 0.6, 0.8, 1.0]\n",
    "# f.colorbar(im, cax=axcolor, ticks=t, format=\"$%.2f$\")\n",
    "\n",
    "# f.show()"
   ]
  },
  {
   "cell_type": "code",
   "execution_count": null,
   "id": "78e92f41-e3cf-4118-80a4-54820f670ef9",
   "metadata": {},
   "outputs": [],
   "source": [
    "# f, ax = plt.subplots(1,2,figsize=(8,4), sharex=True, sharey=True)\n",
    "# ax[0].imshow(I)\n",
    "# ax[0].set_title('Original Image')\n",
    "# ax[1].imshow(J) # black to red colormap\n",
    "# ax[1].set_title('Stacked Image')\n",
    "# axinsl = zoomed_inset_axes(ax[0], 6.5, loc=1) # zoom = 2\n",
    "# axinsl.imshow(I)\n",
    "# axinsl.set_xlim(x1, x2)\n",
    "# axinsl.set_ylim(y2, y1)\n",
    "# mark_inset(ax[0], axinsl, loc1=2, loc2=4, fc=\"none\", ec=\"0.5\")\n",
    "# plt.xticks(visible=False)\n",
    "# plt.yticks(visible=False)\n",
    "# axinsr = zoomed_inset_axes(ax[1], 6.5, loc=1) # zoom = 2\n",
    "# axinsr.imshow(J)\n",
    "# axinsr.set_xlim(x1, x2)\n",
    "# axinsr.set_ylim(y2, y1)\n",
    "# mark_inset(ax[1], axinsr, loc1=2, loc2=4, fc=\"none\", ec=\"0.5\")\n",
    "# ax[0].tick_params(\n",
    "#     axis='both',         \n",
    "#     which='both',      \n",
    "#     bottom=False,      \n",
    "#     top=False,         \n",
    "#     labelbottom=False) \n",
    "# ax[1].tick_params(\n",
    "#     axis='both',         \n",
    "#     which='both',      \n",
    "#     bottom=False,      \n",
    "#     top=False,         \n",
    "#     labelbottom=False) \n",
    "# [a.axes.get_xaxis().set_visible(False) for a in ax];\n",
    "# [a.axes.get_yaxis().set_visible(False) for a in ax];\n",
    "# plt.xticks(visible=False)\n",
    "# plt.yticks(visible=False)\n",
    "# plt.draw()\n",
    "# plt.show()"
   ]
  },
  {
   "cell_type": "code",
   "execution_count": null,
   "id": "6edf8120-f969-4f51-9e4b-337ab3d808aa",
   "metadata": {},
   "outputs": [],
   "source": [
    "# plt.savefig('../assets/stacked.pdf', dpi=600)"
   ]
  },
  {
   "cell_type": "code",
   "execution_count": null,
   "id": "2cf29219-bbc8-4976-82e9-4665095b9047",
   "metadata": {},
   "outputs": [],
   "source": [
    "# x1 = 506\n",
    "# x2 = 606\n",
    "# y1 = 1060\n",
    "# y2 = 1160"
   ]
  },
  {
   "cell_type": "code",
   "execution_count": null,
   "id": "d57262b6-2090-46ff-a315-224681c7b9e6",
   "metadata": {},
   "outputs": [],
   "source": [
    "# f, ax = plt.subplots(1,1,figsize=(6,5), sharex=True, sharey=True)\n",
    "# ax.imshow(I)\n",
    "# axinsl = zoomed_inset_axes(ax, 4, loc=1) # zoom = 2\n",
    "# axinsl.imshow(I)\n",
    "# axinsl.set_xlim(x1, x2)\n",
    "# axinsl.set_ylim(y2, y1)\n",
    "# mark_inset(ax, axinsl, loc1=2, loc2=4, fc=\"none\", ec=\"0.5\")\n",
    "# ax.tick_params(\n",
    "#     axis='both',         \n",
    "#     which='both',      \n",
    "#     bottom=False,      \n",
    "#     top=False,         \n",
    "#     labelbottom=False) \n",
    "# ax.axes.get_xaxis().set_visible(False)\n",
    "# ax.axes.get_yaxis().set_visible(False)\n",
    "# plt.xticks(visible=False)\n",
    "# plt.yticks(visible=False)\n",
    "# plt.draw()\n",
    "# plt.show()"
   ]
  },
  {
   "cell_type": "code",
   "execution_count": null,
   "id": "3323b7b8-2949-4662-9d7f-1073876ac7ee",
   "metadata": {},
   "outputs": [],
   "source": []
  }
 ],
 "metadata": {
  "kernelspec": {
   "display_name": "Python 3",
   "language": "python",
   "name": "python3"
  },
  "language_info": {
   "codemirror_mode": {
    "name": "ipython",
    "version": 3
   },
   "file_extension": ".py",
   "mimetype": "text/x-python",
   "name": "python",
   "nbconvert_exporter": "python",
   "pygments_lexer": "ipython3",
   "version": "3.9.12"
  }
 },
 "nbformat": 4,
 "nbformat_minor": 5
}
