{
 "cells": [
  {
   "cell_type": "code",
   "execution_count": 1,
   "id": "a3c43f6e-b722-422a-b100-280acf85663f",
   "metadata": {},
   "outputs": [
    {
     "ename": "KeyboardInterrupt",
     "evalue": "",
     "output_type": "error",
     "traceback": [
      "\u001b[0;31m---------------------------------------------------------------------------\u001b[0m",
      "\u001b[0;31mKeyboardInterrupt\u001b[0m                         Traceback (most recent call last)",
      "File \u001b[0;32m<ipython-input-1-9cb4ee8e77c6>:1\u001b[0m, in \u001b[0;36m<cell line: 1>\u001b[0;34m()\u001b[0m\n\u001b[0;32m----> 1\u001b[0m \u001b[43mwhite_spot_elimination\u001b[49m\u001b[43m(\u001b[49m\u001b[38;5;124;43m'\u001b[39;49m\u001b[38;5;124;43m../test/\u001b[39;49m\u001b[38;5;124;43m'\u001b[39;49m\u001b[43m)\u001b[49m\n",
      "File \u001b[0;32m<ipython-input-1-2ab5fae73a5e>:6\u001b[0m, in \u001b[0;36mwhite_spot_elimination\u001b[0;34m(path)\u001b[0m\n\u001b[1;32m      4\u001b[0m img \u001b[38;5;241m=\u001b[39m os\u001b[38;5;241m.\u001b[39mpath\u001b[38;5;241m.\u001b[39mjoin(path, dic)\n\u001b[1;32m      5\u001b[0m I \u001b[38;5;241m=\u001b[39m plt\u001b[38;5;241m.\u001b[39mimread(img)\n\u001b[0;32m----> 6\u001b[0m dst \u001b[38;5;241m=\u001b[39m \u001b[43mcv2\u001b[49m\u001b[38;5;241;43m.\u001b[39;49m\u001b[43mfastNlMeansDenoisingColored\u001b[49m\u001b[43m(\u001b[49m\u001b[43mI\u001b[49m\u001b[43m,\u001b[49m\u001b[38;5;28;43;01mNone\u001b[39;49;00m\u001b[43m,\u001b[49m\u001b[38;5;241;43m10\u001b[39;49m\u001b[43m,\u001b[49m\u001b[38;5;241;43m10\u001b[39;49m\u001b[43m,\u001b[49m\u001b[38;5;241;43m7\u001b[39;49m\u001b[43m,\u001b[49m\u001b[38;5;241;43m21\u001b[39;49m\u001b[43m)\u001b[49m\n\u001b[1;32m      7\u001b[0m dst \u001b[38;5;241m=\u001b[39m Image\u001b[38;5;241m.\u001b[39mfromarray(dst)\n\u001b[1;32m      8\u001b[0m dst\u001b[38;5;241m.\u001b[39msave(\u001b[38;5;124m\"\u001b[39m\u001b[38;5;132;01m%s\u001b[39;00m\u001b[38;5;124m/\u001b[39m\u001b[38;5;132;01m%s\u001b[39;00m\u001b[38;5;124m\"\u001b[39m \u001b[38;5;241m%\u001b[39m (path, img))\n",
      "\u001b[0;31mKeyboardInterrupt\u001b[0m: "
     ]
    },
    {
     "ename": "KeyboardInterrupt",
     "evalue": "",
     "output_type": "error",
     "traceback": [
      "\u001b[0;31m---------------------------------------------------------------------------\u001b[0m",
      "\u001b[0;31mKeyboardInterrupt\u001b[0m                         Traceback (most recent call last)",
      "Input \u001b[0;32mIn [1]\u001b[0m, in \u001b[0;36m<cell line: 24>\u001b[0;34m()\u001b[0m\n\u001b[1;32m     22\u001b[0m get_ipython()\u001b[38;5;241m.\u001b[39mrun_line_magic(\u001b[38;5;124m'\u001b[39m\u001b[38;5;124mrun\u001b[39m\u001b[38;5;124m'\u001b[39m, \u001b[38;5;124m'\u001b[39m\u001b[38;5;124mgreyscale.ipynb\u001b[39m\u001b[38;5;124m'\u001b[39m)\n\u001b[1;32m     23\u001b[0m get_ipython()\u001b[38;5;241m.\u001b[39mrun_line_magic(\u001b[38;5;124m'\u001b[39m\u001b[38;5;124mrun\u001b[39m\u001b[38;5;124m'\u001b[39m, \u001b[38;5;124m'\u001b[39m\u001b[38;5;124mimage_stacking.ipynb\u001b[39m\u001b[38;5;124m'\u001b[39m)\n\u001b[0;32m---> 24\u001b[0m \u001b[43mget_ipython\u001b[49m\u001b[43m(\u001b[49m\u001b[43m)\u001b[49m\u001b[38;5;241;43m.\u001b[39;49m\u001b[43mrun_line_magic\u001b[49m\u001b[43m(\u001b[49m\u001b[38;5;124;43m'\u001b[39;49m\u001b[38;5;124;43mrun\u001b[39;49m\u001b[38;5;124;43m'\u001b[39;49m\u001b[43m,\u001b[49m\u001b[43m \u001b[49m\u001b[38;5;124;43m'\u001b[39;49m\u001b[38;5;124;43mwhitep_elimination.ipynb\u001b[39;49m\u001b[38;5;124;43m'\u001b[39;49m\u001b[43m)\u001b[49m\n",
      "File \u001b[0;32m/usr/remote/apps/anaconda/2021.11/lib/python3.9/site-packages/IPython/core/interactiveshell.py:2294\u001b[0m, in \u001b[0;36mInteractiveShell.run_line_magic\u001b[0;34m(self, magic_name, line, _stack_depth)\u001b[0m\n\u001b[1;32m   2292\u001b[0m     kwargs[\u001b[38;5;124m'\u001b[39m\u001b[38;5;124mlocal_ns\u001b[39m\u001b[38;5;124m'\u001b[39m] \u001b[38;5;241m=\u001b[39m \u001b[38;5;28mself\u001b[39m\u001b[38;5;241m.\u001b[39mget_local_scope(stack_depth)\n\u001b[1;32m   2293\u001b[0m \u001b[38;5;28;01mwith\u001b[39;00m \u001b[38;5;28mself\u001b[39m\u001b[38;5;241m.\u001b[39mbuiltin_trap:\n\u001b[0;32m-> 2294\u001b[0m     result \u001b[38;5;241m=\u001b[39m \u001b[43mfn\u001b[49m\u001b[43m(\u001b[49m\u001b[38;5;241;43m*\u001b[39;49m\u001b[43margs\u001b[49m\u001b[43m,\u001b[49m\u001b[43m \u001b[49m\u001b[38;5;241;43m*\u001b[39;49m\u001b[38;5;241;43m*\u001b[39;49m\u001b[43mkwargs\u001b[49m\u001b[43m)\u001b[49m\n\u001b[1;32m   2295\u001b[0m \u001b[38;5;28;01mreturn\u001b[39;00m result\n",
      "File \u001b[0;32m/usr/remote/apps/anaconda/2021.11/lib/python3.9/site-packages/IPython/core/magics/execution.py:717\u001b[0m, in \u001b[0;36mExecutionMagics.run\u001b[0;34m(self, parameter_s, runner, file_finder)\u001b[0m\n\u001b[1;32m    715\u001b[0m     \u001b[38;5;28;01mwith\u001b[39;00m preserve_keys(\u001b[38;5;28mself\u001b[39m\u001b[38;5;241m.\u001b[39mshell\u001b[38;5;241m.\u001b[39muser_ns, \u001b[38;5;124m'\u001b[39m\u001b[38;5;124m__file__\u001b[39m\u001b[38;5;124m'\u001b[39m):\n\u001b[1;32m    716\u001b[0m         \u001b[38;5;28mself\u001b[39m\u001b[38;5;241m.\u001b[39mshell\u001b[38;5;241m.\u001b[39muser_ns[\u001b[38;5;124m'\u001b[39m\u001b[38;5;124m__file__\u001b[39m\u001b[38;5;124m'\u001b[39m] \u001b[38;5;241m=\u001b[39m filename\n\u001b[0;32m--> 717\u001b[0m         \u001b[38;5;28;43mself\u001b[39;49m\u001b[38;5;241;43m.\u001b[39;49m\u001b[43mshell\u001b[49m\u001b[38;5;241;43m.\u001b[39;49m\u001b[43msafe_execfile_ipy\u001b[49m\u001b[43m(\u001b[49m\u001b[43mfilename\u001b[49m\u001b[43m,\u001b[49m\u001b[43m \u001b[49m\u001b[43mraise_exceptions\u001b[49m\u001b[38;5;241;43m=\u001b[39;49m\u001b[38;5;28;43;01mTrue\u001b[39;49;00m\u001b[43m)\u001b[49m\n\u001b[1;32m    718\u001b[0m     \u001b[38;5;28;01mreturn\u001b[39;00m\n\u001b[1;32m    720\u001b[0m \u001b[38;5;66;03m# Control the response to exit() calls made by the script being run\u001b[39;00m\n",
      "File \u001b[0;32m/usr/remote/apps/anaconda/2021.11/lib/python3.9/site-packages/IPython/core/interactiveshell.py:2800\u001b[0m, in \u001b[0;36mInteractiveShell.safe_execfile_ipy\u001b[0;34m(self, fname, shell_futures, raise_exceptions)\u001b[0m\n\u001b[1;32m   2798\u001b[0m result \u001b[38;5;241m=\u001b[39m \u001b[38;5;28mself\u001b[39m\u001b[38;5;241m.\u001b[39mrun_cell(cell, silent\u001b[38;5;241m=\u001b[39m\u001b[38;5;28;01mTrue\u001b[39;00m, shell_futures\u001b[38;5;241m=\u001b[39mshell_futures)\n\u001b[1;32m   2799\u001b[0m \u001b[38;5;28;01mif\u001b[39;00m raise_exceptions:\n\u001b[0;32m-> 2800\u001b[0m     \u001b[43mresult\u001b[49m\u001b[38;5;241;43m.\u001b[39;49m\u001b[43mraise_error\u001b[49m\u001b[43m(\u001b[49m\u001b[43m)\u001b[49m\n\u001b[1;32m   2801\u001b[0m \u001b[38;5;28;01melif\u001b[39;00m \u001b[38;5;129;01mnot\u001b[39;00m result\u001b[38;5;241m.\u001b[39msuccess:\n\u001b[1;32m   2802\u001b[0m     \u001b[38;5;28;01mbreak\u001b[39;00m\n",
      "File \u001b[0;32m/usr/remote/apps/anaconda/2021.11/lib/python3.9/site-packages/IPython/core/interactiveshell.py:240\u001b[0m, in \u001b[0;36mExecutionResult.raise_error\u001b[0;34m(self)\u001b[0m\n\u001b[1;32m    238\u001b[0m     \u001b[38;5;28;01mraise\u001b[39;00m \u001b[38;5;28mself\u001b[39m\u001b[38;5;241m.\u001b[39merror_before_exec\n\u001b[1;32m    239\u001b[0m \u001b[38;5;28;01mif\u001b[39;00m \u001b[38;5;28mself\u001b[39m\u001b[38;5;241m.\u001b[39merror_in_exec \u001b[38;5;129;01mis\u001b[39;00m \u001b[38;5;129;01mnot\u001b[39;00m \u001b[38;5;28;01mNone\u001b[39;00m:\n\u001b[0;32m--> 240\u001b[0m     \u001b[38;5;28;01mraise\u001b[39;00m \u001b[38;5;28mself\u001b[39m\u001b[38;5;241m.\u001b[39merror_in_exec\n",
      "    \u001b[0;31m[... skipping hidden 1 frame]\u001b[0m\n",
      "File \u001b[0;32m<ipython-input-1-9cb4ee8e77c6>:1\u001b[0m, in \u001b[0;36m<cell line: 1>\u001b[0;34m()\u001b[0m\n\u001b[0;32m----> 1\u001b[0m \u001b[43mwhite_spot_elimination\u001b[49m\u001b[43m(\u001b[49m\u001b[38;5;124;43m'\u001b[39;49m\u001b[38;5;124;43m../test/\u001b[39;49m\u001b[38;5;124;43m'\u001b[39;49m\u001b[43m)\u001b[49m\n",
      "File \u001b[0;32m<ipython-input-1-2ab5fae73a5e>:6\u001b[0m, in \u001b[0;36mwhite_spot_elimination\u001b[0;34m(path)\u001b[0m\n\u001b[1;32m      4\u001b[0m img \u001b[38;5;241m=\u001b[39m os\u001b[38;5;241m.\u001b[39mpath\u001b[38;5;241m.\u001b[39mjoin(path, dic)\n\u001b[1;32m      5\u001b[0m I \u001b[38;5;241m=\u001b[39m plt\u001b[38;5;241m.\u001b[39mimread(img)\n\u001b[0;32m----> 6\u001b[0m dst \u001b[38;5;241m=\u001b[39m \u001b[43mcv2\u001b[49m\u001b[38;5;241;43m.\u001b[39;49m\u001b[43mfastNlMeansDenoisingColored\u001b[49m\u001b[43m(\u001b[49m\u001b[43mI\u001b[49m\u001b[43m,\u001b[49m\u001b[38;5;28;43;01mNone\u001b[39;49;00m\u001b[43m,\u001b[49m\u001b[38;5;241;43m10\u001b[39;49m\u001b[43m,\u001b[49m\u001b[38;5;241;43m10\u001b[39;49m\u001b[43m,\u001b[49m\u001b[38;5;241;43m7\u001b[39;49m\u001b[43m,\u001b[49m\u001b[38;5;241;43m21\u001b[39;49m\u001b[43m)\u001b[49m\n\u001b[1;32m      7\u001b[0m dst \u001b[38;5;241m=\u001b[39m Image\u001b[38;5;241m.\u001b[39mfromarray(dst)\n\u001b[1;32m      8\u001b[0m dst\u001b[38;5;241m.\u001b[39msave(\u001b[38;5;124m\"\u001b[39m\u001b[38;5;132;01m%s\u001b[39;00m\u001b[38;5;124m/\u001b[39m\u001b[38;5;132;01m%s\u001b[39;00m\u001b[38;5;124m\"\u001b[39m \u001b[38;5;241m%\u001b[39m (path, img))\n",
      "\u001b[0;31mKeyboardInterrupt\u001b[0m: "
     ]
    }
   ],
   "source": [
    "%matplotlib widget\n",
    "import numpy as np\n",
    "import pandas as pd\n",
    "from matplotlib import pyplot as plt\n",
    "import statsmodels.api as sm\n",
    "from statsmodels.formula.api import ols\n",
    "import glob\n",
    "import cv2\n",
    "\n",
    "import os\n",
    "import sys  \n",
    "import re\n",
    "sys.path.insert(0, '../dip_utils')\n",
    "\n",
    "from matrix_utils import arr_info\n",
    "from vis_utils import (vis_rgb_cube,\n",
    "                       vis_hists,\n",
    "                       vis_pair, \n",
    "                       vis_triple)\n",
    "%run watershed.ipynb\n",
    "%run calibrate.ipynb\n",
    "%run greyscale.ipynb\n",
    "%run image_stacking.ipynb\n",
    "%run whitep_elimination.ipynb"
   ]
  },
  {
   "cell_type": "code",
   "execution_count": null,
   "id": "a1966a3a-d114-4963-aaaa-2c159cf6ab37",
   "metadata": {},
   "outputs": [],
   "source": [
    "path = '../sampled_images'\n",
    "dest = '../stacked_new'"
   ]
  },
  {
   "cell_type": "code",
   "execution_count": null,
   "id": "93282153-087b-4f33-a0c2-b7b2357d15f0",
   "metadata": {},
   "outputs": [],
   "source": [
    "files = glob.glob('%s/*' % dest)\n",
    "for f in files:\n",
    "    os.remove(f)"
   ]
  },
  {
   "cell_type": "code",
   "execution_count": null,
   "id": "fe7e2177-a218-477a-b349-e14e3e2f6ed4",
   "metadata": {},
   "outputs": [],
   "source": [
    "image_stacking(path, dest)"
   ]
  },
  {
   "cell_type": "code",
   "execution_count": null,
   "id": "6f00a2c0-dad6-416a-b0ec-06f6e875ee0e",
   "metadata": {},
   "outputs": [],
   "source": [
    "clear = '../stacked_new/NTU0.jpg'"
   ]
  },
  {
   "cell_type": "code",
   "execution_count": null,
   "id": "a498314d-811e-42e5-bfcb-295027f1b636",
   "metadata": {},
   "outputs": [],
   "source": [
    "img_lib = []"
   ]
  },
  {
   "cell_type": "code",
   "execution_count": null,
   "id": "1d9a0c41-d6a6-4a17-b3ab-85ff69f66f8c",
   "metadata": {},
   "outputs": [],
   "source": [
    "for dic in os.listdir(dest):\n",
    "    if dic != '.ipynb_checkpoints':\n",
    "        img_lib.append(dic)\n",
    "img_lib"
   ]
  },
  {
   "cell_type": "code",
   "execution_count": null,
   "id": "5d5edae2-9cc8-4421-abf5-b9aece7acfaa",
   "metadata": {},
   "outputs": [],
   "source": [
    "markers_lib = dict()\n",
    "for img in img_lib:\n",
    "    markers = watershed(dest, img)\n",
    "    markers_lib[img] = markers"
   ]
  },
  {
   "cell_type": "code",
   "execution_count": null,
   "id": "f22369bf-9285-4ca2-bab4-4900a62bce2a",
   "metadata": {},
   "outputs": [],
   "source": [
    "bottom_lib = dict()\n",
    "left_lib = dict()"
   ]
  },
  {
   "cell_type": "code",
   "execution_count": null,
   "id": "8b7cbe6b-4d6f-42ce-9a46-24f5e068b3bb",
   "metadata": {},
   "outputs": [],
   "source": [
    "# Acquire the bottom and the leftmost point of the ROI\n",
    "for key in markers_lib:\n",
    "    bottom = np.where(markers_lib[key]==1)[0].max()\n",
    "    bottom_lib[key] = bottom\n",
    "    left = np.where((markers_lib[key]!=1) & (markers_lib[key]!=-1))[1].min()\n",
    "    left_lib[key] = left\n",
    "bottom_lib, left_lib"
   ]
  },
  {
   "cell_type": "code",
   "execution_count": null,
   "id": "7f204fc9-f932-40f3-932b-a9de446f1ab7",
   "metadata": {},
   "outputs": [],
   "source": [
    "# Some threshold values\n",
    "vert_thres = 500\n",
    "horz_thres = 50\n",
    "length = 80\n",
    "dist = 350"
   ]
  },
  {
   "cell_type": "code",
   "execution_count": null,
   "id": "0be2d0ba-352f-4716-bae4-daccc304dec8",
   "metadata": {},
   "outputs": [],
   "source": [
    "# Avoid Extracting incorrect ROI\n",
    "for key in markers_lib:\n",
    "    while markers_lib[key][bottom_lib[key]-vert_thres, left_lib[key]+horz_thres] == 1:\n",
    "        left_lib[key] += horz_thres\n",
    "left_lib"
   ]
  },
  {
   "cell_type": "code",
   "execution_count": null,
   "id": "e94fe81e-3edd-408f-a256-9dd94e8ba255",
   "metadata": {},
   "outputs": [],
   "source": [
    "# Calibration\n",
    "calibrated = {}\n",
    "for img in img_lib:\n",
    "    org = plt.imread(os.path.join(dest, img))\n",
    "    org = lab_trans(clear, org)\n",
    "    calibrated[img] = org"
   ]
  },
  {
   "cell_type": "code",
   "execution_count": null,
   "id": "631238ad-b422-4c87-9196-ea1183b37f85",
   "metadata": {},
   "outputs": [],
   "source": [
    "greyscale = {}\n",
    "for img in img_lib:\n",
    "    grey = calibrated[img]\n",
    "    grey = to_single_channel(grey)\n",
    "    greyscale[img] = grey"
   ]
  },
  {
   "cell_type": "code",
   "execution_count": null,
   "id": "897513e8-99e3-4cef-9c39-3a229e6c5ae4",
   "metadata": {},
   "outputs": [],
   "source": [
    "# x_left represents the ROI of the reference, while x_right represents the ROI of the sample\n",
    "x_left = []\n",
    "x_right = []\n",
    "y_left = []\n",
    "y_right = []"
   ]
  },
  {
   "cell_type": "code",
   "execution_count": null,
   "id": "0c3c0a7d-c725-4a1b-8e97-699ed24c928c",
   "metadata": {},
   "outputs": [],
   "source": [
    "for key in greyscale:\n",
    "    x = []\n",
    "    x1 = []\n",
    "    y = []\n",
    "    y1 = []\n",
    "    for i in range(bottom_lib[key], bottom_lib[key]-vert_thres, -1):\n",
    "        x.append(i)\n",
    "        y.append(np.mean(greyscale[key][i-1:i, left_lib[key]+horz_thres:left_lib[key]+horz_thres+length]))\n",
    "    x_left.append(x)\n",
    "    y_left.append(y)\n",
    "    for i in range(bottom_lib[key], bottom_lib[key]-vert_thres, -1):\n",
    "        x1.append(i)\n",
    "        y1.append(np.mean(greyscale[key][i-1:i, left_lib[key]+horz_thres+dist:\n",
    "                                         left_lib[key]+horz_thres+dist+length]))\n",
    "    x_right.append(x1)\n",
    "    y_right.append(y1)"
   ]
  },
  {
   "cell_type": "code",
   "execution_count": null,
   "id": "fefb2984-be44-45c2-878d-7963b2ef4688",
   "metadata": {},
   "outputs": [],
   "source": [
    "x_left = np.array(x_left)\n",
    "x_right = np.array(x_right)\n",
    "y_left = np.array(y_left)\n",
    "y_right = np.array(y_right)"
   ]
  },
  {
   "cell_type": "code",
   "execution_count": null,
   "id": "42f97bf8-09b3-4b1f-9360-989d1d5e9c05",
   "metadata": {},
   "outputs": [],
   "source": [
    "arr_info(x_left), arr_info(y_left)"
   ]
  },
  {
   "cell_type": "code",
   "execution_count": null,
   "id": "e99fd2cc-ac6a-4d59-8274-929557191f8a",
   "metadata": {},
   "outputs": [],
   "source": [
    "# plot the ratio with respect to NTU\n",
    "num = []\n",
    "for img in img_lib:\n",
    "    img = img.replace('_', '.')\n",
    "    a = img.split('NTU')\n",
    "    a = [b.split('.jpg') for b in a]\n",
    "    for item in a:\n",
    "        item.remove(\"\")\n",
    "    num.append(a)"
   ]
  },
  {
   "cell_type": "code",
   "execution_count": null,
   "id": "a4a96337-bec0-414c-b38d-a84bfc4fcac6",
   "metadata": {},
   "outputs": [],
   "source": [
    "NTU = []\n",
    "for i in num:\n",
    "    for j in i:\n",
    "        if len(j) != 0:\n",
    "            NTU.append(float(j[0]))"
   ]
  },
  {
   "cell_type": "code",
   "execution_count": null,
   "id": "f70fc52b-4d6c-487f-841b-bf33f03f7c81",
   "metadata": {},
   "outputs": [],
   "source": [
    "diff = {}\n",
    "for i in range(x_left.shape[0]):\n",
    "    diff[img_lib[i]] = np.mean(y_right[i] - y_left[i])\n",
    "diff"
   ]
  },
  {
   "cell_type": "code",
   "execution_count": null,
   "id": "41e5435e-7fa8-43ab-b3a9-4bf98ddcc20a",
   "metadata": {},
   "outputs": [],
   "source": [
    "diff_c = diff['NTU0.jpg']\n",
    "for key in diff:\n",
    "    diff[key] -= diff_c\n",
    "diff"
   ]
  },
  {
   "cell_type": "code",
   "execution_count": null,
   "id": "ed571063-af76-4adb-bd54-bbfecc82ec18",
   "metadata": {},
   "outputs": [],
   "source": [
    "pixel_intensity = []\n",
    "for key in diff:\n",
    "    pixel_intensity.append(diff[key])\n",
    "pixel_intensity = np.array(pixel_intensity)"
   ]
  },
  {
   "cell_type": "code",
   "execution_count": null,
   "id": "830dae12-8eeb-4e5e-bf87-90c1130ccf94",
   "metadata": {},
   "outputs": [],
   "source": [
    "NTU = np.array(NTU)"
   ]
  },
  {
   "cell_type": "code",
   "execution_count": null,
   "id": "cc63ad87-139e-4f8a-9a8e-7aaaf2b4fe13",
   "metadata": {},
   "outputs": [],
   "source": [
    "df = pd.DataFrame({'pixel intensity': pixel_intensity,\n",
    "                   'turbidity (NTU)': NTU})"
   ]
  },
  {
   "cell_type": "code",
   "execution_count": null,
   "id": "04e2bae2-9d0e-4a6c-bea5-5788f511d2e1",
   "metadata": {},
   "outputs": [],
   "source": [
    "#fit simple linear regression model\n",
    "model = ols('NTU ~ pixel_intensity', data=df).fit()\n",
    "\n",
    "#view model summary\n",
    "print(model.summary())"
   ]
  },
  {
   "cell_type": "code",
   "execution_count": null,
   "id": "08062d38-1880-4f1d-b569-cad3b7a2db5d",
   "metadata": {},
   "outputs": [],
   "source": [
    "plt.figure()\n",
    "plt.plot(pixel_intensity, NTU, 'yo')\n",
    "plt.title('Pixel Intensity V.S. NTU Value')"
   ]
  },
  {
   "cell_type": "code",
   "execution_count": null,
   "id": "a7b307f0-a1c4-409e-883c-655776d867e9",
   "metadata": {},
   "outputs": [],
   "source": [
    "theta = np.polyfit(pixel_intensity, NTU, 1)\n",
    "theta"
   ]
  },
  {
   "cell_type": "code",
   "execution_count": null,
   "id": "3433a0bb-5b4a-4ce2-88a1-3a44543616b8",
   "metadata": {},
   "outputs": [],
   "source": [
    "plt.plot(pixel_intensity, theta[0]*pixel_intensity + theta[1])"
   ]
  },
  {
   "cell_type": "code",
   "execution_count": null,
   "id": "7b142431-2159-4e9d-8c7d-0cc487b526a3",
   "metadata": {},
   "outputs": [],
   "source": [
    "# Figure 8\n",
    "#define figure size\n",
    "fig = plt.figure(figsize=(12,8))\n",
    "\n",
    "#produce regression plots\n",
    "fig = sm.graphics.plot_regress_exog(model, 'pixel_intensity', fig=fig)"
   ]
  },
  {
   "cell_type": "code",
   "execution_count": null,
   "id": "f9859cf8-bfe5-431e-bb09-fa6d6ed35be4",
   "metadata": {},
   "outputs": [],
   "source": [
    "f = open('../assets/theta.txt', 'w')\n",
    "f.write(str(diff_c))\n",
    "f.write('\\n')\n",
    "f.write(str(theta[0]))\n",
    "f.write('\\n')\n",
    "f.write(str(theta[1]))\n",
    "f.close()"
   ]
  },
  {
   "cell_type": "code",
   "execution_count": null,
   "id": "424fc630-13bb-459b-9fdc-09ee248c9078",
   "metadata": {},
   "outputs": [],
   "source": [
    "plt.savefig('../assets/model_fit.pdf', dpi=600)"
   ]
  },
  {
   "cell_type": "code",
   "execution_count": null,
   "id": "3d1fbb19-15de-476c-8251-cdc9cf1f6f0e",
   "metadata": {},
   "outputs": [],
   "source": []
  }
 ],
 "metadata": {
  "kernelspec": {
   "display_name": "Python 3",
   "language": "python",
   "name": "python3"
  },
  "language_info": {
   "codemirror_mode": {
    "name": "ipython",
    "version": 3
   },
   "file_extension": ".py",
   "mimetype": "text/x-python",
   "name": "python",
   "nbconvert_exporter": "python",
   "pygments_lexer": "ipython3",
   "version": "3.9.12"
  }
 },
 "nbformat": 4,
 "nbformat_minor": 5
}
