{
 "cells": [
  {
   "cell_type": "code",
   "execution_count": 1,
   "id": "a3c43f6e-b722-422a-b100-280acf85663f",
   "metadata": {},
   "outputs": [],
   "source": [
    "%matplotlib widget\n",
    "import numpy as np\n",
    "import pandas as pd\n",
    "from matplotlib import pyplot as plt\n",
    "import statsmodels.api as sm\n",
    "from statsmodels.formula.api import ols\n",
    "import glob\n",
    "import cv2\n",
    "\n",
    "import os\n",
    "import sys  \n",
    "import re\n",
    "sys.path.insert(0, '../dip_utils')\n",
    "\n",
    "from matrix_utils import arr_info\n",
    "from vis_utils import (vis_rgb_cube,\n",
    "                       vis_hists,\n",
    "                       vis_pair, \n",
    "                       vis_triple)\n",
    "%run watershed.ipynb\n",
    "%run calibrate.ipynb\n",
    "%run greyscale.ipynb\n",
    "%run image_stacking.ipynb\n",
    "%run whitep_elimination.ipynb"
   ]
  },
  {
   "cell_type": "code",
   "execution_count": 2,
   "id": "a1966a3a-d114-4963-aaaa-2c159cf6ab37",
   "metadata": {},
   "outputs": [],
   "source": [
    "path = '../sampled_images'\n",
    "dest = '../stacked_new'"
   ]
  },
  {
   "cell_type": "code",
   "execution_count": 3,
   "id": "93282153-087b-4f33-a0c2-b7b2357d15f0",
   "metadata": {},
   "outputs": [],
   "source": [
    "files = glob.glob('%s/*' % dest)\n",
    "for f in files:\n",
    "    os.remove(f)"
   ]
  },
  {
   "cell_type": "code",
   "execution_count": 4,
   "id": "fe7e2177-a218-477a-b349-e14e3e2f6ed4",
   "metadata": {},
   "outputs": [],
   "source": [
    "image_stacking(path, dest)"
   ]
  },
  {
   "cell_type": "code",
   "execution_count": 5,
   "id": "6f00a2c0-dad6-416a-b0ec-06f6e875ee0e",
   "metadata": {},
   "outputs": [],
   "source": [
    "clear = '../stacked_new/NTU0.jpg'"
   ]
  },
  {
   "cell_type": "code",
   "execution_count": 6,
   "id": "a498314d-811e-42e5-bfcb-295027f1b636",
   "metadata": {},
   "outputs": [],
   "source": [
    "img_lib = []"
   ]
  },
  {
   "cell_type": "code",
   "execution_count": 7,
   "id": "1d9a0c41-d6a6-4a17-b3ab-85ff69f66f8c",
   "metadata": {},
   "outputs": [],
   "source": [
    "for dic in os.listdir(dest):\n",
    "    if dic != '.ipynb_checkpoints':\n",
    "        img_lib.append(dic)"
   ]
  },
  {
   "cell_type": "code",
   "execution_count": 8,
   "id": "5d5edae2-9cc8-4421-abf5-b9aece7acfaa",
   "metadata": {},
   "outputs": [],
   "source": [
    "markers_lib = dict()\n",
    "for img in img_lib:\n",
    "    markers = watershed(dest, img)\n",
    "    markers_lib[img] = markers"
   ]
  },
  {
   "cell_type": "code",
   "execution_count": 9,
   "id": "f22369bf-9285-4ca2-bab4-4900a62bce2a",
   "metadata": {},
   "outputs": [],
   "source": [
    "bottom_lib = dict()\n",
    "left_lib = dict()"
   ]
  },
  {
   "cell_type": "code",
   "execution_count": 10,
   "id": "8b7cbe6b-4d6f-42ce-9a46-24f5e068b3bb",
   "metadata": {},
   "outputs": [],
   "source": [
    "# Acquire the bottom and the leftmost point of the ROI\n",
    "for key in markers_lib:\n",
    "    bottom = np.where(markers_lib[key]==1)[0].max()\n",
    "    bottom_lib[key] = bottom\n",
    "    left = np.where((markers_lib[key]!=1) & (markers_lib[key]!=-1))[1].min()\n",
    "    left_lib[key] = left"
   ]
  },
  {
   "cell_type": "code",
   "execution_count": 11,
   "id": "7f204fc9-f932-40f3-932b-a9de446f1ab7",
   "metadata": {},
   "outputs": [],
   "source": [
    "# Some threshold values\n",
    "vert_thres = 500\n",
    "horz_thres = 50\n",
    "length = 80\n",
    "dist = 350"
   ]
  },
  {
   "cell_type": "code",
   "execution_count": 12,
   "id": "0be2d0ba-352f-4716-bae4-daccc304dec8",
   "metadata": {},
   "outputs": [],
   "source": [
    "# Avoid Extracting incorrect ROI\n",
    "for key in markers_lib:\n",
    "    while markers_lib[key][bottom_lib[key]-vert_thres, left_lib[key]+horz_thres] == 1:\n",
    "        left_lib[key] += horz_thres"
   ]
  },
  {
   "cell_type": "code",
   "execution_count": 13,
   "id": "e94fe81e-3edd-408f-a256-9dd94e8ba255",
   "metadata": {},
   "outputs": [],
   "source": [
    "# Calibration\n",
    "calibrated = {}\n",
    "for img in img_lib:\n",
    "    org = plt.imread(os.path.join(dest, img))\n",
    "    org = lab_trans(clear, org)\n",
    "    calibrated[img] = org"
   ]
  },
  {
   "cell_type": "code",
   "execution_count": 14,
   "id": "631238ad-b422-4c87-9196-ea1183b37f85",
   "metadata": {},
   "outputs": [],
   "source": [
    "greyscale = {}\n",
    "for img in img_lib:\n",
    "    grey = calibrated[img]\n",
    "    grey = to_single_channel(grey)\n",
    "    greyscale[img] = grey"
   ]
  },
  {
   "cell_type": "code",
   "execution_count": 15,
   "id": "897513e8-99e3-4cef-9c39-3a229e6c5ae4",
   "metadata": {},
   "outputs": [],
   "source": [
    "# x_left represents the ROI of the reference, while x_right represents the ROI of the sample\n",
    "x_left = []\n",
    "x_right = []\n",
    "y_left = []\n",
    "y_right = []"
   ]
  },
  {
   "cell_type": "code",
   "execution_count": 16,
   "id": "0c3c0a7d-c725-4a1b-8e97-699ed24c928c",
   "metadata": {},
   "outputs": [],
   "source": [
    "for key in greyscale:\n",
    "    x = []\n",
    "    x1 = []\n",
    "    y = []\n",
    "    y1 = []\n",
    "    for i in range(bottom_lib[key], bottom_lib[key]-vert_thres, -1):\n",
    "        x.append(i)\n",
    "        y.append(np.mean(greyscale[key][i-1:i, left_lib[key]+horz_thres:left_lib[key]+horz_thres+length]))\n",
    "    x_left.append(x)\n",
    "    y_left.append(y)\n",
    "    for i in range(bottom_lib[key], bottom_lib[key]-vert_thres, -1):\n",
    "        x1.append(i)\n",
    "        y1.append(np.mean(greyscale[key][i-1:i, left_lib[key]+horz_thres+dist:\n",
    "                                         left_lib[key]+horz_thres+dist+length]))\n",
    "    x_right.append(x1)\n",
    "    y_right.append(y1)"
   ]
  },
  {
   "cell_type": "code",
   "execution_count": 17,
   "id": "fefb2984-be44-45c2-878d-7963b2ef4688",
   "metadata": {},
   "outputs": [],
   "source": [
    "x_left = np.array(x_left)\n",
    "x_right = np.array(x_right)\n",
    "y_left = np.array(y_left)\n",
    "y_right = np.array(y_right)"
   ]
  },
  {
   "cell_type": "code",
   "execution_count": 18,
   "id": "42f97bf8-09b3-4b1f-9360-989d1d5e9c05",
   "metadata": {},
   "outputs": [
    {
     "data": {
      "text/plain": [
       "(((39, 500), dtype('int64'), 1201, 1700),\n",
       " ((39, 500), dtype('float64'), 13.2125, 179.05))"
      ]
     },
     "execution_count": 18,
     "metadata": {},
     "output_type": "execute_result"
    }
   ],
   "source": [
    "arr_info(x_left), arr_info(y_left)"
   ]
  },
  {
   "cell_type": "code",
   "execution_count": 19,
   "id": "e99fd2cc-ac6a-4d59-8274-929557191f8a",
   "metadata": {},
   "outputs": [],
   "source": [
    "# plot the ratio with respect to NTU\n",
    "num = []\n",
    "for img in img_lib:\n",
    "    img = img.replace('_', '.')\n",
    "    a = img.split('NTU')\n",
    "    a = [b.split('.jpg') for b in a]\n",
    "    for item in a:\n",
    "        item.remove(\"\")\n",
    "    num.append(a)"
   ]
  },
  {
   "cell_type": "code",
   "execution_count": 20,
   "id": "a4a96337-bec0-414c-b38d-a84bfc4fcac6",
   "metadata": {},
   "outputs": [],
   "source": [
    "NTU = []\n",
    "for i in num:\n",
    "    for j in i:\n",
    "        if len(j) != 0:\n",
    "            NTU.append(float(j[0]))"
   ]
  },
  {
   "cell_type": "code",
   "execution_count": 21,
   "id": "f70fc52b-4d6c-487f-841b-bf33f03f7c81",
   "metadata": {},
   "outputs": [
    {
     "data": {
      "text/plain": [
       "{'NTU85.jpg': 23.386875,\n",
       " 'NTU190.jpg': 33.40455,\n",
       " 'NTU156.jpg': 33.261125,\n",
       " 'NTU41.jpg': 16.243575,\n",
       " 'NTU95.jpg': 24.907950000000003,\n",
       " 'NTU87_5.jpg': 24.5965,\n",
       " 'NTU44_2.jpg': 22.6719,\n",
       " 'NTU76_1.jpg': 22.094574999999995,\n",
       " 'NTU0.jpg': 3.95865,\n",
       " 'NTU290.jpg': 46.628525,\n",
       " 'NTU113.jpg': 26.873,\n",
       " 'NTU69_9.jpg': 20.1203,\n",
       " 'NTU182.jpg': 33.91975,\n",
       " 'NTU142.jpg': 29.727775,\n",
       " 'NTU36_5.jpg': 15.109174999999999,\n",
       " 'NTU16_1.jpg': 9.99935,\n",
       " 'NTU167.jpg': 35.656974999999996,\n",
       " 'NTU108.jpg': 25.412125,\n",
       " 'NTU208.jpg': 35.679300000000005,\n",
       " 'NTU250.jpg': 38.1714,\n",
       " 'NTU212.jpg': 35.08435,\n",
       " 'NTU235.jpg': 37.588175,\n",
       " 'NTU281.jpg': 40.301725000000005,\n",
       " 'NTU266.jpg': 38.01685,\n",
       " 'NTU256.jpg': 37.82795,\n",
       " 'NTU145.jpg': 27.88685,\n",
       " 'NTU126.jpg': 30.984775000000003,\n",
       " 'NTU129.jpg': 30.065875,\n",
       " 'NTU135.jpg': 31.460525,\n",
       " 'NTU50.jpg': 19.7184,\n",
       " 'NTU33_3.jpg': 15.992875,\n",
       " 'NTU24_5.jpg': 18.9902,\n",
       " 'NTU123.jpg': 26.225799999999996,\n",
       " 'NTU224.jpg': 36.93085000000001,\n",
       " 'NTU308.jpg': 54.7026,\n",
       " 'NTU272.jpg': 42.64827499999999,\n",
       " 'NTU341.jpg': 55.817675,\n",
       " 'NTU315.jpg': 54.01457500000001,\n",
       " 'NTU330.jpg': 56.992725}"
      ]
     },
     "execution_count": 21,
     "metadata": {},
     "output_type": "execute_result"
    }
   ],
   "source": [
    "diff = {}\n",
    "for i in range(x_left.shape[0]):\n",
    "    diff[img_lib[i]] = np.mean(y_right[i] - y_left[i])\n",
    "diff"
   ]
  },
  {
   "cell_type": "code",
   "execution_count": 22,
   "id": "41e5435e-7fa8-43ab-b3a9-4bf98ddcc20a",
   "metadata": {},
   "outputs": [],
   "source": [
    "diff_c = diff['NTU0.jpg']\n",
    "for key in diff:\n",
    "    diff[key] -= diff_c"
   ]
  },
  {
   "cell_type": "code",
   "execution_count": 23,
   "id": "ed571063-af76-4adb-bd54-bbfecc82ec18",
   "metadata": {},
   "outputs": [],
   "source": [
    "pixel_intensity = []\n",
    "for key in diff:\n",
    "    pixel_intensity.append(diff[key])\n",
    "pixel_intensity = np.array(pixel_intensity)"
   ]
  },
  {
   "cell_type": "code",
   "execution_count": 24,
   "id": "e95d5f93-82cb-4ae3-a71f-85ab0bb93b03",
   "metadata": {},
   "outputs": [
    {
     "data": {
      "text/plain": [
       "[('NTU0.jpg', 0.0),\n",
       " ('NTU108.jpg', 21.453475),\n",
       " ('NTU113.jpg', 22.914350000000002),\n",
       " ('NTU123.jpg', 22.267149999999997),\n",
       " ('NTU126.jpg', 27.026125000000004),\n",
       " ('NTU129.jpg', 26.107225),\n",
       " ('NTU135.jpg', 27.501875000000002),\n",
       " ('NTU142.jpg', 25.769125000000003),\n",
       " ('NTU145.jpg', 23.9282),\n",
       " ('NTU156.jpg', 29.302475),\n",
       " ('NTU167.jpg', 31.698324999999997),\n",
       " ('NTU16_1.jpg', 6.040699999999999),\n",
       " ('NTU182.jpg', 29.961100000000002),\n",
       " ('NTU190.jpg', 29.4459),\n",
       " ('NTU208.jpg', 31.720650000000006),\n",
       " ('NTU212.jpg', 31.125700000000002),\n",
       " ('NTU224.jpg', 32.97220000000001),\n",
       " ('NTU235.jpg', 33.629525),\n",
       " ('NTU24_5.jpg', 15.031550000000001),\n",
       " ('NTU250.jpg', 34.21275),\n",
       " ('NTU256.jpg', 33.8693),\n",
       " ('NTU266.jpg', 34.0582),\n",
       " ('NTU272.jpg', 38.68962499999999),\n",
       " ('NTU281.jpg', 36.343075000000006),\n",
       " ('NTU290.jpg', 42.669875000000005),\n",
       " ('NTU308.jpg', 50.74395),\n",
       " ('NTU315.jpg', 50.05592500000001),\n",
       " ('NTU330.jpg', 53.034075),\n",
       " ('NTU33_3.jpg', 12.034225),\n",
       " ('NTU341.jpg', 51.859025),\n",
       " ('NTU36_5.jpg', 11.150524999999998),\n",
       " ('NTU41.jpg', 12.284925),\n",
       " ('NTU44_2.jpg', 18.713250000000002),\n",
       " ('NTU50.jpg', 15.759749999999999),\n",
       " ('NTU69_9.jpg', 16.16165),\n",
       " ('NTU76_1.jpg', 18.135924999999997),\n",
       " ('NTU85.jpg', 19.428225),\n",
       " ('NTU87_5.jpg', 20.63785),\n",
       " ('NTU95.jpg', 20.949300000000004)]"
      ]
     },
     "execution_count": 24,
     "metadata": {},
     "output_type": "execute_result"
    }
   ],
   "source": [
    "sorted(diff.items(), key=lambda x:x[0])"
   ]
  },
  {
   "cell_type": "code",
   "execution_count": 25,
   "id": "830dae12-8eeb-4e5e-bf87-90c1130ccf94",
   "metadata": {},
   "outputs": [],
   "source": [
    "NTU = np.array(NTU)"
   ]
  },
  {
   "cell_type": "code",
   "execution_count": 26,
   "id": "cc63ad87-139e-4f8a-9a8e-7aaaf2b4fe13",
   "metadata": {},
   "outputs": [],
   "source": [
    "df = pd.DataFrame({'pixel intensity': pixel_intensity,\n",
    "                   'turbidity (NTU)': NTU})"
   ]
  },
  {
   "cell_type": "code",
   "execution_count": 27,
   "id": "04e2bae2-9d0e-4a6c-bea5-5788f511d2e1",
   "metadata": {},
   "outputs": [
    {
     "name": "stdout",
     "output_type": "stream",
     "text": [
      "                            OLS Regression Results                            \n",
      "==============================================================================\n",
      "Dep. Variable:                    NTU   R-squared:                       0.929\n",
      "Model:                            OLS   Adj. R-squared:                  0.927\n",
      "Method:                 Least Squares   F-statistic:                     484.4\n",
      "Date:                Fri, 26 Aug 2022   Prob (F-statistic):           7.49e-23\n",
      "Time:                        10:22:15   Log-Likelihood:                -182.42\n",
      "No. Observations:                  39   AIC:                             368.8\n",
      "Df Residuals:                      37   BIC:                             372.2\n",
      "Df Model:                           1                                         \n",
      "Covariance Type:            nonrobust                                         \n",
      "===================================================================================\n",
      "                      coef    std err          t      P>|t|      [0.025      0.975]\n",
      "-----------------------------------------------------------------------------------\n",
      "Intercept         -51.7959     10.449     -4.957      0.000     -72.967     -30.625\n",
      "pixel_intensity     7.7295      0.351     22.009      0.000       7.018       8.441\n",
      "==============================================================================\n",
      "Omnibus:                        1.929   Durbin-Watson:                   1.127\n",
      "Prob(Omnibus):                  0.381   Jarque-Bera (JB):                1.816\n",
      "Skew:                           0.458   Prob(JB):                        0.403\n",
      "Kurtosis:                       2.471   Cond. No.                         72.8\n",
      "==============================================================================\n",
      "\n",
      "Notes:\n",
      "[1] Standard Errors assume that the covariance matrix of the errors is correctly specified.\n"
     ]
    }
   ],
   "source": [
    "#fit simple linear regression model\n",
    "model = ols('NTU ~ pixel_intensity', data=df).fit()\n",
    "\n",
    "#view model summary\n",
    "print(model.summary())"
   ]
  },
  {
   "cell_type": "code",
   "execution_count": 28,
   "id": "08062d38-1880-4f1d-b569-cad3b7a2db5d",
   "metadata": {},
   "outputs": [
    {
     "data": {
      "text/plain": [
       "Text(0.5, 1.0, 'Pixel Intensity V.S. NTU Value')"
      ]
     },
     "execution_count": 28,
     "metadata": {},
     "output_type": "execute_result"
    },
    {
     "data": {
      "application/vnd.jupyter.widget-view+json": {
       "model_id": "562044d43314409f8eb124092045478b",
       "version_major": 2,
       "version_minor": 0
      },
      "image/png": "[encoded data removed]",
      "text/html": [
       "\n",
       "            <div style=\"display: inline-block;\">\n",
       "                <div class=\"jupyter-widgets widget-label\" style=\"text-align: center;\">\n",
       "                    Figure\n",
       "                </div>\n",
       "                <img src='data:image/png;base64,iVBORw0KGgoAAAANSUhEUgAAAoAAAAHgCAYAAAA10dzkAAAAOXRFWHRTb2Z0d2FyZQBNYXRwbG90bGliIHZlcnNpb24zLjUuMSwgaHR0cHM6Ly9tYXRwbG90bGliLm9yZy/YYfK9AAAACXBIWXMAAA9hAAAPYQGoP6dpAABHD0lEQVR4nO3deXzU1b3/8feY5QuErGbIQtKQa9BKWCpgWdqUHcSLoIjg0l6oXH9alZICvypaC9r+iMv9IfwuLt0ExQuoGFCvaE1VUnxgKlAQjNSaChoggeDNBsIE4vn9kWZksi+TzPJ9PR+PedzO93tm5szXeOftOd/zOQ5jjBEAAABs4yJfdwAAAADdiwAIAABgMwRAAAAAmyEAAgAA2AwBEAAAwGYIgAAAADZDAAQAALAZAiAAAIDNEAABAABshgAIAABgMwRAAAAAmyEAAgAA2AwBEAAAwGYIgAAAADZDAAQAALAZAiAAAIDNEAABAABshgAIAABgMwRAAAAAmyEAAgAA2AwBEAAAwGYIgAAAADZDAAQAALAZAiAAAIDNEAABAABshgAIAABgMwRAAAAAmyEAAgAA2AwBEAAAwGYIgAAAADZDAAQAALAZAiAAAIDNEAABAABshgAIAABgMwRAAAAAmyEAAgAA2AwBEOigdevWyeFwuB+hoaFKSUnRj3/8Yx09etTdbt68eerXr1+X9WP79u1yOBzavn17m9pt3ry5Q5+zYsUKbd26tUOv7Qpjx47V2LFj3c+/+uorLV++vNXr0B4/+9nP5HA49Le//a3ZNvfff78cDof++te/Njp37tw5/eY3v9GVV16puLg49erVS2lpaZoxY4a2bNnSoT7NmzdPDodDmZmZqq2tbXTe4XDo7rvvllR3jS78G23usXz58kavbWjz5s2t/p1dd9116tmzpyoqKpptc8sttygsLEzHjx9v83e+sI8AvIMACHTS2rVr9f777ysvL0+33XabNm7cqKysLJ0+fVqS9MADD3T4x96f+FsAfPLJJ/Xkk0+6n3/11Vd68MEHvRoA58+fL0l65plnmjz/9ddf67nnntN3vvMdDR06tNH5H/3oR1qwYIHGjRun559/Xq+99pp+8YtfKDQ0VH/84x871bePP/5Y69ata7HNk08+qffff9/9+MUvfiHpm7/Z+se///u/d6ov9ebPn6+zZ89qw4YNTZ6vrKzUli1bNG3aNCUkJHjlMwF0TKivOwAEuoEDB2r48OGSpHHjxqm2tla/+tWvtHXrVt1yyy265JJLfNzD4DRgwIAu/4yBAwfqu9/9rtavX68VK1YoNNTz/2W+9dZbOnLkiO65555Grz106JBeeOEF/fKXv9SDDz7oPj5hwgTddttt+vrrrzvcr4iICA0dOlTLli3TzTffrJ49ezbZruE1qh/JvPBv1pumTp2q5ORkPfPMM7rzzjsbnd+4caPOnDnjDtYAfIcRQMDLRo4cKUn6/PPPJTWeAt60aZMcDofWrFnj8bply5YpJCREeXl57mO7d+/W9OnTFRcXpx49euiKK67Qiy++6LW+Ll++XA6HQ4WFhbrpppsUHR2thIQE3XrrraqsrHS3czgcOn36tJ599ln3tOGF06+lpaW6/fbblZKSovDwcKWnp+vBBx/U+fPn3W0OHz4sh8Oh//iP/9DKlSuVnp6u3r17a9SoUSooKPDo12effaYbb7xRycnJsixLCQkJmjBhgvbt2+duc+EU8OHDh+V0OiVJDz74oLuP8+bN044dO+RwOLRx48ZG3/+5556Tw+HQrl27mr1G8+fPV2lpqd54441G59auXSvLsnTLLbc0Ovfll19KkpKSkpp834su6tz/+33kkUd09OhRrV69ulPv400hISGaO3eu9uzZowMHDjQ6v3btWiUlJWnq1KkqKyvTnXfeqQEDBqh3797q06ePxo8frx07drT6OfV/tw3V35Zx+PBhj+MvvPCCRo0apYiICPXu3VtTpkzR3r17O/w9gWBAAAS8rKioSJLcgaShG2+8UXfccYcWL16s3bt3S5Leeecd/frXv9Z9992nSZMmSZLeffddfe9731NFRYWefvppvfLKK/rOd76jOXPmtDr1117XX3+9Lr30Ur388su69957tWHDBv3sZz9zn3///ffVs2dPXX311e5pw/rp19LSUn33u9/VH//4R/3yl7/UG2+8ofnz5ysnJ0e33XZbo8964oknlJeXp1WrVum//uu/dPr0aV199dUegfPqq6/Wnj179OijjyovL09PPfWUrrjiimbvLUtKStKbb74pqS6w1ffxgQceUFZWlq644go98cQTjV63Zs0aXXnllbryyiubvTY33XSTevXq1WgauLy8XK+88oquu+46xcbGNnrd5ZdfrpiYGD344IP67W9/2yiUdNaoUaN03XXX6ZFHHtH//M//ePW9O+PWW2+Vw+FodL0+/vhjffDBB5o7d65CQkLcfV62bJlef/11rV27Vv/yL/+isWPHenUaf8WKFbrppps0YMAAvfjii1q/fr2qq6uVlZWljz/+2GufAwQcA6BD1q5daySZgoICc+7cOVNdXW3++7//2zidThMZGWlKS0uNMcbMnTvXpKWlebz27Nmz5oorrjDp6enm448/NgkJCWbMmDHm/Pnz7jbf/va3zRVXXGHOnTvn8dpp06aZpKQkU1tba4wx5t133zWSzLvvvttif+vbvfTSS+5jy5YtM5LMo48+6tH2zjvvND169DBff/21+1hERISZO3duo/e9/fbbTe/evc3nn3/ucfw//uM/jCRTWFhojDHm0KFDRpIZNGiQx/f84IMPjCSzceNGY4wxJ0+eNJLMqlWrWvw+Y8aMMWPGjHE/LysrM5LMsmXLGrWt/2e1d+/eRp/77LPPtvg5xtT9MwwLCzPHjx93H/vP//xPI8nk5eU1+7rXX3/dxMfHG0lGkrn44ovNDTfcYF599dVWP7OlvkRERBhjjPnb3/5mQkJCzOLFi93nJZm77rqrydfWX4ddu3Y1eb6l17700ktt+jszpu6fTXx8vKmpqXEfW7x4sZFk/v73vzf5mvPnz5tz586ZCRMmmOuuu65Rvy7851r/d9tQ/fc7dOiQMcaYL774woSGhpoFCxZ4tKuurjaJiYlm9uzZrX4XIFgxAgh00siRIxUWFqbIyEhNmzZNiYmJeuONN1q8yd2yLL344ov68ssvNXToUBljtHHjRoWEhEiqG0X829/+5p5aPH/+vPtx9dVXq6SkRJ988onXvsP06dM9ng8ePFhnz57ViRMnWn3tf//3f2vcuHFKTk726OfUqVMlSfn5+R7t//Vf/9X9Pes/S/pmyjwuLk6XXHKJHnvsMa1cuVJ79+7t1P1yUt0oXp8+fTxGAf/zP/9TTqdTc+bMafX18+fP17lz57R+/Xr3sbVr1yotLU0TJkxo9nVXX321vvjiC23ZskVLlixRZmamtm7dqunTpze72rY9LrvsMs2fP19r1qzRF1980en385b58+fr5MmTevXVVyXV/f0+//zzysrKUv/+/d3tnn76aQ0dOlQ9evRQaGiowsLC9Pbbb+vgwYNe6ccf//hHnT9/Xv/2b//m8bfZo0cPjRkzxqsjjUCgIQACnfTcc89p165d2rt3r44dO6b9+/fre9/7Xquvy8jIUFZWls6ePatbbrnF416x+hIZS5YsUVhYmMej/ub6kydPeu07XHzxxR7PLcuSJJ05c6bV1x4/flyvvfZao35mZmY22c/WPsvhcOjtt9/WlClT9Oijj2ro0KFyOp366U9/qurq6g59P8uydPvtt2vDhg2qqKhQWVmZXnzxRf37v/+7+/NbkpWVpUsvvVRr166VJO3fv19//etf9eMf/7jJe9Eu1LNnT1177bV67LHHlJ+fr6KiIg0YMEBPPPGECgsLO/R9LrR8+XKFhITogQce6PR7hYSENFlaRpL7fs6wsLBW32fWrFmKjo52X69t27bp+PHjHos/Vq5cqZ/85CcaMWKEXn75ZRUUFGjXrl266qqr2vR31xb1/x5deeWVjf4+X3jhBa/+OwQEGlYBA510+eWXd2hF5e9//3u9/vrr+u53v6s1a9Zozpw5GjFihCQpPj5ekrR06VLNnDmzyddfdtllHe+0F8XHx2vw4MH6P//n/zR5Pjk5ud3vmZaWpj/84Q+SpL///e968cUXtXz5ctXU1Ojpp5/uUD9/8pOf6OGHH9Yzzzyjs2fP6vz587rjjjva/Ppbb71V9957rz744ANt2LBBF110kebNm9fufnzrW9/S//pf/0vZ2dkqLCx0B+WOSkpKUnZ2th5++GEtXry4U++VkJDgUcPyQvXH21K+pWfPnrrpppv0u9/9TiUlJXrmmWcUGRmpG264wd3m+eef19ixY/XUU095vLYtIb9Hjx6SJJfL5RHgGwa6+n+PNm/erLS0tFbfF7ATAiDgAwcOHNBPf/pT/du//Zt+97vfafTo0ZozZ4727t2r2NhYXXbZZerfv78+/PBDrVixwtfdlVQ3itbUyMy0adO0bds2XXLJJU0uhuisSy+9VL/4xS/08ssvN1ls+cL+Sc2PWiYlJemGG27Qk08+qZqaGl1zzTX61re+1eZ+zJ07V7/4xS/0m9/8Rq+++qomTJjQYqiorq6Ww+FQ7969G52rn+LsSDhuyj333KPf/va3uvfeezv1PhMnTlRubq7Kyso8FjEZY/TSSy+pX79+ysjIaNN7zZ8/X08//bQee+wxbdu2TfPmzVOvXr3c5x0OR6PR1/379+v9999Xampqi+9dv6p+//79Hgt4XnvtNY92U6ZMUWhoqP7xj3/o+uuvb1O/AbsgAALd7PTp05o9e7bS09P15JNPKjw8XC+++KKGDh2qH//4x+5iy7/5zW80depUTZkyRfPmzVPfvn31P//zPzp48KD++te/6qWXXurWfg8aNEjbt2/Xa6+9pqSkJEVGRuqyyy7TQw89pLy8PI0ePVo//elPddlll+ns2bM6fPiwtm3bpqefflopKSlt/pz9+/fr7rvv1g033KD+/fsrPDxc77zzjvbv399iwImMjFRaWppeeeUVTZgwQXFxcYqPj/cowbNw4UL3KGv99GRbJSYm6uqrr9batWtljGlUy64+GNWvAv/kk080ZcoU3XjjjRozZoySkpJUXl6u119/Xb/97W81duxYjR492v360NBQjRkzRm+//Xa7+iVJUVFRuv/++z1WbnfEL3/5S7322msaMWKE7r33XvXv31+lpaX63e9+p127drWrBNHw4cM1ePBgrVq1qsnrNW3aNP3qV7/SsmXLNGbMGH3yySd66KGHlJ6e7lE+qClXX3214uLiNH/+fD300EMKDQ3VunXrVFxc7NGuX79+euihh3T//ffrs88+01VXXaXY2FgdP35cH3zwgSIiIjxqNAK24ts1KEDgam1FZb2Gq4B/+MMfml69erlXx9arX2X5+OOPu499+OGHZvbs2aZPnz4mLCzMJCYmmvHjx5unn37a3cYbq4DLysqa/G71qymNMWbfvn3me9/7nunVq5eR1GgF7k9/+lOTnp5uwsLCTFxcnBk2bJi5//77zalTp4wx36wCfuyxxxr1TRes8jx+/LiZN2+e+fa3v20iIiJM7969zeDBg83jjz/usXq44SpgY4z505/+ZK644gpjWZaR1OSq5X79+pnLL7+8xWvVnFdeecVIMnFxcebs2bMe59LS0jz+OZeXl5tf//rXZvz48aZv374mPDzcREREmO985zvm17/+tfnqq68aXYOG36cpF64CvpDL5TLp6emdWgVsjDGffvqp+eEPf2iSkpJMaGioiYmJMZMnTzZvv/12q31raPXq1UaSGTBgQJP9XbJkienbt6/p0aOHGTp0qNm6dWuTq+bVxOruDz74wIwePdpERESYvn37mmXLlpnf//73jf5ujTFm69atZty4cSYqKspYlmXS0tLMrFmzzJ/+9Kd2fycgWDiMMabbUycA+MD+/fs1ZMgQPfHEE03uVAEAdkEABBD0/vGPf+jzzz/Xfffdpy+++EJFRUUe96MBgN1QBgZA0PvVr36lSZMm6dSpU3rppZcIfwBsjxFAAAAAm2EEEAAAwGYIgAAAADZDAAQAALAZAiAAAIDNsBNIJ3z99dc6duyYIiMjW90QHgAA+AdjjKqrq5WcnKyLLrLnWBgBsBOOHTvW6p6VAADAPxUXF7drq8pgQgDshMjISEl1f0BRUVE+7g0AAGiLqqoqpaamun/H7YgA2An1075RUVEEQAAAAoydb98KyInvp556SoMHD3YHr1GjRumNN95wn583b54cDofHY+TIkR7v4XK5tGDBAsXHxysiIkLTp0/XkSNHuvurAAAAdLuADIApKSl6+OGHtXv3bu3evVvjx4/XjBkzVFhY6G5z1VVXqaSkxP3Ytm2bx3tkZ2dry5Yt2rRpk9577z2dOnVK06ZNU21tbXd/HQAAgG4VNFvBxcXF6bHHHtP8+fM1b948VVRUaOvWrU22rayslNPp1Pr16zVnzhxJ3yzo2LZtm6ZMmdKmz6yqqlJ0dLQqKyuZAgYAIEDw+x2gI4AXqq2t1aZNm3T69GmNGjXKfXz79u3q06ePLr30Ut122206ceKE+9yePXt07tw5TZ482X0sOTlZAwcO1M6dO7u1/wAAAN0tYBeBHDhwQKNGjdLZs2fVu3dvbdmyRQMGDJAkTZ06VTfccIPS0tJ06NAhPfDAAxo/frz27Nkjy7JUWlqq8PBwxcbGerxnQkKCSktLm/1Ml8sll8vlfl5VVdU1Xw4AAKALBWwAvOyyy7Rv3z5VVFTo5Zdf1ty5c5Wfn68BAwa4p3UlaeDAgRo+fLjS0tL0+uuva+bMmc2+pzGmxRVBOTk5evDBB736PQAAALpbwE4Bh4eHKyMjQ8OHD1dOTo6GDBmi1atXN9k2KSlJaWlp+vTTTyVJiYmJqqmpUXl5uUe7EydOKCEhodnPXLp0qSorK92P4uJi730hAACAbhKwAbAhY4zH9OyFvvzySxUXFyspKUmSNGzYMIWFhSkvL8/dpqSkRB999JFGjx7d7GdYluUuPUPtPwAAEKgCcgr4vvvu09SpU5Wamqrq6mpt2rRJ27dv15tvvqlTp05p+fLluv7665WUlKTDhw/rvvvuU3x8vK677jpJUnR0tObPn6/Fixfr4osvVlxcnJYsWaJBgwZp4sSJPv52AAAEJ2NqVVGxQzU1JQoPT1JMTJYcjhBfd8uWAjIAHj9+XD/60Y9UUlKi6OhoDR48WG+++aYmTZqkM2fO6MCBA3ruuedUUVGhpKQkjRs3Ti+88ILHli+PP/64QkNDNXv2bJ05c0YTJkzQunXrFBLCHyIAAN5WVparoqKFcrm+2XTBslKUkbFaTmfz9+ejawRNHUBfoI4QAACtKyvLVWHhLEkNI0fdwsvMzM3dGgL5/Q6iewABAID/MaZWRUUL1Tj8yX2sqChbxrATV3ciAAIAgC5TUbHDY9q3MSOXq1gVFTu6rU8gAAIAgC5UU1Pi1XbwDgIgAADoMuHhSV5tB+8gAAIAgC4TE5Mly0pR/YKPxhyyrFTFxGR1Z7dsjwAIAAC6jMMRooyM+p26GobAuucZGauoB9jNCIAAAKBLOZ0zlZm5WZbV1+O4ZaV0ewkY1AnIQtAAACCwOJ0zFR8/g51A/AQBEAAAdAuHI0SxsWNbbceWcV2PAAgAAPwGW8Z1D+4BBAAAfqF+y7iGhaNdrqMqLJylsrJcH/Us+BAAAQCAz7FlXPciAAIAAJ9jy7juRQAEAAA+x5Zx3YsACAAAfI4t47oXARAAAPgcW8Z1LwIgAADwObaM614EQAAA4BfYMq77UAgaAAD4DbaM6x4EQAAA4FfaumUcOo4pYAAAAJshAAIAANgMARAAAMBmuAcQAAC0mTG1LNAIAgRAAADQJmVluSoqWuixZ69lpSgjYzUlWgIMU8AAAKBVZWW5Kiyc5RH+JMnlOqrCwlkqK8v1Uc/QEQRAAADQImNqVVS0UJJp6qwkqagoW8bUdmu/0HEEQAAA0KKKih2NRv48Gblcxaqo2NFtfULnEAABAECLampKvNoOvkcABAAALQoPT/JqO/geARAAALQoJiZLlpUiydFMC4csK0XG1Or48Y0qL9/O/YB+jjIwAACgRQ5HiDIyVquwcJbqQuCFi0HqntfWntH+/RPdRykP498YAQQAAK1yOmcqM3OzLKuvx/HQ0DhJ0vnzX3ocpzyMf2MEEAAAtInTOVPx8TMu2Amkjw4enNtMayPJoaKibMXHz2C3ED/DCCAAAGgzhyNEsbFjlZBwk6QQ1dQcbaE15WH8FQEQAAB0COVhAhcBEAAAdAjlYQIXARAAAHRI28rDpComJqs7u4U2CMgA+NRTT2nw4MGKiopSVFSURo0apTfeeMN93hij5cuXKzk5WT179tTYsWNVWFjo8R4ul0sLFixQfHy8IiIiNH36dB050tI2NwAA4EL15WH++azhWUlSRsYqFoD4oYAMgCkpKXr44Ye1e/du7d69W+PHj9eMGTPcIe/RRx/VypUrtWbNGu3atUuJiYmaNGmSqqur3e+RnZ2tLVu2aNOmTXrvvfd06tQpTZs2TbW1FK4EAKCtmisPY1kpyszcTB1AP+UwxpjWm/m/uLg4PfbYY7r11luVnJys7Oxs3XPPPZLqRvsSEhL0yCOP6Pbbb1dlZaWcTqfWr1+vOXPmSJKOHTum1NRUbdu2TVOmTGnTZ1ZVVSk6OlqVlZWKiorqsu8GAIC/M6b2gvIwSYqJyfLbkT9+vwN0BPBCtbW12rRpk06fPq1Ro0bp0KFDKi0t1eTJk91tLMvSmDFjtHPnTknSnj17dO7cOY82ycnJGjhwoLsNAABouwvLw8TGjvXb8Ic6AVsI+sCBAxo1apTOnj2r3r17a8uWLRowYIA7wCUkJHi0T0hI0Oeffy5JKi0tVXh4uGJjYxu1KS0tbfYzXS6XXC6X+3lVVZW3vg4AAEC3CdgRwMsuu0z79u1TQUGBfvKTn2ju3Ln6+OOP3ecdDs+bUY0xjY411FqbnJwcRUdHux+pqamd+xIAAAA+ELABMDw8XBkZGRo+fLhycnI0ZMgQrV69WomJiZLUaCTvxIkT7lHBxMRE1dTUqLy8vNk2TVm6dKkqKyvdj+LiYi9/KwAAgK4XsAGwIWOMXC6X0tPTlZiYqLy8PPe5mpoa5efna/To0ZKkYcOGKSwszKNNSUmJPvroI3ebpliW5S49U/8AAAAINAF5D+B9992nqVOnKjU1VdXV1dq0aZO2b9+uN998Uw6HQ9nZ2VqxYoX69++v/v37a8WKFerVq5duvvlmSVJ0dLTmz5+vxYsX6+KLL1ZcXJyWLFmiQYMGaeLEiT7+dgAAAF0rIAPg8ePH9aMf/UglJSWKjo7W4MGD9eabb2rSpEmSpJ///Oc6c+aM7rzzTpWXl2vEiBF66623FBkZ6X6Pxx9/XKGhoZo9e7bOnDmjCRMmaN26dQoJYdUSAAAIbkFTB9AXqCMEAPYUSDXv0Bi/3wE6AggAgK+UleWqqGihXK5vtg+1rBRlZKxm1wsEjKBZBAIAQFcrK8tVYeEsj/AnSS7XURUWzlJZWa6Pega0DwEQAIA2MKZWRUULJTV151TdsaKibBnDnvLwfwRAAADaoKJiR6ORP09GLlexKip2dFufgI4iAAIA0AY1NSVebQf4EgEQAIA2CA9P8mo7wJcIgAAAtEFMTJYsK0VSc3vGO2RZqYqJyerObgEdQgAEAKANHI4QZWSsrn/W8KwkKSNjFfUAERAIgACALmVMrcrLt+v48Y0qL98e0Ktknc6ZyszcLMvq63HcslKUmbmZOoAIGBSCBgB0mWAsmux0zlR8/Ax2AkFAIwACALpEfdHkhnXz6osmB/KImcMRotjYsb7uBtBhTAEDALyOosmAfyMAAgC8jqLJgH8jAAIAvI6iyYB/IwACALyOosmAfyMAAgC8jqLJgH8jAAIAvK6riiYHU01BwJcoAwMA6BL1RZObrgO4qt0lYIKxpiDgKw5jTFNr9NEGVVVVio6OVmVlpaKionzdHQDwS8bUdrpocnM1BetHEwO5piC6H7/fjAACALpYZ4smt15T0KGiomzFx89gNw6gjbgHEADg16gpCHgfARAA4NeoKQh4H1PAAAAP3rhnz5uoKQh4HwEQAODmjytt62sKulxH1fR9gA5ZVgo1BYF2YAoYACDpm5W2De+3c7mOqrBwlsrKcn3Sr66qKQjYGQEQANCGlbZSUVG2zwov19cUtKy+HsctK4USMEAHMAUMAGjXStvOlHTpDKdzpuLjZ/jV/YlAoCIAAgACZqVtZ2sKAqjDFDAAgJW2gM0QAAEA7pW2jRdZ1HPIslJZaQsECQIgAICVtoDNEAABAJJYaQvYCYtAAABu8fEzFBoarfLy7ZKkmJixio0dy8gfEGQIgAAASU3vAnL8+Dqf7gICoGswBQwA8NtdQAB0DQIgANicv+8CAsD7CIAAYHPt2QUEQHAgAAKAzQXKLiAAvIcACAA2xy4ggP0EZADMycnRlVdeqcjISPXp00fXXnutPvnkE4828+bNk8Ph8HiMHDnSo43L5dKCBQsUHx+viIgITZ8+XUeOtDQNAgDBp/VdQCQpROfOlXVXlwB0sYAMgPn5+brrrrtUUFCgvLw8nT9/XpMnT9bp06c92l111VUqKSlxP7Zt2+ZxPjs7W1u2bNGmTZv03nvv6dSpU5o2bZpqa7nRGYB9eO4C0pxaffzxHFYDA0HCYYxpatlXQCkrK1OfPn2Un5+vH/zgB5LqRgArKiq0devWJl9TWVkpp9Op9evXa86cOZKkY8eOKTU1Vdu2bdOUKVNa/dyqqipFR0ersrJSUVFRXvs+AOALJ05s1scf3yipuf8IdsiyUjRy5CEKQyOg8fsdoCOADVVWVkqS4uLiPI5v375dffr00aWXXqrbbrtNJ06ccJ/bs2ePzp07p8mTJ7uPJScna+DAgdq5c2eTn+NyuVRVVeXxAIBgERYWr+bDn8RqYCB4BHwANMZo0aJF+v73v6+BAwe6j0+dOlX/9V//pXfeeUf/9//+X+3atUvjx4+Xy+WSJJWWlio8PFyxsbEe75eQkKDS0tImPysnJ0fR0dHuR2pqatd9MQDoZqwGBuwj4LeCu/vuu7V//3699957Hsfrp3UlaeDAgRo+fLjS0tL0+uuva+bM5rc0MsbI4Wj6RuilS5dq0aJF7udVVVWEQABBg9XAgH0E9AjgggUL9Oqrr+rdd99VSkpKi22TkpKUlpamTz/9VJKUmJiompoalZeXe7Q7ceKEEhISmnwPy7IUFRXl8QCAYNH6amCHLCtVMTFZ3dktAF0gIAOgMUZ33323cnNz9c477yg9Pb3V13z55ZcqLi5WUlLdf7kOGzZMYWFhysvLc7cpKSnRRx99pNGjR3dZ3wHAX3muBm4YAuueZ2SsYgEIEAQCMgDeddddev7557VhwwZFRkaqtLRUpaWlOnPmjCTp1KlTWrJkid5//30dPnxY27dv1zXXXKP4+Hhdd911kqTo6GjNnz9fixcv1ttvv629e/fqhz/8oQYNGqSJEyf68usBgM84nTOVmblZltXX47hlpSgzc7OczuZvoQEQOAKyDExz9+itXbtW8+bN05kzZ3Tttddq7969qqioUFJSksaNG6df/epXHvfsnT17Vv/7f/9vbdiwQWfOnNGECRP05JNPtvm+PpaRAwhWxtSqomKHampKFB6epJiYLEb+EDT4/Q7QAOgv+AMCACDw8PsdoFPAAAAA6DgCIAAAgM0QAAEAAGwm4AtBAwA6hwUfgP0QAAHAxsrKclVUtFAu1xH3MctKUUbGakq+AEGMKWAAsKmyslwVFs7yCH+S5HIdVWHhLJWV5fqoZwC6GgEQAGzImFoVFS2U1FQlsLpjRUXZMqa2W/sFoHsQAAHAhioqdjQa+fNk5HIVq6JiR7f1CUD3IQACgA3V1JR4tR2AwEIABAAbCg9P8mo7AIGFAAgANhQTkyXLSpHU9N7qkkOWlaqYmKzu7BaAbkIABAAbcjhClJGxuv5Zw7OSpIyMVdQDBIIUARAAbMrpnKnMzM2yrL4exy0rRZmZm6kDCAQxCkEDgI05nTMVHz+DnUAAmyEAAoCNNLftW2zsWF93DUA3IgACgE2w7RuAetwDCAA2wLZvAC5EAASAIMe2bwAaIgACQJBj2zcADREAASDIse0bgIYIgAAQ5Nj2DUBDBEAACHJs+wagIQIgAAQ5tn0D0BABEABsgG3fAFyIQtAAYBNs+wagHgEQAGyEbd8ASARAAAgoze3lCwDtQQAEgADBXr4AvIVFIAAQANjLF4A3MQIIAH6u9b18Hfr73+9Qbe0ZWVZfpoUBtIoACAB+ri17+Z47V6a//e2HkpgWBtA6poABwM+1d49epoUBtIYACAB+rv179NZNFRcVZcuYWu93CEDAIwACgJ9rfS/fphi5XMWqqNjRVd0CEMAIgADg51rey7dl7Z0+BmAPBEAACADN7eXbmvZPHwOwA1YBA0CA8NzL96iKirJ17tzJZlo7ZFkpionJ6tY+AggMBEAACCAX7uV70UU9VVg4659nLqwRWDdNnJGxinqAAJoUkFPAOTk5uvLKKxUZGak+ffro2muv1SeffOLRxhij5cuXKzk5WT179tTYsWNVWFjo0cblcmnBggWKj49XRESEpk+friNHWqq1BQD+o7lpYctKUWbmZuoAAmhWQAbA/Px83XXXXSooKFBeXp7Onz+vyZMn6/Tp0+42jz76qFauXKk1a9Zo165dSkxM1KRJk1RdXe1uk52drS1btmjTpk167733dOrUKU2bNk21tZRNABAYnM6ZGjnysIYMeVeXX75BQ4a8q5EjDxH+ALTIYYxpam+hgFJWVqY+ffooPz9fP/jBD2SMUXJysrKzs3XPPfdIqhvtS0hI0COPPKLbb79dlZWVcjqdWr9+vebMmSNJOnbsmFJTU7Vt2zZNmTKl1c+tqqpSdHS0KisrFRUV1aXfEQAAeAe/3wE6AthQZWWlJCkuLk6SdOjQIZWWlmry5MnuNpZlacyYMdq5c6ckac+ePTp37pxHm+TkZA0cONDdpiGXy6WqqiqPBwAAQKAJ+ABojNGiRYv0/e9/XwMHDpQklZaWSpISEhI82iYkJLjPlZaWKjw8XLGxsc22aSgnJ0fR0dHuR2pqqre/DgAAQJcL+AB49913a//+/dq4cWOjcw6HZ8FUY0yjYw211Gbp0qWqrKx0P4qLizvecQAAAB8J6AC4YMECvfrqq3r33XeVkpLiPp6YmChJjUbyTpw44R4VTExMVE1NjcrLy5tt05BlWYqKivJ4AAAABJqADIDGGN19993Kzc3VO++8o/T0dI/z6enpSkxMVF5envtYTU2N8vPzNXr0aEnSsGHDFBYW5tGmpKREH330kbsNAABAMArIQtB33XWXNmzYoFdeeUWRkZHukb7o6Gj17NlTDodD2dnZWrFihfr376/+/ftrxYoV6tWrl26++WZ32/nz52vx4sW6+OKLFRcXpyVLlmjQoEGaOHGiL78eAABAlwrIAPjUU09JksaOHetxfO3atZo3b54k6ec//7nOnDmjO++8U+Xl5RoxYoTeeustRUZGuts//vjjCg0N1ezZs3XmzBlNmDBB69atU0gIlfMBdC1jav+5pVuJwsOTFBOTxa4dALpNUNQB9BXqCAHoiLKyXBUVLZTL9c3OQ5aVooyM1RRwBroBv98Beg8gAASqsrJcFRbO8gh/kuRyHVVh4SyVleX6qGcA7IQACADdxJhaFRUtlNTUxEvdsaKibBnDdpQAuhYBEAC6SUXFjkYjf56MXK5iVVTs6LY+AbAnAiAAdJOamhKvtgOAjiIAAkA3CQ9P8mo7AOgoAiAAdJOYmCxZVoqk5rakdMiyUhUTk9Wd3QJgQwRAAOgmDkeIMjJW1z9rooWR03m9Kip2sBAEQJciAAJAN3I6Zyozc7Msq2+DM3VFoI8cWaUPPxyngoJ+lIQB0GUIgADQzZzOmRo58rCGDHlXfftm//Oo54gfdQEBdCUCIAD4gMMRopiYLJ08ubmZFtQFBNB1CIAA4CPUBQTgKwRAAPAR6gIC8BUCIAD4CHUBAfgKARAAfIS6gAB8hQAIAD7Scl3AuucZGavkcIR0a78ABD8CIAD4UHN1AS0rRZmZm+V0zvRRzwAEs1BfdwAA7M7pnKn4+BmqqNihmpoShYcnKSYmi5E/AF2GAAgAfsDhCFFs7FhfdwOATTAFDAAAYDMEQAAAAJshAAIAANgM9wACQIAzppYFJADahQAIAAGsrCxXRUULPfYUtqwUZWSspoQMgGYxBQwAAaqsLFeFhbM8wp8kuVxHVVg4S2VluT7qGQB/RwAEgABkTK2KihZKMk2dlSQVFWXLmNpu7ReAwEAABIAAVFGxo9HInycjl6tYFRU7uq1PAAIHARAAAlBNTYlX2wGwFwIgAASg8PAkr7YDYC8EQAAIQDExWbKsFEmOZlo4ZFmpionJ6s5uAQgQBEAACEAOR4gyMlbXP2t4VpKUkbGKeoAAmkQABIAA5XTOVGbmZllWX4/jlpWizMzN1AEE0CwKQQNAAHM6Zyo+fgY7gQBoFwIgAHQzb2/d5nCEKDZ2rNf6ByD4EQABoBuxdRsAf8A9gADQTdi6DYC/IAACQDdg6zYA/oQACADdgK3bAPgTAiAAdAO2bgPgTwIyAP75z3/WNddco+TkZDkcDm3dutXj/Lx58+RwODweI0eO9Gjjcrm0YMECxcfHKyIiQtOnT9eRIy391zkAdBxbtwHwJwEZAE+fPq0hQ4ZozZo1zba56qqrVFJS4n5s27bN43x2dra2bNmiTZs26b333tOpU6c0bdo01dZy/w0A72PrNgD+JCDLwEydOlVTp05tsY1lWUpMTGzyXGVlpf7whz9o/fr1mjhxoiTp+eefV2pqqv70pz9pypQpXu8zAHur37qtsHCW6kLghYtB2LoNQPcKyBHAtti+fbv69OmjSy+9VLfddptOnDjhPrdnzx6dO3dOkydPdh9LTk7WwIEDtXPnTl90F4ANsHUbAH8RkCOArZk6dapuuOEGpaWl6dChQ3rggQc0fvx47dmzR5ZlqbS0VOHh4YqNjfV4XUJCgkpLS5t9X5fLJZfL5X5eVVXVZd8BQHBi6zYA/iAoA+CcOXPc/3vgwIEaPny40tLS9Prrr2vmzOb/C9sYI4ejuftzpJycHD344INe7SuAjvP2lmrdha3bAPha0E4BXygpKUlpaWn69NNPJUmJiYmqqalReXm5R7sTJ04oISGh2fdZunSpKisr3Y/i4uIu7TeA5pWV5aqgoJ8+/HCcDh68WR9+OE4FBf3YTQMA2sAWAfDLL79UcXGxkpLqyisMGzZMYWFhysvLc7cpKSnRRx99pNGjRzf7PpZlKSoqyuMBoPt5a0s1Y2pVXr5dx49vVHn5dnbhAGAbATkFfOrUKRUVFbmfHzp0SPv27VNcXJzi4uK0fPlyXX/99UpKStLhw4d13333KT4+Xtddd50kKTo6WvPnz9fixYt18cUXKy4uTkuWLNGgQYPcq4IB+KfWt1RzqKgoW/HxM1qcDi4ry1VR0UKPEGlZKcrIWM1iDABBLyAD4O7duzVu3Dj380WLFkmS5s6dq6eeekoHDhzQc889p4qKCiUlJWncuHF64YUXFBkZ6X7N448/rtDQUM2ePVtnzpzRhAkTtG7dOoWE+P/9Q4CdtWdLtebus6sfQWwYIutHEFmRCyDYOYwxTf1nNNqgqqpK0dHRqqysZDoY6CbHj2/UwYM3t9ru8ss3KCHhpkbHjalVQUG/FkKkQ5aVopEjDwXEghIA7cfvt03uAQQQPDq7pVp7RhABIFgRAAEElM5uqVZTU9Kmz2lrOwAIRARAAAGlfku1fz5reFZSy1uqdXYEEQCCAQEQQMDpzJZqnR1BlCgfAyDwBeQqYADo6JZq9SOIdauAHfJcCdz6CCLlYwAEA1YBdwKriIDA1XSQS1VGxqpmg1xz5WPqgyPlY4DAwO83AbBT+AMCAlt79hKmfAwQPPj9ZgoYgI05HCHNFotuyBsFqAHAX7AIBADagPIxAIIJI4AAoNangykfAyCYEAAB2F5bVvbWl49xuY6q8SIQqf4ewJbKxwCAv2AKGICt1a/sbXh/n8t1VIWFs1RWliup8wWoAcCfEAAB2JYxtSoqWqimR/TqjhUVZevrr2tUXr5dX3/tUlracoWHt78ANQD4E6aAAdhWW1f2vv9+X507d9J9NDy8r/r1e1A9e/ZvcwFqAPAnjAACsK22rti9MPzVve6YDh9erosushQbO5bwByDgEAAB+Jyv9tbt+Irdb6aH2QcYQCBiChiAT/lyb93WV/a2hMLPAAIXI4AAfKatK3C7Sssre9uGws8AAhEBEIBPtHUFbldPsTqdM5WZuVmW5bmyNyzM2abXU/gZQCBiChiAT/jT3rpO50zFx8/w2AkkOnq0/vKXSyj8DCAoEQAB+IS/7a3rcIQ0CpoZGatVWDhLddPDF4ZACj8DCGxMAQPwiUDYW7e56WEKPwMIdIwAAvCJQNlbt6npYQo/Awh0BEAAPlG/AjcQplibmh4GgEDGFDAAn2GKFQB8gxFAAD7V3BSrJJWXb2faFQC6AAEQgM81nGL15e4gAGAHTAED8Cu+3h0EAOyAAAjAb/jL7iAAEOwIgAD8Rnt2BwEAdBz3AALoFsbUtlpLz992BwGAYEUABNDl2rqoIxB2BwGAYMAUMIAu1Z5FHfW7g9QXgm7MIctK9fnuIAAQ6AiAALpMexd11O8OUqdhCPSv3UEAIJARAAF0mY4s6mB3EADoetwDCKDLdHRRR3O7gzDyBwDeQQAE0GU6s6ij4e4gAADvYQoYQJdhUQcA+KeADIB//vOfdc011yg5OVkOh0Nbt271OG+M0fLly5WcnKyePXtq7NixKiws9Gjjcrm0YMECxcfHKyIiQtOnT9eRIy3dqwSgvVjUAQD+KSAD4OnTpzVkyBCtWbOmyfOPPvqoVq5cqTVr1mjXrl1KTEzUpEmTVF1d7W6TnZ2tLVu2aNOmTXrvvfd06tQpTZs2TbW1bDEFeBOLOgDA/ziMMU3VZwgYDodDW7Zs0bXXXiupbvQvOTlZ2dnZuueeeyTVjfYlJCTokUce0e23367Kyko5nU6tX79ec+bMkSQdO3ZMqamp2rZtm6ZMmdKmz66qqlJ0dLQqKysVFRXVJd8PCBZt2QkEALoDv98BOgLYkkOHDqm0tFSTJ092H7MsS2PGjNHOnTslSXv27NG5c+c82iQnJ2vgwIHuNgC8q35RR0LCTYqNHUv4AwAfCrpVwKWlpZKkhIQEj+MJCQn6/PPP3W3Cw8MVGxvbqE3965vicrnkcrncz6uqqrzVbQAAgG4TdCOA9RwOzxvOjTGNjjXUWpucnBxFR0e7H6mpqV7pKxCMjKlVefl2HT++UeXl2927fQAAfC/oAmBiYqIkNRrJO3HihHtUMDExUTU1NSovL2+2TVOWLl2qyspK96O4uNjLvQeCQ1lZrgoK+unDD8fp4MGb9eGH41RQ0M9j318AgO8EXQBMT09XYmKi8vLy3MdqamqUn5+v0aNHS5KGDRumsLAwjzYlJSX66KOP3G2aYlmWoqKiPB4APJWV5aqwcFajLeBcrqMqLJxFCAQAPxCQ9wCeOnVKRUVF7ueHDh3Svn37FBcXp29961vKzs7WihUr1L9/f/Xv318rVqxQr169dPPNN0uSoqOjNX/+fC1evFgXX3yx4uLitGTJEg0aNEgTJ0701dcCAp4xtSoqWiipqeICRpJDRUXZio+fwSIQAPChgAyAu3fv1rhx49zPFy1aJEmaO3eu1q1bp5///Oc6c+aM7rzzTpWXl2vEiBF66623FBkZ6X7N448/rtDQUM2ePVtnzpzRhAkTtG7dOoWE8KMEdFRFxY5GI3+ejFyuYlVU7GCbNwDwoYCvA+hL1BECPB0/vlEHD97carvLL9+ghISbuqFHANAYv99BeA8gAN8JD0/yajsAQNcgAALwmujo0QoLi2+hhUOWlaqYmKxu6xMAoDECIACvKCvL1V/+conOnTvZTIu6GpsZGatYAAIAPhaQi0AA+Jf60i9Nr/6tY1kpyshYJadzZvd1DADQJAIggFYZU6uKih2qqSlReHiSYmKy3KN4LZd+qRMW5tSIEUW66KLwbuoxAKAlBEAALSory1VR0UKP8i51o3mr5XTObEPpF+ncuTJVVu6k9AsA+AkCIIBmNTe1W7+rR2bmZn39tatN71VTU9IFPQQAdASLQAA0qfVdPaSiomyFh/dp0/tR+gUA/AcBEECT2rqrhzF1U8L1q3wbo/QLAPgbAiCAJrV1yvbcuRPKyFj9z2cNQyClXwDAHxEAATSpPbt6OJ0zlZm5WZbV1+OcZaUoM3MzpV8AwM+wCARAk2JismRZKXK5jqrp+wAdsqwU99Su0zlT8fEzmi0XAwDwHwRAwKZaqu0nSQ5HiDIyVv9zFbBDniGw6aldhyOEUi8AEAAIgIANtVbbr1791G7TbdnVAwAClcMY03z5frSoqqpK0dHRqqysVFRUlK+7A7RJ89u21Y3qNXXPXmujhQAQSPj9ZgQQsJXWa/s5VFSUrfj4GUztAkAQYxUwYCNtre1XUbGj2/oEAOh+BEDARtpa249t2wAguBEAARtpT20/AEDw4h5AIAB1dFFGe2v7AQCCEwEQCDBtLeHSlI7U9gMABB+mgIEAUl/CpeFCDpfrqAoLZ6msLLfV92DbNgAAdQA7gTpC6E7G1KqgoF8Lq3jrpm9HjjzUphE8avsBsCt+v5kCBgJGe0q4tKVmH7X9AMC+mAIGAgQlXAAA3kIABAIEJVwAAN5CAAQCRH0Jl/rVuo05ZFmplHABALSKAAgEiPoSLv981vCsJEq4AADahgAIBBBKuAAAvIFVwECAcTpnKj5+BiVcAAAdRgAEAhAlXAAAncEUMAAAgM0QAAEAAGyGAAgAAGAzBEAAAACbIQACAADYDAEQAADAZgiAAAAANkMdQCBAGFNL8WcAgFcE7Qjg8uXL5XA4PB6JiYnu88YYLV++XMnJyerZs6fGjh2rwsJCH/YYaF5ZWa4KCvrpww/H6eDBm/Xhh+NUUNBPZWW5vu4aACAABW0AlKTMzEyVlJS4HwcOHHCfe/TRR7Vy5UqtWbNGu3btUmJioiZNmqTq6mof9hhorKwsV4WFs+RyHfE47nIdVWHhLEIgAKDdgjoAhoaGKjEx0f1wOp2S6kb/Vq1apfvvv18zZ87UwIED9eyzz+qrr77Shg0bfNxr4BvG1KqoaKEk09RZSVJRUbaMqe3WfgEAAltQB8BPP/1UycnJSk9P14033qjPPvtMknTo0CGVlpZq8uTJ7raWZWnMmDHauXNns+/ncrlUVVXl8QC6UkXFjkYjf56MXK5iVVTs6LY+AQACX9AGwBEjRui5557TH//4R/3ud79TaWmpRo8erS+//FKlpaWSpISEBI/XJCQkuM81JScnR9HR0e5Hampql34HoKamxKvtAACQgngV8NSpU93/e9CgQRo1apQuueQSPfvssxo5cqQkyeFweLzGGNPo2IWWLl2qRYsWuZ9XVVURAtGlwsOTvNquNaw0BgB7CNoA2FBERIQGDRqkTz/9VNdee60kqbS0VElJ3/xwnjhxotGo4IUsy5JlWV3dVcAtJiZLlpUil+uomr4P0CHLSlFMTFanP6usLFdFRQs9ppwtK0UZGavldM7s9PsDAPxH0E4BN+RyuXTw4EElJSUpPT1diYmJysvLc5+vqalRfn6+Ro8e7cNeAp4cjhBlZKyuf9bwrCQpI2NVp0fpWGkMAPYStAFwyZIlys/P16FDh/SXv/xFs2bNUlVVlebOnSuHw6Hs7GytWLFCW7Zs0UcffaR58+apV69euvnmm33ddfg5Y2pVXr5dx49vVHn59i5fget0zlRm5mZZVl+P45aVoszMzZ0enWOlMQDYT9BOAR85ckQ33XSTTp48KafTqZEjR6qgoEBpaWmSpJ///Oc6c+aM7rzzTpWXl2vEiBF66623FBkZ6eOew5/5aprU6Zyp+PgZXXJ/XntWGsfGju305wEAfM9hjGnqP/vRBlVVVYqOjlZlZaWioqJ83R10sfpp0sYjZXVTsd4YjfOF48c36uDB1ke+L798gxISbuqGHgFA1+L3O4ingAFvCuZp0u5eaQwA8D0CIPBPLd3bF8wFmetXGjdeZFLPIctK9cpKYwCAfwjaewCB9mjt3r5gLshcv9K4bnrbIc9RTu+tNAYA+A9GAGF7bSmBEuzTpF290hgA4F8YAYSttX5vn0NFRdkaMaKo2woy+0pXrjQGAPgXAiBsra339lVW7tQll6zUxx/PbqJN8EyTOhwhlHoBABsgAMLW2nrP3smTr+jkyc1Nnqu7V3AV06QAgIBBAISttfWevaNHVzV77pJLVhL+AAABhUUgsLXWS6BIUkvTug794x+LArL+HwDAvgiAsLX6Eij/fNbw7D//b0vhLnDr/wEA7IsACNtrqQRKSkp2m94jEOv/AQDsi3sAATVfAqWiYoeOHFnV6usDtf4fAMCeCIDAPzVVAqX+HsFgrv8HALAfpoCBFrTlHkFv1v9raT9iAAC8hRFAoBX19wg2vVew9+r/tbYfMQAA3uIwxjQ1r4U2qKqqUnR0tCorKxUVFeXr7qCLGVPbZduk1e9H3HiauW6Ukf14AcB7+P1mBBBos67aJq2t+xHHx88I+K3mAAD+gXsAAR9r637E1BoEAHgLARDwsbbWEKTWIADAWwiAgI+1tYYgtQYBAN5CAAR8rPX9iB2yrFRqDQIAvIYACPhYd9caBACAAIguRWHjtmlpP2JKwAAAvI0yMOgyFDZun+b2I2bkDwDgbQRAdInmChu7XEdVWDiLUa1mdFWtQQAALsQUMLyu9cLGUlFRNtPBAAD4CAEQXkdhYwAA/BsBEF5HYWMAAPwbARBeR2FjAAD8GwEQXkdhYwAA/BsBEF5HYWMAAPwbARBdgsLGAAD4L+oAostQ2BgAAP9EAESXorAxAAD+hylgAAAAmyEAAgAA2AwBEAAAwGa4B9APGVPLwgkAANBlbD8C+OSTTyo9PV09evTQsGHDtGOHb/enLSvLVUFBP3344TgdPHizPvxwnAoK+qmsLNen/QIAAMHD1gHwhRdeUHZ2tu6//37t3btXWVlZmjp1qr744guf9KesLFeFhbPkch3xOO5yHVVh4SxCIAAA8AqHMcb4uhO+MmLECA0dOlRPPfWU+9jll1+ua6+9Vjk5Oa2+vqqqStHR0aqsrFRUVFSn+mJMrQoK+jUKf99wyLJSNHLkIaaDAQDoBG/+fgcq244A1tTUaM+ePZo8ebLH8cmTJ2vnzp1Nvsblcqmqqsrj4S0VFTtaCH+SZORyFauiwrdT1AAAIPDZNgCePHlStbW1SkhI8DiekJCg0tLSJl+Tk5Oj6Oho9yM1NdVr/ampKfFqOwAAgObYNgDWczgcHs+NMY2O1Vu6dKkqKyvdj+LiYq/1Izw8yavtAAAAmmPbMjDx8fEKCQlpNNp34sSJRqOC9SzLkmVZXdKfmJgsWVaKXK6jkpq6LbPuHsCYmKwu+XwAAGAfth0BDA8P17Bhw5SXl+dxPC8vT6NHj+72/jgcIcrIWF3/rOFZSVJGxioWgAAAgE6zbQCUpEWLFun3v/+9nnnmGR08eFA/+9nP9MUXX+iOO+7wSX+czpnKzNwsy+rrcdyyUpSZuVlO50yf9AsAAAQX204BS9KcOXP05Zdf6qGHHlJJSYkGDhyobdu2KS0tzWd9cjpnKj5+BjuBAACALmPrOoCdRR0hAAACD7/fNp8CBgAAsCMCIAAAgM0QAAEAAGyGAAgAAGAzBEAAAACbIQACAADYDAEQAADAZgiAAAAANkMABAAAsBlbbwXXWfWbqFRVVfm4JwAAoK3qf7ftvBkaAbATqqurJUmpqak+7gkAAGiv6upqRUdH+7obPsFewJ3w9ddf69ixY4qMjJTD4fDqe1dVVSk1NVXFxcW23afQ27im3sc19T6uqfdxTb0v0K+pMUbV1dVKTk7WRRfZ8244RgA74aKLLlJKSkqXfkZUVFRA/svlz7im3sc19T6uqfdxTb0vkK+pXUf+6tkz9gIAANgYARAAAMBmCIB+yrIsLVu2TJZl+borQYNr6n1cU+/jmnof19T7uKaBj0UgAAAANsMIIAAAgM0QAAEAAGyGAAgAAGAzBEAAAACbIQD6oSeffFLp6enq0aOHhg0bph07dvi6SwHjz3/+s6655holJyfL4XBo69atHueNMVq+fLmSk5PVs2dPjR07VoWFhb7pbIDIycnRlVdeqcjISPXp00fXXnutPvnkE482XNf2eeqppzR48GB3Ed1Ro0bpjTfecJ/nenZOTk6OHA6HsrOz3ce4pu23fPlyORwOj0diYqL7PNc0sBEA/cwLL7yg7Oxs3X///dq7d6+ysrI0depUffHFF77uWkA4ffq0hgwZojVr1jR5/tFHH9XKlSu1Zs0a7dq1S4mJiZo0aZJ7X2c0lp+fr7vuuksFBQXKy8vT+fPnNXnyZJ0+fdrdhuvaPikpKXr44Ye1e/du7d69W+PHj9eMGTPcP55cz47btWuXfvvb32rw4MEex7mmHZOZmamSkhL348CBA+5zXNMAZ+BXvvvd75o77rjD49i3v/1tc++99/qoR4FLktmyZYv7+ddff20SExPNww8/7D529uxZEx0dbZ5++mkf9DAwnThxwkgy+fn5xhiuq7fExsaa3//+91zPTqiurjb9+/c3eXl5ZsyYMWbhwoXGGP5GO2rZsmVmyJAhTZ7jmgY+RgD9SE1Njfbs2aPJkyd7HJ88ebJ27tzpo14Fj0OHDqm0tNTj+lqWpTFjxnB926GyslKSFBcXJ4nr2lm1tbXatGmTTp8+rVGjRnE9O+Guu+7Sv/7rv2rixIkex7mmHffpp58qOTlZ6enpuvHGG/XZZ59J4poGg1BfdwDfOHnypGpra5WQkOBxPCEhQaWlpT7qVfCov4ZNXd/PP//cF10KOMYYLVq0SN///vc1cOBASVzXjjpw4IBGjRqls2fPqnfv3tqyZYsGDBjg/vHkerbPpk2b9Ne//lW7du1qdI6/0Y4ZMWKEnnvuOV166aU6fvy4fv3rX2v06NEqLCzkmgYBAqAfcjgcHs+NMY2OoeO4vh139913a//+/XrvvfcaneO6ts9ll12mffv2qaKiQi+//LLmzp2r/Px893muZ9sVFxdr4cKFeuutt9SjR49m23FN22fq1Knu/z1o0CCNGjVKl1xyiZ599lmNHDlSEtc0kDEF7Efi4+MVEhLSaLTvxIkTjf4rC+1Xv3qN69sxCxYs0Kuvvqp3331XKSkp7uNc144JDw9XRkaGhg8frpycHA0ZMkSrV6/menbAnj17dOLECQ0bNkyhoaEKDQ1Vfn6+/t//+38KDQ11XzeuaedERERo0KBB+vTTT/k7DQIEQD8SHh6uYcOGKS8vz+N4Xl6eRo8e7aNeBY/09HQlJiZ6XN+amhrl5+dzfVtgjNHdd9+t3NxcvfPOO0pPT/c4z3X1DmOMXC4X17MDJkyYoAMHDmjfvn3ux/Dhw3XLLbdo3759+pd/+ReuqRe4XC4dPHhQSUlJ/J0GA58tP0GTNm3aZMLCwswf/vAH8/HHH5vs7GwTERFhDh8+7OuuBYTq6mqzd+9es3fvXiPJrFy50uzdu9d8/vnnxhhjHn74YRMdHW1yc3PNgQMHzE033WSSkpJMVVWVj3vuv37yk5+Y6Ohos337dlNSUuJ+fPXVV+42XNf2Wbp0qfnzn/9sDh06ZPbv32/uu+8+c9FFF5m33nrLGMP19IYLVwEbwzXtiMWLF5vt27ebzz77zBQUFJhp06aZyMhI9+8R1zSwEQD90BNPPGHS0tJMeHi4GTp0qLvcBlr37rvvGkmNHnPnzjXG1JUuWLZsmUlMTDSWZZkf/OAH5sCBA77ttJ9r6npKMmvXrnW34bq2z6233ur+d9zpdJoJEya4w58xXE9vaBgAuabtN2fOHJOUlGTCwsJMcnKymTlzpiksLHSf55oGNocxxvhm7BEAAAC+wD2AAAAANkMABAAAsBkCIAAAgM0QAAEAAGyGAAgAAGAzBEAAAACbIQACAADYDAEQAADAZgiAAAAANkMABAAAsBkCIAAAgM0QAAEAAGyGAAgAAGAzBEAAAACbIQACAADYDAEQAADAZgiAAAAANkMABAAAsBkCIAAAgM0QAAEAAGyGAAgAAGAzBEAAAACbIQACAADYDAEQAADAZgiAAAAANkMABAAAsBkCIAAAgM0QAAEAAGyGAAgAAGAzBEAAAACbIQACAADYzP8H8ZsaJphc1psAAAAASUVORK5CYII=' width=640.0/>\n",
       "            </div>\n",
       "        "
      ],
      "text/plain": [
       "Canvas(toolbar=Toolbar(toolitems=[('Home', 'Reset original view', 'home', 'home'), ('Back', 'Back to previous …"
      ]
     },
     "metadata": {},
     "output_type": "display_data"
    }
   ],
   "source": [
    "plt.figure()\n",
    "plt.plot(pixel_intensity, NTU, 'yo')\n",
    "plt.title('Pixel Intensity V.S. NTU Value')"
   ]
  },
  {
   "cell_type": "code",
   "execution_count": 29,
   "id": "a7b307f0-a1c4-409e-883c-655776d867e9",
   "metadata": {},
   "outputs": [],
   "source": [
    "theta = np.polyfit(pixel_intensity, NTU, 1)"
   ]
  },
  {
   "cell_type": "code",
   "execution_count": 30,
   "id": "3433a0bb-5b4a-4ce2-88a1-3a44543616b8",
   "metadata": {},
   "outputs": [
    {
     "data": {
      "text/plain": [
       "[<matplotlib.lines.Line2D at 0x7f2ac0077190>]"
      ]
     },
     "execution_count": 30,
     "metadata": {},
     "output_type": "execute_result"
    }
   ],
   "source": [
    "plt.plot(pixel_intensity, theta[0]*pixel_intensity + theta[1])"
   ]
  },
  {
   "cell_type": "code",
   "execution_count": 38,
   "id": "7b142431-2159-4e9d-8c7d-0cc487b526a3",
   "metadata": {},
   "outputs": [
    {
     "data": {
      "application/vnd.jupyter.widget-view+json": {
       "model_id": "953df3a1e1ac49ae8e7deb822d51d673",
       "version_major": 2,
       "version_minor": 0
      },
      "image/png": "[encoded data removed]",
      "text/html": [
       "\n",
       "            <div style=\"display: inline-block;\">\n",
       "                <div class=\"jupyter-widgets widget-label\" style=\"text-align: center;\">\n",
       "                    Figure\n",
       "                </div>\n",
       "                <img src='data:image/png;base64,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' width=640.0/>\n",
       "            </div>\n",
       "        "
      ],
      "text/plain": [
       "Canvas(toolbar=Toolbar(toolitems=[('Home', 'Reset original view', 'home', 'home'), ('Back', 'Back to previous …"
      ]
     },
     "metadata": {},
     "output_type": "display_data"
    }
   ],
   "source": [
    "# Figure 8\n",
    "#define figure size\n",
    "fig, ax = plt.subplots()\n",
    "\n",
    "#produce regression plots\n",
    "#fig = sm.graphics.plot_regress_exog(model, 'pixel_intensity', fig=fig)\n",
    "fig = sm.graphics.plot_fit(model, 'pixel_intensity', ax=ax)\n",
    "plt.savefig('../assets/model_fit.pdf', dpi=600)"
   ]
  },
  {
   "cell_type": "code",
   "execution_count": 32,
   "id": "f9859cf8-bfe5-431e-bb09-fa6d6ed35be4",
   "metadata": {},
   "outputs": [],
   "source": [
    "f = open('../assets/theta.txt', 'w')\n",
    "f.write(str(diff_c))\n",
    "f.write('\\n')\n",
    "f.write(str(theta[0]))\n",
    "f.write('\\n')\n",
    "f.write(str(theta[1]))\n",
    "f.close()"
   ]
  },
  {
   "cell_type": "code",
   "execution_count": 33,
   "id": "424fc630-13bb-459b-9fdc-09ee248c9078",
   "metadata": {},
   "outputs": [],
   "source": [
    "#plt.savefig('../assets/model_fit.pdf', dpi=600)"
   ]
  }
 ],
 "metadata": {
  "kernelspec": {
   "display_name": "Python 3",
   "language": "python",
   "name": "python3"
  },
  "language_info": {
   "codemirror_mode": {
    "name": "ipython",
    "version": 3
   },
   "file_extension": ".py",
   "mimetype": "text/x-python",
   "name": "python",
   "nbconvert_exporter": "python",
   "pygments_lexer": "ipython3",
   "version": "3.9.12"
  }
 },
 "nbformat": 4,
 "nbformat_minor": 5
}
