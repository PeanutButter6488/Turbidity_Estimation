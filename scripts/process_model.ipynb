{
 "cells": [
  {
   "cell_type": "markdown",
   "id": "062509cb-b398-48b7-ad9f-5cda5be5a7f2",
   "metadata": {},
   "source": [
    "### Model Fitting using Training set sampled images"
   ]
  },
  {
   "cell_type": "code",
   "execution_count": 1,
   "id": "a3c43f6e-b722-422a-b100-280acf85663f",
   "metadata": {},
   "outputs": [],
   "source": [
    "%matplotlib widget\n",
    "import numpy as np\n",
    "import pandas as pd\n",
    "from matplotlib import pyplot as plt\n",
    "import statsmodels.api as sm\n",
    "from statsmodels.formula.api import ols\n",
    "import glob\n",
    "import cv2\n",
    "\n",
    "import os\n",
    "import sys  \n",
    "import re\n",
    "sys.path.insert(0, '../dip_utils')\n",
    "\n",
    "from matrix_utils import arr_info\n",
    "from vis_utils import (vis_rgb_cube,\n",
    "                       vis_hists,\n",
    "                       vis_pair, \n",
    "                       vis_triple)\n",
    "%run watershed.ipynb\n",
    "%run calibrate.ipynb\n",
    "%run greyscale.ipynb\n",
    "%run image_stacking.ipynb\n",
    "%run whitep_elimination.ipynb"
   ]
  },
  {
   "cell_type": "code",
   "execution_count": 2,
   "id": "a1966a3a-d114-4963-aaaa-2c159cf6ab37",
   "metadata": {},
   "outputs": [],
   "source": [
    "path = '../sampled_images'\n",
    "dest = '../stacked_new'"
   ]
  },
  {
   "cell_type": "code",
   "execution_count": 3,
   "id": "93282153-087b-4f33-a0c2-b7b2357d15f0",
   "metadata": {},
   "outputs": [],
   "source": [
    "files = glob.glob('%s/*' % dest)\n",
    "for f in files:\n",
    "    os.remove(f)"
   ]
  },
  {
   "cell_type": "code",
   "execution_count": 4,
   "id": "fe7e2177-a218-477a-b349-e14e3e2f6ed4",
   "metadata": {},
   "outputs": [],
   "source": [
    "image_stacking(path, dest)"
   ]
  },
  {
   "cell_type": "code",
   "execution_count": 5,
   "id": "6f00a2c0-dad6-416a-b0ec-06f6e875ee0e",
   "metadata": {},
   "outputs": [],
   "source": [
    "clear = '../stacked_new/NTU0.jpg'"
   ]
  },
  {
   "cell_type": "code",
   "execution_count": 6,
   "id": "a498314d-811e-42e5-bfcb-295027f1b636",
   "metadata": {},
   "outputs": [],
   "source": [
    "img_lib = []"
   ]
  },
  {
   "cell_type": "code",
   "execution_count": 7,
   "id": "1d9a0c41-d6a6-4a17-b3ab-85ff69f66f8c",
   "metadata": {},
   "outputs": [],
   "source": [
    "for dic in os.listdir(dest):\n",
    "    if dic != '.ipynb_checkpoints':\n",
    "        img_lib.append(dic)"
   ]
  },
  {
   "cell_type": "code",
   "execution_count": 8,
   "id": "5d5edae2-9cc8-4421-abf5-b9aece7acfaa",
   "metadata": {},
   "outputs": [],
   "source": [
    "markers_lib = dict()\n",
    "for img in img_lib:\n",
    "    markers = watershed(dest, img)\n",
    "    markers_lib[img] = markers"
   ]
  },
  {
   "cell_type": "code",
   "execution_count": 9,
   "id": "f22369bf-9285-4ca2-bab4-4900a62bce2a",
   "metadata": {},
   "outputs": [],
   "source": [
    "bottom_lib = dict()\n",
    "left_lib = dict()"
   ]
  },
  {
   "cell_type": "code",
   "execution_count": 10,
   "id": "8b7cbe6b-4d6f-42ce-9a46-24f5e068b3bb",
   "metadata": {},
   "outputs": [],
   "source": [
    "# Acquire the bottom and the leftmost point of the ROI\n",
    "for key in markers_lib:\n",
    "    bottom = np.where(markers_lib[key]==1)[0].max()\n",
    "    bottom_lib[key] = bottom\n",
    "    left = np.where((markers_lib[key]!=1) & (markers_lib[key]!=-1))[1].min()\n",
    "    left_lib[key] = left"
   ]
  },
  {
   "cell_type": "code",
   "execution_count": 11,
   "id": "7f204fc9-f932-40f3-932b-a9de446f1ab7",
   "metadata": {},
   "outputs": [],
   "source": [
    "# Some threshold values\n",
    "vert_thres = 500\n",
    "horz_thres = 50\n",
    "length = 80\n",
    "dist = 350"
   ]
  },
  {
   "cell_type": "code",
   "execution_count": 12,
   "id": "0be2d0ba-352f-4716-bae4-daccc304dec8",
   "metadata": {},
   "outputs": [],
   "source": [
    "# Avoid Extracting incorrect ROI\n",
    "count = []\n",
    "for key in markers_lib:\n",
    "    c = 0\n",
    "    while markers_lib[key][bottom_lib[key]-vert_thres, left_lib[key]+horz_thres] == 1:\n",
    "        left_lib[key] += horz_thres\n",
    "        c += 1\n",
    "    count.append(c)"
   ]
  },
  {
   "cell_type": "code",
   "execution_count": 13,
   "id": "9a8d8831-33b7-4668-a197-87a74d1e001b",
   "metadata": {},
   "outputs": [
    {
     "data": {
      "text/plain": [
       "0.8421052631578947"
      ]
     },
     "execution_count": 13,
     "metadata": {},
     "output_type": "execute_result"
    }
   ],
   "source": [
    "count = np.array(count)\n",
    "recall = 1 - np.mean(np.sum(count) / np.size(count))\n",
    "recall"
   ]
  },
  {
   "cell_type": "code",
   "execution_count": 14,
   "id": "e94fe81e-3edd-408f-a256-9dd94e8ba255",
   "metadata": {},
   "outputs": [],
   "source": [
    "# Calibration\n",
    "calibrated = {}\n",
    "for img in img_lib:\n",
    "    org = plt.imread(os.path.join(dest, img))\n",
    "    org = lab_trans(clear, org)\n",
    "    calibrated[img] = org"
   ]
  },
  {
   "cell_type": "code",
   "execution_count": 15,
   "id": "631238ad-b422-4c87-9196-ea1183b37f85",
   "metadata": {},
   "outputs": [],
   "source": [
    "greyscale = {}\n",
    "for img in img_lib:\n",
    "    grey = calibrated[img]\n",
    "    grey = to_single_channel(grey)\n",
    "    greyscale[img] = grey"
   ]
  },
  {
   "cell_type": "code",
   "execution_count": 16,
   "id": "897513e8-99e3-4cef-9c39-3a229e6c5ae4",
   "metadata": {},
   "outputs": [],
   "source": [
    "# x_left represents the ROI of the reference, while x_right represents the ROI of the sample\n",
    "x_left = []\n",
    "x_right = []\n",
    "y_left = []\n",
    "y_right = []"
   ]
  },
  {
   "cell_type": "code",
   "execution_count": 17,
   "id": "0c3c0a7d-c725-4a1b-8e97-699ed24c928c",
   "metadata": {},
   "outputs": [],
   "source": [
    "for key in greyscale:\n",
    "    x = []\n",
    "    x1 = []\n",
    "    y = []\n",
    "    y1 = []\n",
    "    for i in range(bottom_lib[key], bottom_lib[key]-vert_thres, -1):\n",
    "        x.append(i)\n",
    "        y.append(np.mean(greyscale[key][i-1:i, left_lib[key]+horz_thres:left_lib[key]+horz_thres+length]))\n",
    "    x_left.append(x)\n",
    "    y_left.append(y)\n",
    "    for i in range(bottom_lib[key], bottom_lib[key]-vert_thres, -1):\n",
    "        x1.append(i)\n",
    "        y1.append(np.mean(greyscale[key][i-1:i, left_lib[key]+horz_thres+dist:\n",
    "                                         left_lib[key]+horz_thres+dist+length]))\n",
    "    x_right.append(x1)\n",
    "    y_right.append(y1)"
   ]
  },
  {
   "cell_type": "code",
   "execution_count": 18,
   "id": "fefb2984-be44-45c2-878d-7963b2ef4688",
   "metadata": {},
   "outputs": [],
   "source": [
    "x_left = np.array(x_left)\n",
    "x_right = np.array(x_right)\n",
    "y_left = np.array(y_left)\n",
    "y_right = np.array(y_right)"
   ]
  },
  {
   "cell_type": "code",
   "execution_count": 19,
   "id": "42f97bf8-09b3-4b1f-9360-989d1d5e9c05",
   "metadata": {},
   "outputs": [
    {
     "data": {
      "text/plain": [
       "(((38, 500), dtype('int64'), 1201, 1700),\n",
       " ((38, 500), dtype('float64'), 13.2125, 179.05))"
      ]
     },
     "execution_count": 19,
     "metadata": {},
     "output_type": "execute_result"
    }
   ],
   "source": [
    "arr_info(x_left), arr_info(y_left)"
   ]
  },
  {
   "cell_type": "code",
   "execution_count": 35,
   "id": "4e4f8b30-7af5-4e31-b11e-b423ed5051dc",
   "metadata": {},
   "outputs": [
    {
     "data": {
      "text/plain": [
       "array([[1700, 1699, 1698, ..., 1203, 1202, 1201],\n",
       "       [1700, 1699, 1698, ..., 1203, 1202, 1201],\n",
       "       [1700, 1699, 1698, ..., 1203, 1202, 1201],\n",
       "       ...,\n",
       "       [1700, 1699, 1698, ..., 1203, 1202, 1201],\n",
       "       [1700, 1699, 1698, ..., 1203, 1202, 1201],\n",
       "       [1700, 1699, 1698, ..., 1203, 1202, 1201]])"
      ]
     },
     "execution_count": 35,
     "metadata": {},
     "output_type": "execute_result"
    }
   ],
   "source": [
    "x_left"
   ]
  },
  {
   "cell_type": "code",
   "execution_count": 20,
   "id": "e99fd2cc-ac6a-4d59-8274-929557191f8a",
   "metadata": {},
   "outputs": [],
   "source": [
    "# plot the ratio with respect to NTU\n",
    "num = []\n",
    "for img in img_lib:\n",
    "    img = img.replace('_', '.')\n",
    "    a = img.split('NTU')\n",
    "    a = [b.split('.jpg') for b in a]\n",
    "    for item in a:\n",
    "        item.remove(\"\")\n",
    "    num.append(a)"
   ]
  },
  {
   "cell_type": "code",
   "execution_count": 21,
   "id": "a4a96337-bec0-414c-b38d-a84bfc4fcac6",
   "metadata": {},
   "outputs": [],
   "source": [
    "NTU = []\n",
    "for i in num:\n",
    "    for j in i:\n",
    "        if len(j) != 0:\n",
    "            NTU.append(float(j[0]))"
   ]
  },
  {
   "cell_type": "code",
   "execution_count": 22,
   "id": "f70fc52b-4d6c-487f-841b-bf33f03f7c81",
   "metadata": {},
   "outputs": [
    {
     "data": {
      "text/plain": [
       "{'NTU85.jpg': 23.386875,\n",
       " 'NTU190.jpg': 33.40455,\n",
       " 'NTU156.jpg': 29.965,\n",
       " 'NTU41.jpg': 16.243575,\n",
       " 'NTU87_5.jpg': 24.5965,\n",
       " 'NTU44_2.jpg': 22.6719,\n",
       " 'NTU76_1.jpg': 22.094574999999995,\n",
       " 'NTU0.jpg': 3.9796750000000003,\n",
       " 'NTU290.jpg': 46.628525,\n",
       " 'NTU113.jpg': 26.873,\n",
       " 'NTU69_9.jpg': 20.1203,\n",
       " 'NTU182.jpg': 33.91975,\n",
       " 'NTU142.jpg': 34.69364999999999,\n",
       " 'NTU36_5.jpg': 15.109174999999999,\n",
       " 'NTU16_1.jpg': 9.99935,\n",
       " 'NTU167.jpg': 32.586875,\n",
       " 'NTU108.jpg': 25.412125,\n",
       " 'NTU208.jpg': 35.679300000000005,\n",
       " 'NTU250.jpg': 38.1714,\n",
       " 'NTU212.jpg': 35.08435,\n",
       " 'NTU235.jpg': 37.588175,\n",
       " 'NTU281.jpg': 40.301725000000005,\n",
       " 'NTU266.jpg': 38.01685,\n",
       " 'NTU256.jpg': 37.82795,\n",
       " 'NTU145.jpg': 27.88685,\n",
       " 'NTU126.jpg': 30.984775000000003,\n",
       " 'NTU129.jpg': 30.065875,\n",
       " 'NTU135.jpg': 31.460525,\n",
       " 'NTU50.jpg': 19.7184,\n",
       " 'NTU33_3.jpg': 15.992875,\n",
       " 'NTU24_5.jpg': 18.9902,\n",
       " 'NTU123.jpg': 26.225799999999996,\n",
       " 'NTU224.jpg': 36.93085000000001,\n",
       " 'NTU308.jpg': 54.7026,\n",
       " 'NTU272.jpg': 42.64827499999999,\n",
       " 'NTU341.jpg': 55.817675,\n",
       " 'NTU315.jpg': 54.01457500000001,\n",
       " 'NTU330.jpg': 56.992725}"
      ]
     },
     "execution_count": 22,
     "metadata": {},
     "output_type": "execute_result"
    }
   ],
   "source": [
    "diff = {}\n",
    "for i in range(x_left.shape[0]):\n",
    "    diff[img_lib[i]] = np.mean(y_right[i] - y_left[i])\n",
    "diff"
   ]
  },
  {
   "cell_type": "code",
   "execution_count": 23,
   "id": "41e5435e-7fa8-43ab-b3a9-4bf98ddcc20a",
   "metadata": {},
   "outputs": [],
   "source": [
    "diff_c = diff['NTU0.jpg']\n",
    "for key in diff:\n",
    "    diff[key] -= diff_c"
   ]
  },
  {
   "cell_type": "code",
   "execution_count": 24,
   "id": "ed571063-af76-4adb-bd54-bbfecc82ec18",
   "metadata": {},
   "outputs": [],
   "source": [
    "pixel_intensity = []\n",
    "for key in diff:\n",
    "    pixel_intensity.append(diff[key])\n",
    "pixel_intensity = np.array(pixel_intensity)"
   ]
  },
  {
   "cell_type": "code",
   "execution_count": 25,
   "id": "e95d5f93-82cb-4ae3-a71f-85ab0bb93b03",
   "metadata": {},
   "outputs": [
    {
     "data": {
      "text/plain": [
       "[('NTU0.jpg', 0.0),\n",
       " ('NTU108.jpg', 21.43245),\n",
       " ('NTU113.jpg', 22.893325),\n",
       " ('NTU123.jpg', 22.246124999999996),\n",
       " ('NTU126.jpg', 27.005100000000002),\n",
       " ('NTU129.jpg', 26.086199999999998),\n",
       " ('NTU135.jpg', 27.48085),\n",
       " ('NTU142.jpg', 30.71397499999999),\n",
       " ('NTU145.jpg', 23.907175),\n",
       " ('NTU156.jpg', 25.985325),\n",
       " ('NTU167.jpg', 28.6072),\n",
       " ('NTU16_1.jpg', 6.019674999999999),\n",
       " ('NTU182.jpg', 29.940075),\n",
       " ('NTU190.jpg', 29.424875),\n",
       " ('NTU208.jpg', 31.699625000000005),\n",
       " ('NTU212.jpg', 31.104675),\n",
       " ('NTU224.jpg', 32.951175000000006),\n",
       " ('NTU235.jpg', 33.6085),\n",
       " ('NTU24_5.jpg', 15.010525000000001),\n",
       " ('NTU250.jpg', 34.191725),\n",
       " ('NTU256.jpg', 33.848275),\n",
       " ('NTU266.jpg', 34.037175),\n",
       " ('NTU272.jpg', 38.66859999999999),\n",
       " ('NTU281.jpg', 36.322050000000004),\n",
       " ('NTU290.jpg', 42.64885),\n",
       " ('NTU308.jpg', 50.722925),\n",
       " ('NTU315.jpg', 50.03490000000001),\n",
       " ('NTU330.jpg', 53.01305),\n",
       " ('NTU33_3.jpg', 12.0132),\n",
       " ('NTU341.jpg', 51.838),\n",
       " ('NTU36_5.jpg', 11.129499999999998),\n",
       " ('NTU41.jpg', 12.2639),\n",
       " ('NTU44_2.jpg', 18.692225),\n",
       " ('NTU50.jpg', 15.738724999999999),\n",
       " ('NTU69_9.jpg', 16.140625),\n",
       " ('NTU76_1.jpg', 18.114899999999995),\n",
       " ('NTU85.jpg', 19.4072),\n",
       " ('NTU87_5.jpg', 20.616825)]"
      ]
     },
     "execution_count": 25,
     "metadata": {},
     "output_type": "execute_result"
    }
   ],
   "source": [
    "sorted(diff.items(), key=lambda x:x[0])"
   ]
  },
  {
   "cell_type": "code",
   "execution_count": 26,
   "id": "830dae12-8eeb-4e5e-bf87-90c1130ccf94",
   "metadata": {},
   "outputs": [],
   "source": [
    "NTU = np.array(NTU)"
   ]
  },
  {
   "cell_type": "code",
   "execution_count": 27,
   "id": "cc63ad87-139e-4f8a-9a8e-7aaaf2b4fe13",
   "metadata": {},
   "outputs": [],
   "source": [
    "df = pd.DataFrame({'pixel intensity': pixel_intensity,\n",
    "                   'turbidity (NTU)': NTU})"
   ]
  },
  {
   "cell_type": "code",
   "execution_count": 28,
   "id": "04e2bae2-9d0e-4a6c-bea5-5788f511d2e1",
   "metadata": {},
   "outputs": [
    {
     "name": "stdout",
     "output_type": "stream",
     "text": [
      "                            OLS Regression Results                            \n",
      "==============================================================================\n",
      "Dep. Variable:                    NTU   R-squared:                       0.927\n",
      "Model:                            OLS   Adj. R-squared:                  0.924\n",
      "Method:                 Least Squares   F-statistic:                     453.9\n",
      "Date:                Sun, 09 Oct 2022   Prob (F-statistic):           5.34e-22\n",
      "Time:                        11:22:10   Log-Likelihood:                -178.69\n",
      "No. Observations:                  38   AIC:                             361.4\n",
      "Df Residuals:                      36   BIC:                             364.6\n",
      "Df Model:                           1                                         \n",
      "Covariance Type:            nonrobust                                         \n",
      "===================================================================================\n",
      "                      coef    std err          t      P>|t|      [0.025      0.975]\n",
      "-----------------------------------------------------------------------------------\n",
      "Intercept         -50.4419     10.818     -4.663      0.000     -72.381     -28.502\n",
      "pixel_intensity     7.7107      0.362     21.305      0.000       6.977       8.445\n",
      "==============================================================================\n",
      "Omnibus:                        1.033   Durbin-Watson:                   1.127\n",
      "Prob(Omnibus):                  0.597   Jarque-Bera (JB):                1.044\n",
      "Skew:                           0.282   Prob(JB):                        0.593\n",
      "Kurtosis:                       2.416   Cond. No.                         72.8\n",
      "==============================================================================\n",
      "\n",
      "Notes:\n",
      "[1] Standard Errors assume that the covariance matrix of the errors is correctly specified.\n"
     ]
    }
   ],
   "source": [
    "#fit simple linear regression model\n",
    "model = ols('NTU ~ pixel_intensity', data=df).fit()\n",
    "\n",
    "#view model summary\n",
    "print(model.summary())"
   ]
  },
  {
   "cell_type": "code",
   "execution_count": 29,
   "id": "08062d38-1880-4f1d-b569-cad3b7a2db5d",
   "metadata": {},
   "outputs": [
    {
     "data": {
      "text/plain": [
       "Text(0.5, 1.0, 'Pixel Intensity V.S. NTU Value')"
      ]
     },
     "execution_count": 29,
     "metadata": {},
     "output_type": "execute_result"
    },
    {
     "data": {
      "application/vnd.jupyter.widget-view+json": {
       "model_id": "849d7d1b7640437f96599e39f52fea85",
       "version_major": 2,
       "version_minor": 0
      },
      "image/png": "[encoded data removed]",
      "text/html": [
       "\n",
       "            <div style=\"display: inline-block;\">\n",
       "                <div class=\"jupyter-widgets widget-label\" style=\"text-align: center;\">\n",
       "                    Figure\n",
       "                </div>\n",
       "                <img src='data:image/png;base64,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' width=640.0/>\n",
       "            </div>\n",
       "        "
      ],
      "text/plain": [
       "Canvas(toolbar=Toolbar(toolitems=[('Home', 'Reset original view', 'home', 'home'), ('Back', 'Back to previous …"
      ]
     },
     "metadata": {},
     "output_type": "display_data"
    }
   ],
   "source": [
    "plt.figure()\n",
    "plt.plot(pixel_intensity, NTU, 'yo')\n",
    "plt.title('Pixel Intensity V.S. NTU Value')"
   ]
  },
  {
   "cell_type": "code",
   "execution_count": 30,
   "id": "a7b307f0-a1c4-409e-883c-655776d867e9",
   "metadata": {},
   "outputs": [],
   "source": [
    "theta = np.polyfit(pixel_intensity, NTU, 1)"
   ]
  },
  {
   "cell_type": "code",
   "execution_count": 31,
   "id": "3433a0bb-5b4a-4ce2-88a1-3a44543616b8",
   "metadata": {},
   "outputs": [
    {
     "data": {
      "text/plain": [
       "[<matplotlib.lines.Line2D at 0x7f502334c940>]"
      ]
     },
     "execution_count": 31,
     "metadata": {},
     "output_type": "execute_result"
    }
   ],
   "source": [
    "plt.plot(pixel_intensity, theta[0]*pixel_intensity + theta[1])"
   ]
  },
  {
   "cell_type": "code",
   "execution_count": 32,
   "id": "7b142431-2159-4e9d-8c7d-0cc487b526a3",
   "metadata": {},
   "outputs": [
    {
     "data": {
      "application/vnd.jupyter.widget-view+json": {
       "model_id": "12076f8124434f9a89d82ee5e6cd4ca5",
       "version_major": 2,
       "version_minor": 0
      },
      "image/png": "[encoded data removed]",
      "text/html": [
       "\n",
       "            <div style=\"display: inline-block;\">\n",
       "                <div class=\"jupyter-widgets widget-label\" style=\"text-align: center;\">\n",
       "                    Figure\n",
       "                </div>\n",
       "                <img src='data:image/png;base64,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' width=640.0/>\n",
       "            </div>\n",
       "        "
      ],
      "text/plain": [
       "Canvas(toolbar=Toolbar(toolitems=[('Home', 'Reset original view', 'home', 'home'), ('Back', 'Back to previous …"
      ]
     },
     "metadata": {},
     "output_type": "display_data"
    }
   ],
   "source": [
    "# Figure 8\n",
    "#define figure size\n",
    "fig, ax = plt.subplots()\n",
    "\n",
    "#produce regression plots\n",
    "#fig = sm.graphics.plot_regress_exog(model, 'pixel_intensity', fig=fig)\n",
    "fig = sm.graphics.plot_fit(model, 'pixel_intensity', ax=ax)\n",
    "plt.savefig('../assets/model_fit.pdf', dpi=600)"
   ]
  },
  {
   "cell_type": "code",
   "execution_count": 33,
   "id": "f9859cf8-bfe5-431e-bb09-fa6d6ed35be4",
   "metadata": {},
   "outputs": [],
   "source": [
    "f = open('../assets/theta.txt', 'w')\n",
    "f.write(str(diff_c))\n",
    "f.write('\\n')\n",
    "f.write(str(theta[0]))\n",
    "f.write('\\n')\n",
    "f.write(str(theta[1]))\n",
    "f.close()"
   ]
  },
  {
   "cell_type": "code",
   "execution_count": null,
   "id": "bad440b5-4b4f-432c-9e93-51716f5fe415",
   "metadata": {},
   "outputs": [],
   "source": []
  }
 ],
 "metadata": {
  "kernelspec": {
   "display_name": "Python 3 (ipykernel)",
   "language": "python",
   "name": "python3"
  },
  "language_info": {
   "codemirror_mode": {
    "name": "ipython",
    "version": 3
   },
   "file_extension": ".py",
   "mimetype": "text/x-python",
   "name": "python",
   "nbconvert_exporter": "python",
   "pygments_lexer": "ipython3",
   "version": "3.9.13"
  }
 },
 "nbformat": 4,
 "nbformat_minor": 5
}
