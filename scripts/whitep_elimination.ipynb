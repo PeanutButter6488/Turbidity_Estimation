{
 "cells": [
  {
   "cell_type": "markdown",
   "id": "9cee8146-29e8-417d-9075-fb9cbe2c56af",
   "metadata": {},
   "source": [
    "### White Spot Elimination\n",
    "\n",
    "Median filter is applied to eliminate white spot caused by salt-and-pepper noise.\n",
    "\n",
    "Idea came from this [blog](https://www.bogotobogo.com/python/OpenCV_Python/python_opencv3_Image_Non-local_Means_Denoising_Algorithm_Noise_Reduction.php)."
   ]
  },
  {
   "cell_type": "code",
   "execution_count": 1,
   "id": "45ead7a5-0eeb-4f59-90a9-35f11fb1343b",
   "metadata": {},
   "outputs": [],
   "source": [
    "%matplotlib widget\n",
    "import numpy as np\n",
    "import cv2\n",
    "from matplotlib import pyplot as plt\n",
    "import os\n",
    "from PIL import Image\n",
    "import sys  \n",
    "sys.path.insert(0, '../dip_utils')\n",
    "\n",
    "from matrix_utils import arr_info\n",
    "from vis_utils import (vis_rgb_cube,\n",
    "                       vis_hists,\n",
    "                       vis_pair)"
   ]
  },
  {
   "cell_type": "code",
   "execution_count": 2,
   "id": "ed2f37c6-bb04-4a74-9c95-18321185676d",
   "metadata": {},
   "outputs": [],
   "source": [
    "def white_spot_elimination(path):\n",
    "    for dic in os.listdir(path):\n",
    "        if dic != '.ipynb_checkpoints':\n",
    "            img = os.path.join(path, dic)\n",
    "            I = plt.imread(img)\n",
    "            dst = cv2.fastNlMeansDenoisingColored(I,None,10,10,7,21)\n",
    "            dst = Image.fromarray(dst)\n",
    "            dst.save(\"%s/%s\" % (path, img))"
   ]
  }
 ],
 "metadata": {
  "kernelspec": {
   "display_name": "Python 3",
   "language": "python",
   "name": "python3"
  },
  "language_info": {
   "codemirror_mode": {
    "name": "ipython",
    "version": 3
   },
   "file_extension": ".py",
   "mimetype": "text/x-python",
   "name": "python",
   "nbconvert_exporter": "python",
   "pygments_lexer": "ipython3",
   "version": "3.9.12"
  }
 },
 "nbformat": 4,
 "nbformat_minor": 5
}
