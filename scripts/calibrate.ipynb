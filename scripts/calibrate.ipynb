{
 "cells": [
  {
   "cell_type": "markdown",
   "id": "457d6265-c557-4ab1-a0e7-a89d80a94f43",
   "metadata": {},
   "source": [
    "### Luminance Calibration"
   ]
  },
  {
   "cell_type": "code",
   "execution_count": 1,
   "id": "e4df63bf-a5a3-4cfe-9300-85aea0dbca03",
   "metadata": {},
   "outputs": [],
   "source": [
    "%matplotlib widget\n",
    "import numpy as np\n",
    "from matplotlib import pyplot as plt\n",
    "import glob\n",
    "from PIL import Image\n",
    "import skimage.color as color\n",
    "\n",
    "import os\n",
    "import sys  \n",
    "sys.path.insert(0, '../dip_utils')\n",
    "\n",
    "from matrix_utils import arr_info\n",
    "from vis_utils import (vis_rgb_cube,\n",
    "                       vis_hists,\n",
    "                       vis_pair)\n",
    "from mpl_toolkits.axes_grid1.inset_locator import zoomed_inset_axes \n",
    "from mpl_toolkits.axes_grid1.inset_locator import mark_inset"
   ]
  },
  {
   "cell_type": "code",
   "execution_count": 2,
   "id": "7a07e430-0929-493b-a793-54dd8e081cd1",
   "metadata": {},
   "outputs": [],
   "source": [
    "def polygon(I):\n",
    "    return I[0:250, 0:I.shape[1]]"
   ]
  },
  {
   "cell_type": "code",
   "execution_count": 3,
   "id": "534e1062-8afb-4c40-84e7-731c1e685d0b",
   "metadata": {},
   "outputs": [],
   "source": [
    "def lab_trans(clear, img):\n",
    "    clear = plt.imread(clear)\n",
    "    clear_p = polygon(clear) # select ROI\n",
    "    img_p = polygon(img)\n",
    "    clearlab_p = color.rgb2lab(clear_p)  # transfer to LAB (only the A4 paper portion)\n",
    "    imglab_p = color.rgb2lab(img_p)\n",
    "    clearlab = color.rgb2lab(clear)    # transfer original to LAB\n",
    "    imglab = color.rgb2lab(img)\n",
    "    clear_l = clearlab_p[..., 0].mean()\n",
    "    img_l = imglab_p[..., 0].mean()\n",
    "    ratio = clear_l / img_l\n",
    "    imglab[..., 0] *= ratio\n",
    "    img_rgb = color.lab2rgb(imglab)\n",
    "    img_rgb = np.uint8(255 * (img_rgb / img_rgb.max()))\n",
    "    return img_rgb"
   ]
  },
  {
   "cell_type": "code",
   "execution_count": 4,
   "id": "5558f4f6-5c92-409b-90d1-9426b4fb3ada",
   "metadata": {},
   "outputs": [],
   "source": [
    "# I = plt.imread('../stacked_test/NTU3_18.jpg')\n",
    "# clear = '../stacked_new/NTU0.jpg'\n",
    "# J = lab_trans(clear, I)\n",
    "# vis_pair(I, J)"
   ]
  },
  {
   "cell_type": "code",
   "execution_count": 5,
   "id": "c0cb5b40-8a74-4278-91ad-14dcad754f6f",
   "metadata": {},
   "outputs": [],
   "source": [
    "# plt.savefig('../assets/calibrated.pdf', dpi=600)"
   ]
  },
  {
   "cell_type": "code",
   "execution_count": 6,
   "id": "e87b626a-8336-4cea-b708-c14a4e5183df",
   "metadata": {},
   "outputs": [],
   "source": [
    "# x1 = 169\n",
    "# x2 = 339\n",
    "# y1 = 816\n",
    "# y2 = 986"
   ]
  },
  {
   "cell_type": "code",
   "execution_count": 7,
   "id": "6830898d-83b7-42e9-88d8-37405f1195f1",
   "metadata": {},
   "outputs": [],
   "source": [
    "# f, ax = plt.subplots(1,2,figsize=(6,5), sharex=True, sharey=True)\n",
    "# ax[0].imshow(I)\n",
    "# ax[0].set_title('Original Image')\n",
    "# ax[1].imshow(J) # black to red colormap\n",
    "# ax[1].set_title('Stacked Image')\n",
    "# axinsl = zoomed_inset_axes(ax[0], 2, loc=1) # zoom = 2\n",
    "# axinsl.imshow(I)\n",
    "# axinsl.set_xlim(x1, x2)\n",
    "# axinsl.set_ylim(y1, y2)\n",
    "# mark_inset(ax[0], axinsl, loc1=2, loc2=4, fc=\"none\", ec=\"0.5\")\n",
    "# plt.xticks(visible=False)\n",
    "# plt.yticks(visible=False)\n",
    "# axinsr = zoomed_inset_axes(ax[1], 2, loc=1) # zoom = 2\n",
    "# axinsr.imshow(J)\n",
    "# axinsr.set_xlim(x1, x2)\n",
    "# axinsr.set_ylim(y1, y2)\n",
    "# mark_inset(ax[1], axinsr, loc1=2, loc2=4, fc=\"none\", ec=\"0.5\")\n",
    "# ax[0].tick_params(\n",
    "#     axis='both',         \n",
    "#     which='both',      \n",
    "#     bottom=False,      \n",
    "#     top=False,         \n",
    "#     labelbottom=False) \n",
    "# ax[1].tick_params(\n",
    "#     axis='both',         \n",
    "#     which='both',      \n",
    "#     bottom=False,      \n",
    "#     top=False,         \n",
    "#     labelbottom=False) \n",
    "# [a.axes.get_xaxis().set_visible(False) for a in ax];\n",
    "# [a.axes.get_yaxis().set_visible(False) for a in ax];\n",
    "# plt.xticks(visible=False)\n",
    "# plt.yticks(visible=False)\n",
    "# plt.draw()\n",
    "# plt.show()"
   ]
  },
  {
   "cell_type": "code",
   "execution_count": 8,
   "id": "de498ac2-50e3-4d89-a018-820172d18b7c",
   "metadata": {},
   "outputs": [],
   "source": [
    "# plt.savefig('../assets/calibrated_zoom.pdf', dpi=600)"
   ]
  },
  {
   "cell_type": "code",
   "execution_count": 9,
   "id": "c2f9ed4c-4573-4526-a413-5c10143a3b35",
   "metadata": {},
   "outputs": [],
   "source": [
    "# x1 = 0\n",
    "# x2 = 200\n",
    "# y1 = 0\n",
    "# y2 = 200"
   ]
  },
  {
   "cell_type": "code",
   "execution_count": 10,
   "id": "8c884207-9990-42fa-bde7-72fd06bb32bb",
   "metadata": {},
   "outputs": [],
   "source": [
    "# I = plt.imread('../test/NTU0.jpg')"
   ]
  },
  {
   "cell_type": "code",
   "execution_count": 11,
   "id": "1bf3b2ea-174f-4131-adaf-c3e15b797e94",
   "metadata": {},
   "outputs": [],
   "source": [
    "# f, ax = plt.subplots(1,1,figsize=(5,5), sharex=True, sharey=True)\n",
    "# ax.imshow(I)\n",
    "# ax.set_title('Reference Image')\n",
    "# axinsl = zoomed_inset_axes(ax, 2, loc=1) # zoom = 2\n",
    "# axinsl.imshow(I)\n",
    "# axinsl.set_xlim(x2, x1)\n",
    "# axinsl.set_ylim(y1, y2)\n",
    "# mark_inset(ax, axinsl, loc1=2, loc2=4, fc=\"none\", ec=\"0.5\")\n",
    "# plt.xticks(visible=False)\n",
    "# plt.yticks(visible=False)\n",
    "# ax.tick_params(\n",
    "#     axis='both',         \n",
    "#     which='both',      \n",
    "#     bottom=False,      \n",
    "#     top=False,         \n",
    "#     labelbottom=False) \n",
    "# ax.axes.get_xaxis().set_visible(False)\n",
    "# ax.axes.get_yaxis().set_visible(False)\n",
    "# plt.xticks(visible=False)\n",
    "# plt.yticks(visible=False)\n",
    "# plt.draw()\n",
    "# plt.show()"
   ]
  },
  {
   "cell_type": "code",
   "execution_count": 12,
   "id": "61e5fae5-ce93-4d83-b1a0-2ae6c87f7056",
   "metadata": {},
   "outputs": [],
   "source": [
    "# plt.savefig('../assets/ref_zoom.pdf', dpi=600)"
   ]
  },
  {
   "cell_type": "code",
   "execution_count": null,
   "id": "a1bb07a5-98cf-49c2-aba5-0d0fffe34437",
   "metadata": {},
   "outputs": [],
   "source": []
  }
 ],
 "metadata": {
  "kernelspec": {
   "display_name": "Python 3",
   "language": "python",
   "name": "python3"
  },
  "language_info": {
   "codemirror_mode": {
    "name": "ipython",
    "version": 3
   },
   "file_extension": ".py",
   "mimetype": "text/x-python",
   "name": "python",
   "nbconvert_exporter": "python",
   "pygments_lexer": "ipython3",
   "version": "3.9.12"
  }
 },
 "nbformat": 4,
 "nbformat_minor": 5
}
