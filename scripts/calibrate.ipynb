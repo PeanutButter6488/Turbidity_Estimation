{
 "cells": [
  {
   "cell_type": "markdown",
   "id": "457d6265-c557-4ab1-a0e7-a89d80a94f43",
   "metadata": {},
   "source": [
    "### Luminance Calibration"
   ]
  },
  {
   "cell_type": "code",
   "execution_count": 1,
   "id": "e4df63bf-a5a3-4cfe-9300-85aea0dbca03",
   "metadata": {},
   "outputs": [],
   "source": [
    "%matplotlib widget\n",
    "import numpy as np\n",
    "from matplotlib import pyplot as plt\n",
    "import glob\n",
    "from PIL import Image\n",
    "import skimage.color as color\n",
    "\n",
    "import os\n",
    "import sys  \n",
    "sys.path.insert(0, '../dip_utils')\n",
    "\n",
    "from matrix_utils import arr_info\n",
    "from vis_utils import (vis_rgb_cube,\n",
    "                       vis_hists,\n",
    "                       vis_pair)\n",
    "from mpl_toolkits.axes_grid1.inset_locator import zoomed_inset_axes \n",
    "from mpl_toolkits.axes_grid1.inset_locator import mark_inset"
   ]
  },
  {
   "cell_type": "code",
   "execution_count": 2,
   "id": "7a07e430-0929-493b-a793-54dd8e081cd1",
   "metadata": {},
   "outputs": [],
   "source": [
    "def polygon(I):\n",
    "    return I[0:250, 0:I.shape[1]]"
   ]
  },
  {
   "cell_type": "code",
   "execution_count": 3,
   "id": "534e1062-8afb-4c40-84e7-731c1e685d0b",
   "metadata": {},
   "outputs": [],
   "source": [
    "def lab_trans(clear, img):\n",
    "    clear = plt.imread(clear)\n",
    "    clear_p = polygon(clear) # select ROI\n",
    "    img_p = polygon(img)\n",
    "    clearlab_p = color.rgb2lab(clear_p)  # transfer to LAB (only the A4 paper portion)\n",
    "    imglab_p = color.rgb2lab(img_p)\n",
    "    clearlab = color.rgb2lab(clear)    # transfer original to LAB\n",
    "    imglab = color.rgb2lab(img)\n",
    "    clear_l = clearlab_p[..., 0].mean()\n",
    "    img_l = imglab_p[..., 0].mean()\n",
    "    ratio = clear_l / img_l\n",
    "    imglab[..., 0] *= ratio\n",
    "    img_rgb = color.lab2rgb(imglab)\n",
    "    img_rgb = np.uint8(255 * (img_rgb / img_rgb.max()))\n",
    "    return img_rgb"
   ]
  }
 ],
 "metadata": {
  "kernelspec": {
   "display_name": "Python 3",
   "language": "python",
   "name": "python3"
  },
  "language_info": {
   "codemirror_mode": {
    "name": "ipython",
    "version": 3
   },
   "file_extension": ".py",
   "mimetype": "text/x-python",
   "name": "python",
   "nbconvert_exporter": "python",
   "pygments_lexer": "ipython3",
   "version": "3.9.12"
  }
 },
 "nbformat": 4,
 "nbformat_minor": 5
}
