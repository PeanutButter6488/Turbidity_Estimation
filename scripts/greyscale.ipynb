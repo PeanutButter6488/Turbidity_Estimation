{
 "cells": [
  {
   "cell_type": "markdown",
   "id": "80ad5def-a243-42f2-8a3a-075ceaaa1359",
   "metadata": {},
   "source": [
    "### Greyscale Transformation\n",
    "\n",
    "Transfer a multi-channel image into single channel, namely into Greyscale."
   ]
  },
  {
   "cell_type": "code",
   "execution_count": 1,
   "id": "67cbe421-37f3-408c-a13e-ce18be0497a9",
   "metadata": {},
   "outputs": [],
   "source": [
    "import numpy as np"
   ]
  },
  {
   "cell_type": "code",
   "execution_count": 2,
   "id": "feba4a9a-9792-4f96-9b45-7152c610fa40",
   "metadata": {},
   "outputs": [],
   "source": [
    "#If it's a multi-channel image, try to get it in [0,255]\n",
    "def to_single_channel(I):\n",
    "    if (len(I.shape) > 2):\n",
    "        Ig = 0.2989 * I[..., 0] + 0.5870 * I[..., 1] + 0.1140 * I[..., 2]\n",
    "        I = Ig\n",
    "\n",
    "        I = I/I.ravel().max()\n",
    "        I = 255*I\n",
    "        I = np.round(I)\n",
    "        I[I>255] = 255\n",
    "        I = I.copy().astype('uint8')\n",
    "        return I"
   ]
  }
 ],
 "metadata": {
  "kernelspec": {
   "display_name": "Python 3 (ipykernel)",
   "language": "python",
   "name": "python3"
  },
  "language_info": {
   "codemirror_mode": {
    "name": "ipython",
    "version": 3
   },
   "file_extension": ".py",
   "mimetype": "text/x-python",
   "name": "python",
   "nbconvert_exporter": "python",
   "pygments_lexer": "ipython3",
   "version": "3.9.13"
  }
 },
 "nbformat": 4,
 "nbformat_minor": 5
}
