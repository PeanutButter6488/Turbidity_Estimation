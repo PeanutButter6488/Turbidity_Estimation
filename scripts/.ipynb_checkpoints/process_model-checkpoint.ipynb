{
 "cells": [
  {
   "cell_type": "code",
   "execution_count": 1,
   "id": "a3c43f6e-b722-422a-b100-280acf85663f",
   "metadata": {},
   "outputs": [],
   "source": [
    "%matplotlib widget\n",
    "import numpy as np\n",
    "import pandas as pd\n",
    "from matplotlib import pyplot as plt\n",
    "import statsmodels.api as sm\n",
    "from statsmodels.formula.api import ols\n",
    "import glob\n",
    "import cv2\n",
    "\n",
    "import os\n",
    "import sys  \n",
    "import re\n",
    "sys.path.insert(0, '../dip_utils')\n",
    "\n",
    "from matrix_utils import arr_info\n",
    "from vis_utils import (vis_rgb_cube,\n",
    "                       vis_hists,\n",
    "                       vis_pair, \n",
    "                       vis_triple)\n",
    "%run watershed.ipynb\n",
    "%run calibrate.ipynb\n",
    "%run greyscale.ipynb\n",
    "%run image_stacking.ipynb\n",
    "%run whitep_elimination.ipynb"
   ]
  },
  {
   "cell_type": "code",
   "execution_count": 2,
   "id": "a1966a3a-d114-4963-aaaa-2c159cf6ab37",
   "metadata": {},
   "outputs": [],
   "source": [
    "path = '../sampled_images'\n",
    "dest = '../stacked_new'"
   ]
  },
  {
   "cell_type": "code",
   "execution_count": 3,
   "id": "93282153-087b-4f33-a0c2-b7b2357d15f0",
   "metadata": {},
   "outputs": [],
   "source": [
    "files = glob.glob('%s/*' % dest)\n",
    "for f in files:\n",
    "    os.remove(f)"
   ]
  },
  {
   "cell_type": "code",
   "execution_count": 4,
   "id": "fe7e2177-a218-477a-b349-e14e3e2f6ed4",
   "metadata": {},
   "outputs": [],
   "source": [
    "image_stacking(path, dest)"
   ]
  },
  {
   "cell_type": "code",
   "execution_count": 5,
   "id": "6f00a2c0-dad6-416a-b0ec-06f6e875ee0e",
   "metadata": {},
   "outputs": [],
   "source": [
    "clear = '../stacked_new/NTU0.jpg'"
   ]
  },
  {
   "cell_type": "code",
   "execution_count": 6,
   "id": "a498314d-811e-42e5-bfcb-295027f1b636",
   "metadata": {},
   "outputs": [],
   "source": [
    "img_lib = []"
   ]
  },
  {
   "cell_type": "code",
   "execution_count": 7,
   "id": "1d9a0c41-d6a6-4a17-b3ab-85ff69f66f8c",
   "metadata": {},
   "outputs": [],
   "source": [
    "for dic in os.listdir(dest):\n",
    "    if dic != '.ipynb_checkpoints':\n",
    "        img_lib.append(dic)"
   ]
  },
  {
   "cell_type": "code",
   "execution_count": 8,
   "id": "e96d1bdd-7ac1-48fa-8b06-10a93e9ae4c5",
   "metadata": {},
   "outputs": [],
   "source": [
    "white_spot_elimination(dest)"
   ]
  },
  {
   "cell_type": "code",
   "execution_count": 9,
   "id": "5d5edae2-9cc8-4421-abf5-b9aece7acfaa",
   "metadata": {},
   "outputs": [],
   "source": [
    "markers_lib = dict()\n",
    "for img in img_lib:\n",
    "    markers = watershed(dest, img)\n",
    "    markers_lib[img] = markers"
   ]
  },
  {
   "cell_type": "code",
   "execution_count": 10,
   "id": "f22369bf-9285-4ca2-bab4-4900a62bce2a",
   "metadata": {},
   "outputs": [],
   "source": [
    "bottom_lib = dict()\n",
    "left_lib = dict()"
   ]
  },
  {
   "cell_type": "code",
   "execution_count": 11,
   "id": "8b7cbe6b-4d6f-42ce-9a46-24f5e068b3bb",
   "metadata": {},
   "outputs": [
    {
     "data": {
      "text/plain": [
       "({'NTU85.jpg': 1700,\n",
       "  'NTU190.jpg': 1700,\n",
       "  'NTU156.jpg': 1700,\n",
       "  'NTU41.jpg': 1700,\n",
       "  'NTU95.jpg': 1700,\n",
       "  'NTU87_5.jpg': 1700,\n",
       "  'NTU44_2.jpg': 1700,\n",
       "  'NTU76_1.jpg': 1700,\n",
       "  'NTU0.jpg': 1700,\n",
       "  'NTU290.jpg': 1700,\n",
       "  'NTU113.jpg': 1700,\n",
       "  'NTU69_9.jpg': 1700,\n",
       "  'NTU182.jpg': 1700,\n",
       "  'NTU142.jpg': 1700,\n",
       "  'NTU36_5.jpg': 1700,\n",
       "  'NTU16_1.jpg': 1700,\n",
       "  'NTU167.jpg': 1700,\n",
       "  'NTU108.jpg': 1700,\n",
       "  'NTU208.jpg': 1700,\n",
       "  'NTU250.jpg': 1700,\n",
       "  'NTU212.jpg': 1700,\n",
       "  'NTU235.jpg': 1700,\n",
       "  'NTU281.jpg': 1700,\n",
       "  'NTU266.jpg': 1700,\n",
       "  'NTU256.jpg': 1700,\n",
       "  'NTU145.jpg': 1700,\n",
       "  'NTU126.jpg': 1700,\n",
       "  'NTU129.jpg': 1700,\n",
       "  'NTU135.jpg': 1676,\n",
       "  'NTU50.jpg': 1700,\n",
       "  'NTU33_3.jpg': 1700,\n",
       "  'NTU24_5.jpg': 1700,\n",
       "  'NTU123.jpg': 1700,\n",
       "  'NTU224.jpg': 1700,\n",
       "  'NTU308.jpg': 1700,\n",
       "  'NTU272.jpg': 1700,\n",
       "  'NTU341.jpg': 1700,\n",
       "  'NTU315.jpg': 1700,\n",
       "  'NTU330.jpg': 1700},\n",
       " {'NTU85.jpg': 1,\n",
       "  'NTU190.jpg': 1,\n",
       "  'NTU156.jpg': 278,\n",
       "  'NTU41.jpg': 277,\n",
       "  'NTU95.jpg': 1,\n",
       "  'NTU87_5.jpg': 186,\n",
       "  'NTU44_2.jpg': 179,\n",
       "  'NTU76_1.jpg': 116,\n",
       "  'NTU0.jpg': 155,\n",
       "  'NTU290.jpg': 1,\n",
       "  'NTU113.jpg': 105,\n",
       "  'NTU69_9.jpg': 248,\n",
       "  'NTU182.jpg': 440,\n",
       "  'NTU142.jpg': 92,\n",
       "  'NTU36_5.jpg': 207,\n",
       "  'NTU16_1.jpg': 111,\n",
       "  'NTU167.jpg': 211,\n",
       "  'NTU108.jpg': 228,\n",
       "  'NTU208.jpg': 130,\n",
       "  'NTU250.jpg': 230,\n",
       "  'NTU212.jpg': 1,\n",
       "  'NTU235.jpg': 213,\n",
       "  'NTU281.jpg': 196,\n",
       "  'NTU266.jpg': 164,\n",
       "  'NTU256.jpg': 134,\n",
       "  'NTU145.jpg': 186,\n",
       "  'NTU126.jpg': 231,\n",
       "  'NTU129.jpg': 375,\n",
       "  'NTU135.jpg': 1,\n",
       "  'NTU50.jpg': 172,\n",
       "  'NTU33_3.jpg': 1,\n",
       "  'NTU24_5.jpg': 196,\n",
       "  'NTU123.jpg': 1,\n",
       "  'NTU224.jpg': 428,\n",
       "  'NTU308.jpg': 211,\n",
       "  'NTU272.jpg': 65,\n",
       "  'NTU341.jpg': 160,\n",
       "  'NTU315.jpg': 208,\n",
       "  'NTU330.jpg': 218})"
      ]
     },
     "execution_count": 11,
     "metadata": {},
     "output_type": "execute_result"
    }
   ],
   "source": [
    "# Acquire the bottom and the leftmost point of the ROI\n",
    "for key in markers_lib:\n",
    "    bottom = np.where(markers_lib[key]==1)[0].max()\n",
    "    bottom_lib[key] = bottom\n",
    "    left = np.where((markers_lib[key]!=1) & (markers_lib[key]!=-1))[1].min()\n",
    "    left_lib[key] = left"
   ]
  },
  {
   "cell_type": "code",
   "execution_count": 12,
   "id": "7f204fc9-f932-40f3-932b-a9de446f1ab7",
   "metadata": {},
   "outputs": [],
   "source": [
    "# Some threshold values\n",
    "vert_thres = 500\n",
    "horz_thres = 50\n",
    "length = 80\n",
    "dist = 350"
   ]
  },
  {
   "cell_type": "code",
   "execution_count": 13,
   "id": "0be2d0ba-352f-4716-bae4-daccc304dec8",
   "metadata": {},
   "outputs": [
    {
     "data": {
      "text/plain": [
       "{'NTU85.jpg': 151,\n",
       " 'NTU190.jpg': 301,\n",
       " 'NTU156.jpg': 278,\n",
       " 'NTU41.jpg': 277,\n",
       " 'NTU95.jpg': 151,\n",
       " 'NTU87_5.jpg': 236,\n",
       " 'NTU44_2.jpg': 179,\n",
       " 'NTU76_1.jpg': 166,\n",
       " 'NTU0.jpg': 205,\n",
       " 'NTU290.jpg': 151,\n",
       " 'NTU113.jpg': 155,\n",
       " 'NTU69_9.jpg': 248,\n",
       " 'NTU182.jpg': 440,\n",
       " 'NTU142.jpg': 142,\n",
       " 'NTU36_5.jpg': 207,\n",
       " 'NTU16_1.jpg': 161,\n",
       " 'NTU167.jpg': 211,\n",
       " 'NTU108.jpg': 228,\n",
       " 'NTU208.jpg': 180,\n",
       " 'NTU250.jpg': 230,\n",
       " 'NTU212.jpg': 101,\n",
       " 'NTU235.jpg': 213,\n",
       " 'NTU281.jpg': 196,\n",
       " 'NTU266.jpg': 164,\n",
       " 'NTU256.jpg': 184,\n",
       " 'NTU145.jpg': 186,\n",
       " 'NTU126.jpg': 231,\n",
       " 'NTU129.jpg': 425,\n",
       " 'NTU135.jpg': 151,\n",
       " 'NTU50.jpg': 172,\n",
       " 'NTU33_3.jpg': 151,\n",
       " 'NTU24_5.jpg': 196,\n",
       " 'NTU123.jpg': 151,\n",
       " 'NTU224.jpg': 478,\n",
       " 'NTU308.jpg': 211,\n",
       " 'NTU272.jpg': 115,\n",
       " 'NTU341.jpg': 160,\n",
       " 'NTU315.jpg': 208,\n",
       " 'NTU330.jpg': 218}"
      ]
     },
     "execution_count": 13,
     "metadata": {},
     "output_type": "execute_result"
    }
   ],
   "source": [
    "# Avoid Extracting incorrect ROI\n",
    "for key in markers_lib:\n",
    "    while markers_lib[key][bottom_lib[key]-vert_thres, left_lib[key]+horz_thres] == 1:\n",
    "        left_lib[key] += horz_thres"
   ]
  },
  {
   "cell_type": "code",
   "execution_count": null,
   "id": "e94fe81e-3edd-408f-a256-9dd94e8ba255",
   "metadata": {},
   "outputs": [],
   "source": [
    "# Calibration\n",
    "calibrated = {}\n",
    "for img in img_lib:\n",
    "    org = plt.imread(os.path.join(dest, img))\n",
    "    org = lab_trans(clear, org)\n",
    "    calibrated[img] = org"
   ]
  },
  {
   "cell_type": "code",
   "execution_count": null,
   "id": "631238ad-b422-4c87-9196-ea1183b37f85",
   "metadata": {},
   "outputs": [],
   "source": [
    "greyscale = {}\n",
    "for img in img_lib:\n",
    "    grey = calibrated[img]\n",
    "    grey = to_single_channel(grey)\n",
    "    greyscale[img] = grey"
   ]
  },
  {
   "cell_type": "code",
   "execution_count": null,
   "id": "897513e8-99e3-4cef-9c39-3a229e6c5ae4",
   "metadata": {},
   "outputs": [],
   "source": [
    "# x_left represents the ROI of the reference, while x_right represents the ROI of the sample\n",
    "x_left = []\n",
    "x_right = []\n",
    "y_left = []\n",
    "y_right = []"
   ]
  },
  {
   "cell_type": "code",
   "execution_count": null,
   "id": "0c3c0a7d-c725-4a1b-8e97-699ed24c928c",
   "metadata": {},
   "outputs": [],
   "source": [
    "for key in greyscale:\n",
    "    x = []\n",
    "    x1 = []\n",
    "    y = []\n",
    "    y1 = []\n",
    "    for i in range(bottom_lib[key], bottom_lib[key]-vert_thres, -1):\n",
    "        x.append(i)\n",
    "        y.append(np.mean(greyscale[key][i-1:i, left_lib[key]+horz_thres:left_lib[key]+horz_thres+length]))\n",
    "    x_left.append(x)\n",
    "    y_left.append(y)\n",
    "    for i in range(bottom_lib[key], bottom_lib[key]-vert_thres, -1):\n",
    "        x1.append(i)\n",
    "        y1.append(np.mean(greyscale[key][i-1:i, left_lib[key]+horz_thres+dist:\n",
    "                                         left_lib[key]+horz_thres+dist+length]))\n",
    "    x_right.append(x1)\n",
    "    y_right.append(y1)"
   ]
  },
  {
   "cell_type": "code",
   "execution_count": null,
   "id": "fefb2984-be44-45c2-878d-7963b2ef4688",
   "metadata": {},
   "outputs": [],
   "source": [
    "x_left = np.array(x_left)\n",
    "x_right = np.array(x_right)\n",
    "y_left = np.array(y_left)\n",
    "y_right = np.array(y_right)"
   ]
  },
  {
   "cell_type": "code",
   "execution_count": null,
   "id": "42f97bf8-09b3-4b1f-9360-989d1d5e9c05",
   "metadata": {},
   "outputs": [],
   "source": [
    "arr_info(x_left), arr_info(y_left)"
   ]
  },
  {
   "cell_type": "code",
   "execution_count": null,
   "id": "e99fd2cc-ac6a-4d59-8274-929557191f8a",
   "metadata": {},
   "outputs": [],
   "source": [
    "# plot the ratio with respect to NTU\n",
    "num = []\n",
    "for img in img_lib:\n",
    "    img = img.replace('_', '.')\n",
    "    a = img.split('NTU')\n",
    "    a = [b.split('.jpg') for b in a]\n",
    "    for item in a:\n",
    "        item.remove(\"\")\n",
    "    num.append(a)"
   ]
  },
  {
   "cell_type": "code",
   "execution_count": null,
   "id": "a4a96337-bec0-414c-b38d-a84bfc4fcac6",
   "metadata": {},
   "outputs": [],
   "source": [
    "NTU = []\n",
    "for i in num:\n",
    "    for j in i:\n",
    "        if len(j) != 0:\n",
    "            NTU.append(float(j[0]))"
   ]
  },
  {
   "cell_type": "code",
   "execution_count": null,
   "id": "f70fc52b-4d6c-487f-841b-bf33f03f7c81",
   "metadata": {},
   "outputs": [],
   "source": [
    "diff = {}\n",
    "for i in range(x_left.shape[0]):\n",
    "    diff[img_lib[i]] = np.mean(y_right[i] - y_left[i])\n",
    "diff"
   ]
  },
  {
   "cell_type": "code",
   "execution_count": null,
   "id": "41e5435e-7fa8-43ab-b3a9-4bf98ddcc20a",
   "metadata": {},
   "outputs": [],
   "source": [
    "diff_c = diff['NTU0.jpg']\n",
    "for key in diff:\n",
    "    diff[key] -= diff_c\n",
    "diff"
   ]
  },
  {
   "cell_type": "code",
   "execution_count": null,
   "id": "ed571063-af76-4adb-bd54-bbfecc82ec18",
   "metadata": {},
   "outputs": [],
   "source": [
    "pixel_intensity = []\n",
    "for key in diff:\n",
    "    pixel_intensity.append(diff[key])\n",
    "pixel_intensity = np.array(pixel_intensity)"
   ]
  },
  {
   "cell_type": "code",
   "execution_count": null,
   "id": "830dae12-8eeb-4e5e-bf87-90c1130ccf94",
   "metadata": {},
   "outputs": [],
   "source": [
    "NTU = np.array(NTU)"
   ]
  },
  {
   "cell_type": "code",
   "execution_count": null,
   "id": "cc63ad87-139e-4f8a-9a8e-7aaaf2b4fe13",
   "metadata": {},
   "outputs": [],
   "source": [
    "df = pd.DataFrame({'pixel intensity': pixel_intensity,\n",
    "                   'turbidity (NTU)': NTU})"
   ]
  },
  {
   "cell_type": "code",
   "execution_count": null,
   "id": "04e2bae2-9d0e-4a6c-bea5-5788f511d2e1",
   "metadata": {},
   "outputs": [],
   "source": [
    "#fit simple linear regression model\n",
    "model = ols('NTU ~ pixel_intensity', data=df).fit()\n",
    "\n",
    "#view model summary\n",
    "print(model.summary())"
   ]
  },
  {
   "cell_type": "code",
   "execution_count": null,
   "id": "08062d38-1880-4f1d-b569-cad3b7a2db5d",
   "metadata": {},
   "outputs": [],
   "source": [
    "plt.figure()\n",
    "plt.plot(pixel_intensity, NTU, 'yo')\n",
    "plt.title('Pixel Intensity V.S. NTU Value')"
   ]
  },
  {
   "cell_type": "code",
   "execution_count": null,
   "id": "a7b307f0-a1c4-409e-883c-655776d867e9",
   "metadata": {},
   "outputs": [],
   "source": [
    "theta = np.polyfit(pixel_intensity, NTU, 1)\n",
    "theta"
   ]
  },
  {
   "cell_type": "code",
   "execution_count": null,
   "id": "3433a0bb-5b4a-4ce2-88a1-3a44543616b8",
   "metadata": {},
   "outputs": [],
   "source": [
    "plt.plot(pixel_intensity, theta[0]*pixel_intensity + theta[1])"
   ]
  },
  {
   "cell_type": "code",
   "execution_count": null,
   "id": "7b142431-2159-4e9d-8c7d-0cc487b526a3",
   "metadata": {},
   "outputs": [],
   "source": [
    "# Figure 8\n",
    "#define figure size\n",
    "fig = plt.figure(figsize=(12,8))\n",
    "\n",
    "#produce regression plots\n",
    "fig = sm.graphics.plot_regress_exog(model, 'pixel_intensity', fig=fig)"
   ]
  },
  {
   "cell_type": "code",
   "execution_count": null,
   "id": "f9859cf8-bfe5-431e-bb09-fa6d6ed35be4",
   "metadata": {},
   "outputs": [],
   "source": [
    "f = open('../assets/theta.txt', 'w')\n",
    "f.write(str(diff_c))\n",
    "f.write('\\n')\n",
    "f.write(str(theta[0]))\n",
    "f.write('\\n')\n",
    "f.write(str(theta[1]))\n",
    "f.close()"
   ]
  },
  {
   "cell_type": "code",
   "execution_count": null,
   "id": "424fc630-13bb-459b-9fdc-09ee248c9078",
   "metadata": {},
   "outputs": [],
   "source": [
    "plt.savefig('../assets/model_fit.pdf', dpi=600)"
   ]
  },
  {
   "cell_type": "code",
   "execution_count": null,
   "id": "3d1fbb19-15de-476c-8251-cdc9cf1f6f0e",
   "metadata": {},
   "outputs": [],
   "source": []
  }
 ],
 "metadata": {
  "kernelspec": {
   "display_name": "Python 3",
   "language": "python",
   "name": "python3"
  },
  "language_info": {
   "codemirror_mode": {
    "name": "ipython",
    "version": 3
   },
   "file_extension": ".py",
   "mimetype": "text/x-python",
   "name": "python",
   "nbconvert_exporter": "python",
   "pygments_lexer": "ipython3",
   "version": "3.9.12"
  }
 },
 "nbformat": 4,
 "nbformat_minor": 5
}
