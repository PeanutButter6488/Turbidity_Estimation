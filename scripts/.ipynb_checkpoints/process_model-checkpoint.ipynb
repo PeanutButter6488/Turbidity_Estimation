{
 "cells": [
  {
   "cell_type": "code",
   "execution_count": 1,
   "id": "a3c43f6e-b722-422a-b100-280acf85663f",
   "metadata": {},
   "outputs": [],
   "source": [
    "%matplotlib widget\n",
    "import numpy as np\n",
    "import pandas as pd\n",
    "from matplotlib import pyplot as plt\n",
    "import statsmodels.api as sm\n",
    "from statsmodels.formula.api import ols\n",
    "import glob\n",
    "import cv2\n",
    "\n",
    "import os\n",
    "import sys  \n",
    "import re\n",
    "sys.path.insert(0, '../dip_utils')\n",
    "\n",
    "from matrix_utils import arr_info\n",
    "from vis_utils import (vis_rgb_cube,\n",
    "                       vis_hists,\n",
    "                       vis_pair, \n",
    "                       vis_triple)\n",
    "%run watershed.ipynb\n",
    "%run calibrate.ipynb\n",
    "%run greyscale.ipynb\n",
    "%run image_stacking.ipynb\n",
    "%run whitep_elimination.ipynb"
   ]
  },
  {
   "cell_type": "code",
   "execution_count": 2,
   "id": "a1966a3a-d114-4963-aaaa-2c159cf6ab37",
   "metadata": {},
   "outputs": [],
   "source": [
    "path = '../sampled_images'\n",
    "dest = '../stacked_new'"
   ]
  },
  {
   "cell_type": "code",
   "execution_count": 3,
   "id": "93282153-087b-4f33-a0c2-b7b2357d15f0",
   "metadata": {},
   "outputs": [],
   "source": [
    "files = glob.glob('%s/*' % dest)\n",
    "for f in files:\n",
    "    os.remove(f)"
   ]
  },
  {
   "cell_type": "code",
   "execution_count": 4,
   "id": "fe7e2177-a218-477a-b349-e14e3e2f6ed4",
   "metadata": {},
   "outputs": [],
   "source": [
    "image_stacking(path, dest)"
   ]
  },
  {
   "cell_type": "code",
   "execution_count": 5,
   "id": "6f00a2c0-dad6-416a-b0ec-06f6e875ee0e",
   "metadata": {},
   "outputs": [],
   "source": [
    "clear = '../stacked_new/NTU0.jpg'"
   ]
  },
  {
   "cell_type": "code",
   "execution_count": 6,
   "id": "a498314d-811e-42e5-bfcb-295027f1b636",
   "metadata": {},
   "outputs": [],
   "source": [
    "img_lib = []"
   ]
  },
  {
   "cell_type": "code",
   "execution_count": 7,
   "id": "1d9a0c41-d6a6-4a17-b3ab-85ff69f66f8c",
   "metadata": {},
   "outputs": [
    {
     "data": {
      "text/plain": [
       "['NTU108.jpg',\n",
       " 'NTU315.jpg',\n",
       " 'NTU212.jpg',\n",
       " 'NTU190.jpg',\n",
       " 'NTU167.jpg',\n",
       " 'NTU256.jpg',\n",
       " 'NTU224.jpg',\n",
       " 'NTU76_1.jpg',\n",
       " 'NTU36_5.jpg',\n",
       " 'NTU250.jpg',\n",
       " 'NTU16_1.jpg',\n",
       " 'NTU87_5.jpg',\n",
       " 'NTU272.jpg',\n",
       " 'NTU50.jpg',\n",
       " 'NTU235.jpg',\n",
       " 'NTU308.jpg',\n",
       " 'NTU341.jpg',\n",
       " 'NTU0.jpg',\n",
       " 'NTU24_5.jpg',\n",
       " 'NTU95.jpg',\n",
       " 'NTU44_2.jpg',\n",
       " 'NTU266.jpg',\n",
       " 'NTU156.jpg',\n",
       " 'NTU123.jpg',\n",
       " 'NTU113.jpg',\n",
       " 'NTU145.jpg',\n",
       " 'NTU182.jpg',\n",
       " 'NTU126.jpg',\n",
       " 'NTU208.jpg',\n",
       " 'NTU69_9.jpg',\n",
       " 'NTU33_3.jpg',\n",
       " 'NTU41.jpg',\n",
       " 'NTU85.jpg',\n",
       " 'NTU135.jpg',\n",
       " 'NTU281.jpg',\n",
       " 'NTU129.jpg',\n",
       " 'NTU142.jpg',\n",
       " 'NTU290.jpg',\n",
       " 'NTU330.jpg']"
      ]
     },
     "execution_count": 7,
     "metadata": {},
     "output_type": "execute_result"
    }
   ],
   "source": [
    "for dic in os.listdir(dest):\n",
    "    if dic != '.ipynb_checkpoints':\n",
    "        img_lib.append(dic)\n",
    "img_lib"
   ]
  },
  {
   "cell_type": "code",
   "execution_count": 8,
   "id": "5d5edae2-9cc8-4421-abf5-b9aece7acfaa",
   "metadata": {},
   "outputs": [],
   "source": [
    "markers_lib = dict()\n",
    "for img in img_lib:\n",
    "    markers = watershed(dest, img)\n",
    "    markers_lib[img] = markers"
   ]
  },
  {
   "cell_type": "code",
   "execution_count": 9,
   "id": "f22369bf-9285-4ca2-bab4-4900a62bce2a",
   "metadata": {},
   "outputs": [],
   "source": [
    "bottom_lib = dict()\n",
    "left_lib = dict()"
   ]
  },
  {
   "cell_type": "code",
   "execution_count": 10,
   "id": "8b7cbe6b-4d6f-42ce-9a46-24f5e068b3bb",
   "metadata": {},
   "outputs": [
    {
     "data": {
      "text/plain": [
       "({'NTU108.jpg': 1700,\n",
       "  'NTU315.jpg': 1700,\n",
       "  'NTU212.jpg': 1700,\n",
       "  'NTU190.jpg': 1700,\n",
       "  'NTU167.jpg': 1700,\n",
       "  'NTU256.jpg': 1700,\n",
       "  'NTU224.jpg': 1700,\n",
       "  'NTU76_1.jpg': 1700,\n",
       "  'NTU36_5.jpg': 1700,\n",
       "  'NTU250.jpg': 1700,\n",
       "  'NTU16_1.jpg': 1700,\n",
       "  'NTU87_5.jpg': 1700,\n",
       "  'NTU272.jpg': 1700,\n",
       "  'NTU50.jpg': 1700,\n",
       "  'NTU235.jpg': 1700,\n",
       "  'NTU308.jpg': 1700,\n",
       "  'NTU341.jpg': 1700,\n",
       "  'NTU0.jpg': 1700,\n",
       "  'NTU24_5.jpg': 1700,\n",
       "  'NTU95.jpg': 1700,\n",
       "  'NTU44_2.jpg': 1700,\n",
       "  'NTU266.jpg': 1700,\n",
       "  'NTU156.jpg': 1700,\n",
       "  'NTU123.jpg': 1700,\n",
       "  'NTU113.jpg': 1700,\n",
       "  'NTU145.jpg': 1700,\n",
       "  'NTU182.jpg': 1700,\n",
       "  'NTU126.jpg': 1700,\n",
       "  'NTU208.jpg': 1700,\n",
       "  'NTU69_9.jpg': 1700,\n",
       "  'NTU33_3.jpg': 1700,\n",
       "  'NTU41.jpg': 1700,\n",
       "  'NTU85.jpg': 1700,\n",
       "  'NTU135.jpg': 1700,\n",
       "  'NTU281.jpg': 1700,\n",
       "  'NTU129.jpg': 1700,\n",
       "  'NTU142.jpg': 1700,\n",
       "  'NTU290.jpg': 1700,\n",
       "  'NTU330.jpg': 1700},\n",
       " {'NTU108.jpg': 253,\n",
       "  'NTU315.jpg': 209,\n",
       "  'NTU212.jpg': 195,\n",
       "  'NTU190.jpg': 1,\n",
       "  'NTU167.jpg': 211,\n",
       "  'NTU256.jpg': 215,\n",
       "  'NTU224.jpg': 1,\n",
       "  'NTU76_1.jpg': 203,\n",
       "  'NTU36_5.jpg': 208,\n",
       "  'NTU250.jpg': 205,\n",
       "  'NTU16_1.jpg': 195,\n",
       "  'NTU87_5.jpg': 297,\n",
       "  'NTU272.jpg': 138,\n",
       "  'NTU50.jpg': 196,\n",
       "  'NTU235.jpg': 213,\n",
       "  'NTU308.jpg': 211,\n",
       "  'NTU341.jpg': 160,\n",
       "  'NTU0.jpg': 242,\n",
       "  'NTU24_5.jpg': 218,\n",
       "  'NTU95.jpg': 1,\n",
       "  'NTU44_2.jpg': 179,\n",
       "  'NTU266.jpg': 163,\n",
       "  'NTU156.jpg': 278,\n",
       "  'NTU123.jpg': 233,\n",
       "  'NTU113.jpg': 185,\n",
       "  'NTU145.jpg': 210,\n",
       "  'NTU182.jpg': 191,\n",
       "  'NTU126.jpg': 231,\n",
       "  'NTU208.jpg': 130,\n",
       "  'NTU69_9.jpg': 248,\n",
       "  'NTU33_3.jpg': 202,\n",
       "  'NTU41.jpg': 248,\n",
       "  'NTU85.jpg': 213,\n",
       "  'NTU135.jpg': 217,\n",
       "  'NTU281.jpg': 196,\n",
       "  'NTU129.jpg': 156,\n",
       "  'NTU142.jpg': 103,\n",
       "  'NTU290.jpg': 209,\n",
       "  'NTU330.jpg': 218})"
      ]
     },
     "execution_count": 10,
     "metadata": {},
     "output_type": "execute_result"
    }
   ],
   "source": [
    "# Acquire the bottom and the leftmost point of the ROI\n",
    "for key in markers_lib:\n",
    "    bottom = np.where(markers_lib[key]==1)[0].max()\n",
    "    bottom_lib[key] = bottom\n",
    "    left = np.where((markers_lib[key]!=1) & (markers_lib[key]!=-1))[1].min()\n",
    "    left_lib[key] = left\n",
    "bottom_lib, left_lib"
   ]
  },
  {
   "cell_type": "code",
   "execution_count": 11,
   "id": "7f204fc9-f932-40f3-932b-a9de446f1ab7",
   "metadata": {},
   "outputs": [],
   "source": [
    "# Some threshold values\n",
    "vert_thres = 500\n",
    "horz_thres = 50\n",
    "length = 80\n",
    "dist = 350"
   ]
  },
  {
   "cell_type": "code",
   "execution_count": 12,
   "id": "0be2d0ba-352f-4716-bae4-daccc304dec8",
   "metadata": {},
   "outputs": [
    {
     "data": {
      "text/plain": [
       "{'NTU108.jpg': 253,\n",
       " 'NTU315.jpg': 209,\n",
       " 'NTU212.jpg': 195,\n",
       " 'NTU190.jpg': 301,\n",
       " 'NTU167.jpg': 211,\n",
       " 'NTU256.jpg': 215,\n",
       " 'NTU224.jpg': 151,\n",
       " 'NTU76_1.jpg': 203,\n",
       " 'NTU36_5.jpg': 208,\n",
       " 'NTU250.jpg': 205,\n",
       " 'NTU16_1.jpg': 195,\n",
       " 'NTU87_5.jpg': 297,\n",
       " 'NTU272.jpg': 138,\n",
       " 'NTU50.jpg': 196,\n",
       " 'NTU235.jpg': 213,\n",
       " 'NTU308.jpg': 211,\n",
       " 'NTU341.jpg': 160,\n",
       " 'NTU0.jpg': 242,\n",
       " 'NTU24_5.jpg': 218,\n",
       " 'NTU95.jpg': 151,\n",
       " 'NTU44_2.jpg': 179,\n",
       " 'NTU266.jpg': 163,\n",
       " 'NTU156.jpg': 278,\n",
       " 'NTU123.jpg': 233,\n",
       " 'NTU113.jpg': 185,\n",
       " 'NTU145.jpg': 210,\n",
       " 'NTU182.jpg': 191,\n",
       " 'NTU126.jpg': 231,\n",
       " 'NTU208.jpg': 180,\n",
       " 'NTU69_9.jpg': 248,\n",
       " 'NTU33_3.jpg': 202,\n",
       " 'NTU41.jpg': 248,\n",
       " 'NTU85.jpg': 213,\n",
       " 'NTU135.jpg': 217,\n",
       " 'NTU281.jpg': 196,\n",
       " 'NTU129.jpg': 156,\n",
       " 'NTU142.jpg': 103,\n",
       " 'NTU290.jpg': 209,\n",
       " 'NTU330.jpg': 218}"
      ]
     },
     "execution_count": 12,
     "metadata": {},
     "output_type": "execute_result"
    }
   ],
   "source": [
    "# Avoid Extracting incorrect ROI\n",
    "for key in markers_lib:\n",
    "    while markers_lib[key][bottom_lib[key]-vert_thres, left_lib[key]+horz_thres] == 1:\n",
    "        left_lib[key] += horz_thres\n",
    "left_lib"
   ]
  },
  {
   "cell_type": "code",
   "execution_count": 13,
   "id": "e94fe81e-3edd-408f-a256-9dd94e8ba255",
   "metadata": {},
   "outputs": [],
   "source": [
    "# Calibration\n",
    "calibrated = {}\n",
    "for img in img_lib:\n",
    "    org = plt.imread(os.path.join(dest, img))\n",
    "    org = lab_trans(clear, org)\n",
    "    calibrated[img] = org"
   ]
  },
  {
   "cell_type": "code",
   "execution_count": 14,
   "id": "631238ad-b422-4c87-9196-ea1183b37f85",
   "metadata": {},
   "outputs": [],
   "source": [
    "greyscale = {}\n",
    "for img in img_lib:\n",
    "    grey = calibrated[img]\n",
    "    grey = to_single_channel(grey)\n",
    "    greyscale[img] = grey"
   ]
  },
  {
   "cell_type": "code",
   "execution_count": 15,
   "id": "897513e8-99e3-4cef-9c39-3a229e6c5ae4",
   "metadata": {},
   "outputs": [],
   "source": [
    "# x_left represents the ROI of the reference, while x_right represents the ROI of the sample\n",
    "x_left = []\n",
    "x_right = []\n",
    "y_left = []\n",
    "y_right = []"
   ]
  },
  {
   "cell_type": "code",
   "execution_count": 16,
   "id": "0c3c0a7d-c725-4a1b-8e97-699ed24c928c",
   "metadata": {},
   "outputs": [],
   "source": [
    "for key in greyscale:\n",
    "    x = []\n",
    "    x1 = []\n",
    "    y = []\n",
    "    y1 = []\n",
    "    for i in range(bottom_lib[key], bottom_lib[key]-vert_thres, -1):\n",
    "        x.append(i)\n",
    "        y.append(np.mean(greyscale[key][i-1:i, left_lib[key]+horz_thres:left_lib[key]+horz_thres+length]))\n",
    "    x_left.append(x)\n",
    "    y_left.append(y)\n",
    "    for i in range(bottom_lib[key], bottom_lib[key]-vert_thres, -1):\n",
    "        x1.append(i)\n",
    "        y1.append(np.mean(greyscale[key][i-1:i, left_lib[key]+horz_thres+dist:\n",
    "                                         left_lib[key]+horz_thres+dist+length]))\n",
    "    x_right.append(x1)\n",
    "    y_right.append(y1)"
   ]
  },
  {
   "cell_type": "code",
   "execution_count": 17,
   "id": "fefb2984-be44-45c2-878d-7963b2ef4688",
   "metadata": {},
   "outputs": [],
   "source": [
    "x_left = np.array(x_left)\n",
    "x_right = np.array(x_right)\n",
    "y_left = np.array(y_left)\n",
    "y_right = np.array(y_right)"
   ]
  },
  {
   "cell_type": "code",
   "execution_count": 18,
   "id": "42f97bf8-09b3-4b1f-9360-989d1d5e9c05",
   "metadata": {},
   "outputs": [
    {
     "data": {
      "text/plain": [
       "(((39, 500), dtype('int64'), 1201, 1700),\n",
       " ((39, 500), dtype('float64'), 13.1875, 179.0375))"
      ]
     },
     "execution_count": 18,
     "metadata": {},
     "output_type": "execute_result"
    }
   ],
   "source": [
    "arr_info(x_left), arr_info(y_left)"
   ]
  },
  {
   "cell_type": "code",
   "execution_count": 19,
   "id": "e99fd2cc-ac6a-4d59-8274-929557191f8a",
   "metadata": {},
   "outputs": [],
   "source": [
    "# plot the ratio with respect to NTU\n",
    "num = []\n",
    "for img in img_lib:\n",
    "    img = img.replace('_', '.')\n",
    "    a = img.split('NTU')\n",
    "    a = [b.split('.jpg') for b in a]\n",
    "    for item in a:\n",
    "        item.remove(\"\")\n",
    "    num.append(a)"
   ]
  },
  {
   "cell_type": "code",
   "execution_count": 20,
   "id": "a4a96337-bec0-414c-b38d-a84bfc4fcac6",
   "metadata": {},
   "outputs": [],
   "source": [
    "NTU = []\n",
    "for i in num:\n",
    "    for j in i:\n",
    "        if len(j) != 0:\n",
    "            NTU.append(float(j[0]))"
   ]
  },
  {
   "cell_type": "code",
   "execution_count": 21,
   "id": "f70fc52b-4d6c-487f-841b-bf33f03f7c81",
   "metadata": {},
   "outputs": [
    {
     "data": {
      "text/plain": [
       "{'NTU108.jpg': 31.435824999999998,\n",
       " 'NTU315.jpg': 53.996275000000004,\n",
       " 'NTU212.jpg': 37.186425,\n",
       " 'NTU190.jpg': 33.397625,\n",
       " 'NTU167.jpg': 33.100075,\n",
       " 'NTU256.jpg': 37.915099999999995,\n",
       " 'NTU224.jpg': 30.477224999999997,\n",
       " 'NTU76_1.jpg': 22.243225,\n",
       " 'NTU36_5.jpg': 15.327775,\n",
       " 'NTU250.jpg': 36.203525,\n",
       " 'NTU16_1.jpg': 10.1274,\n",
       " 'NTU87_5.jpg': 29.479650000000003,\n",
       " 'NTU272.jpg': 44.44195,\n",
       " 'NTU50.jpg': 19.753474999999998,\n",
       " 'NTU235.jpg': 37.739824999999996,\n",
       " 'NTU308.jpg': 54.43595,\n",
       " 'NTU341.jpg': 55.51435,\n",
       " 'NTU0.jpg': 4.017774999999999,\n",
       " 'NTU24_5.jpg': 19.236725,\n",
       " 'NTU95.jpg': 14.364424999999999,\n",
       " 'NTU44_2.jpg': 22.522825,\n",
       " 'NTU266.jpg': 38.08797500000001,\n",
       " 'NTU156.jpg': 33.255875,\n",
       " 'NTU123.jpg': 28.340275,\n",
       " 'NTU113.jpg': 26.94525,\n",
       " 'NTU145.jpg': 27.957675,\n",
       " 'NTU182.jpg': 34.037125,\n",
       " 'NTU126.jpg': 31.007699999999996,\n",
       " 'NTU208.jpg': 25.456775,\n",
       " 'NTU69_9.jpg': 20.139875,\n",
       " 'NTU33_3.jpg': 16.428475,\n",
       " 'NTU41.jpg': 10.066375,\n",
       " 'NTU85.jpg': 23.478300000000004,\n",
       " 'NTU135.jpg': 31.70855,\n",
       " 'NTU281.jpg': 40.48825,\n",
       " 'NTU129.jpg': 30.045699999999997,\n",
       " 'NTU142.jpg': 23.7743,\n",
       " 'NTU290.jpg': 46.89145,\n",
       " 'NTU330.jpg': 57.039425}"
      ]
     },
     "execution_count": 21,
     "metadata": {},
     "output_type": "execute_result"
    }
   ],
   "source": [
    "diff = {}\n",
    "for i in range(x_left.shape[0]):\n",
    "    diff[img_lib[i]] = np.mean(y_right[i] - y_left[i])\n",
    "diff"
   ]
  },
  {
   "cell_type": "code",
   "execution_count": 22,
   "id": "41e5435e-7fa8-43ab-b3a9-4bf98ddcc20a",
   "metadata": {},
   "outputs": [
    {
     "data": {
      "text/plain": [
       "{'NTU108.jpg': 27.418049999999997,\n",
       " 'NTU315.jpg': 49.978500000000004,\n",
       " 'NTU212.jpg': 33.16865,\n",
       " 'NTU190.jpg': 29.379849999999998,\n",
       " 'NTU167.jpg': 29.082299999999996,\n",
       " 'NTU256.jpg': 33.897324999999995,\n",
       " 'NTU224.jpg': 26.459449999999997,\n",
       " 'NTU76_1.jpg': 18.22545,\n",
       " 'NTU36_5.jpg': 11.310000000000002,\n",
       " 'NTU250.jpg': 32.18575,\n",
       " 'NTU16_1.jpg': 6.109625,\n",
       " 'NTU87_5.jpg': 25.461875000000003,\n",
       " 'NTU272.jpg': 40.424175,\n",
       " 'NTU50.jpg': 15.735699999999998,\n",
       " 'NTU235.jpg': 33.722049999999996,\n",
       " 'NTU308.jpg': 50.418175,\n",
       " 'NTU341.jpg': 51.496575,\n",
       " 'NTU0.jpg': 0.0,\n",
       " 'NTU24_5.jpg': 15.21895,\n",
       " 'NTU95.jpg': 10.34665,\n",
       " 'NTU44_2.jpg': 18.50505,\n",
       " 'NTU266.jpg': 34.07020000000001,\n",
       " 'NTU156.jpg': 29.238100000000003,\n",
       " 'NTU123.jpg': 24.322499999999998,\n",
       " 'NTU113.jpg': 22.927475,\n",
       " 'NTU145.jpg': 23.939899999999998,\n",
       " 'NTU182.jpg': 30.019350000000003,\n",
       " 'NTU126.jpg': 26.989924999999996,\n",
       " 'NTU208.jpg': 21.439,\n",
       " 'NTU69_9.jpg': 16.1221,\n",
       " 'NTU33_3.jpg': 12.410699999999999,\n",
       " 'NTU41.jpg': 6.048600000000001,\n",
       " 'NTU85.jpg': 19.460525000000004,\n",
       " 'NTU135.jpg': 27.690775,\n",
       " 'NTU281.jpg': 36.470475,\n",
       " 'NTU129.jpg': 26.027924999999996,\n",
       " 'NTU142.jpg': 19.756525,\n",
       " 'NTU290.jpg': 42.873675,\n",
       " 'NTU330.jpg': 53.02165}"
      ]
     },
     "execution_count": 22,
     "metadata": {},
     "output_type": "execute_result"
    }
   ],
   "source": [
    "diff_c = diff['NTU0.jpg']\n",
    "for key in diff:\n",
    "    diff[key] -= diff_c\n",
    "diff"
   ]
  },
  {
   "cell_type": "code",
   "execution_count": 23,
   "id": "ed571063-af76-4adb-bd54-bbfecc82ec18",
   "metadata": {},
   "outputs": [],
   "source": [
    "pixel_intensity = []\n",
    "for key in diff:\n",
    "    pixel_intensity.append(diff[key])\n",
    "pixel_intensity = np.array(pixel_intensity)"
   ]
  },
  {
   "cell_type": "code",
   "execution_count": 24,
   "id": "830dae12-8eeb-4e5e-bf87-90c1130ccf94",
   "metadata": {},
   "outputs": [],
   "source": [
    "NTU = np.array(NTU)"
   ]
  },
  {
   "cell_type": "code",
   "execution_count": 25,
   "id": "cc63ad87-139e-4f8a-9a8e-7aaaf2b4fe13",
   "metadata": {},
   "outputs": [],
   "source": [
    "df = pd.DataFrame({'pixel intensity': pixel_intensity,\n",
    "                   'turbidity (NTU)': NTU})"
   ]
  },
  {
   "cell_type": "code",
   "execution_count": 26,
   "id": "04e2bae2-9d0e-4a6c-bea5-5788f511d2e1",
   "metadata": {},
   "outputs": [
    {
     "name": "stdout",
     "output_type": "stream",
     "text": [
      "                            OLS Regression Results                            \n",
      "==============================================================================\n",
      "Dep. Variable:                    NTU   R-squared:                       0.865\n",
      "Model:                            OLS   Adj. R-squared:                  0.861\n",
      "Method:                 Least Squares   F-statistic:                     237.2\n",
      "Date:                Tue, 23 Aug 2022   Prob (F-statistic):           1.13e-17\n",
      "Time:                        11:59:23   Log-Likelihood:                -194.95\n",
      "No. Observations:                  39   AIC:                             393.9\n",
      "Df Residuals:                      37   BIC:                             397.2\n",
      "Df Model:                           1                                         \n",
      "Covariance Type:            nonrobust                                         \n",
      "===================================================================================\n",
      "                      coef    std err          t      P>|t|      [0.025      0.975]\n",
      "-----------------------------------------------------------------------------------\n",
      "Intercept         -33.2486     13.749     -2.418      0.021     -61.106      -5.391\n",
      "pixel_intensity     7.2329      0.470     15.401      0.000       6.281       8.184\n",
      "==============================================================================\n",
      "Omnibus:                        1.475   Durbin-Watson:                   2.742\n",
      "Prob(Omnibus):                  0.478   Jarque-Bera (JB):                1.432\n",
      "Skew:                           0.394   Prob(JB):                        0.489\n",
      "Kurtosis:                       2.489   Cond. No.                         68.3\n",
      "==============================================================================\n",
      "\n",
      "Notes:\n",
      "[1] Standard Errors assume that the covariance matrix of the errors is correctly specified.\n"
     ]
    }
   ],
   "source": [
    "#fit simple linear regression model\n",
    "model = ols('NTU ~ pixel_intensity', data=df).fit()\n",
    "\n",
    "#view model summary\n",
    "print(model.summary())"
   ]
  },
  {
   "cell_type": "code",
   "execution_count": 27,
   "id": "08062d38-1880-4f1d-b569-cad3b7a2db5d",
   "metadata": {},
   "outputs": [
    {
     "data": {
      "text/plain": [
       "Text(0.5, 1.0, 'Pixel Intensity V.S. NTU Value')"
      ]
     },
     "execution_count": 27,
     "metadata": {},
     "output_type": "execute_result"
    },
    {
     "data": {
      "application/vnd.jupyter.widget-view+json": {
       "model_id": "293e093af70d452d98a81e03a0f99a0d",
       "version_major": 2,
       "version_minor": 0
      },
      "image/png": "[encoded data removed]",
      "text/html": [
       "\n",
       "            <div style=\"display: inline-block;\">\n",
       "                <div class=\"jupyter-widgets widget-label\" style=\"text-align: center;\">\n",
       "                    Figure\n",
       "                </div>\n",
       "                <img src='data:image/png;base64,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' width=640.0/>\n",
       "            </div>\n",
       "        "
      ],
      "text/plain": [
       "Canvas(toolbar=Toolbar(toolitems=[('Home', 'Reset original view', 'home', 'home'), ('Back', 'Back to previous …"
      ]
     },
     "metadata": {},
     "output_type": "display_data"
    }
   ],
   "source": [
    "plt.figure()\n",
    "plt.plot(pixel_intensity, NTU, 'yo')\n",
    "plt.title('Pixel Intensity V.S. NTU Value')"
   ]
  },
  {
   "cell_type": "code",
   "execution_count": 28,
   "id": "a7b307f0-a1c4-409e-883c-655776d867e9",
   "metadata": {},
   "outputs": [
    {
     "data": {
      "text/plain": [
       "array([  7.23287549, -33.24862758])"
      ]
     },
     "execution_count": 28,
     "metadata": {},
     "output_type": "execute_result"
    }
   ],
   "source": [
    "theta = np.polyfit(pixel_intensity, NTU, 1)\n",
    "theta"
   ]
  },
  {
   "cell_type": "code",
   "execution_count": 29,
   "id": "3433a0bb-5b4a-4ce2-88a1-3a44543616b8",
   "metadata": {},
   "outputs": [
    {
     "data": {
      "text/plain": [
       "[<matplotlib.lines.Line2D at 0x7f35f15b9270>]"
      ]
     },
     "execution_count": 29,
     "metadata": {},
     "output_type": "execute_result"
    }
   ],
   "source": [
    "plt.plot(pixel_intensity, theta[0]*pixel_intensity + theta[1])"
   ]
  },
  {
   "cell_type": "code",
   "execution_count": 40,
   "id": "7b142431-2159-4e9d-8c7d-0cc487b526a3",
   "metadata": {},
   "outputs": [
    {
     "data": {
      "application/vnd.jupyter.widget-view+json": {
       "model_id": "3fd4e2a2f0294e008f73c1e5fc205752",
       "version_major": 2,
       "version_minor": 0
      },
      "image/png": "[encoded data removed]",
      "text/html": [
       "\n",
       "            <div style=\"display: inline-block;\">\n",
       "                <div class=\"jupyter-widgets widget-label\" style=\"text-align: center;\">\n",
       "                    Figure\n",
       "                </div>\n",
       "                <img src='data:image/png;base64,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' width=1200.0/>\n",
       "            </div>\n",
       "        "
      ],
      "text/plain": [
       "Canvas(toolbar=Toolbar(toolitems=[('Home', 'Reset original view', 'home', 'home'), ('Back', 'Back to previous …"
      ]
     },
     "metadata": {},
     "output_type": "display_data"
    }
   ],
   "source": [
    "# Figure 8\n",
    "#define figure size\n",
    "#fig = plt.figure(figsize=(12,8))\n",
    "\n",
    "\n",
    "#produce regression plots\n",
    "\n",
    "fig = plt.figure(figsize=(12,8))\n",
    "fig = sm.graphics.plot_regress_exog(model, 'pixel_intensity', fig=fig)\n",
    "\n",
    "fig, ax = plt.subplots(figsize=(12,8))\n",
    "fig = sm.graphics.plot_fit(model, 'pixel_intensity', ax=ax)\n",
    "plt.savefig('../assets/model_fit.pdf', dpi=600)"
   ]
  },
  {
   "cell_type": "code",
   "execution_count": 31,
   "id": "f9859cf8-bfe5-431e-bb09-fa6d6ed35be4",
   "metadata": {},
   "outputs": [],
   "source": [
    "f = open('../assets/theta.txt', 'w')\n",
    "f.write(str(diff_c))\n",
    "f.write('\\n')\n",
    "f.write(str(theta[0]))\n",
    "f.write('\\n')\n",
    "f.write(str(theta[1]))\n",
    "f.close()"
   ]
  },
  {
   "cell_type": "code",
   "execution_count": 32,
   "id": "424fc630-13bb-459b-9fdc-09ee248c9078",
   "metadata": {},
   "outputs": [],
   "source": []
  },
  {
   "cell_type": "code",
   "execution_count": null,
   "id": "3d1fbb19-15de-476c-8251-cdc9cf1f6f0e",
   "metadata": {},
   "outputs": [],
   "source": []
  }
 ],
 "metadata": {
  "kernelspec": {
   "display_name": "Python 3 (ipykernel)",
   "language": "python",
   "name": "python3"
  },
  "language_info": {
   "codemirror_mode": {
    "name": "ipython",
    "version": 3
   },
   "file_extension": ".py",
   "mimetype": "text/x-python",
   "name": "python",
   "nbconvert_exporter": "python",
   "pygments_lexer": "ipython3",
   "version": "3.10.4"
  }
 },
 "nbformat": 4,
 "nbformat_minor": 5
}
