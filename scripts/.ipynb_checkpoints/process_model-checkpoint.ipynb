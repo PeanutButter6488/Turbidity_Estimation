{
 "cells": [
  {
   "cell_type": "code",
   "execution_count": 1,
   "id": "a3c43f6e-b722-422a-b100-280acf85663f",
   "metadata": {},
   "outputs": [],
   "source": [
    "%matplotlib widget\n",
    "import numpy as np\n",
    "import pandas as pd\n",
    "from matplotlib import pyplot as plt\n",
    "import statsmodels.api as sm\n",
    "from statsmodels.formula.api import ols\n",
    "import glob\n",
    "import cv2\n",
    "\n",
    "import os\n",
    "import sys  \n",
    "import re\n",
    "sys.path.insert(0, '../dip_utils')\n",
    "\n",
    "from matrix_utils import arr_info\n",
    "from vis_utils import (vis_rgb_cube,\n",
    "                       vis_hists,\n",
    "                       vis_pair, \n",
    "                       vis_triple)\n",
    "%run watershed.ipynb\n",
    "%run calibrate.ipynb\n",
    "%run greyscale.ipynb\n",
    "%run image_stacking.ipynb"
   ]
  },
  {
   "cell_type": "code",
   "execution_count": 2,
   "id": "a1966a3a-d114-4963-aaaa-2c159cf6ab37",
   "metadata": {},
   "outputs": [],
   "source": [
    "path = '../sampled_images'\n",
    "dest = '../stacked_new'"
   ]
  },
  {
   "cell_type": "code",
   "execution_count": 3,
   "id": "93282153-087b-4f33-a0c2-b7b2357d15f0",
   "metadata": {},
   "outputs": [],
   "source": [
    "files = glob.glob('%s/*' % dest)\n",
    "for f in files:\n",
    "    os.remove(f)"
   ]
  },
  {
   "cell_type": "code",
   "execution_count": 4,
   "id": "fe7e2177-a218-477a-b349-e14e3e2f6ed4",
   "metadata": {},
   "outputs": [],
   "source": [
    "image_stacking(path, dest)"
   ]
  },
  {
   "cell_type": "code",
   "execution_count": 5,
   "id": "6f00a2c0-dad6-416a-b0ec-06f6e875ee0e",
   "metadata": {},
   "outputs": [],
   "source": [
    "clear = '../stacked_new/NTU0.jpg'"
   ]
  },
  {
   "cell_type": "code",
   "execution_count": 6,
   "id": "a498314d-811e-42e5-bfcb-295027f1b636",
   "metadata": {},
   "outputs": [],
   "source": [
    "img_lib = []"
   ]
  },
  {
   "cell_type": "code",
   "execution_count": 7,
   "id": "1d9a0c41-d6a6-4a17-b3ab-85ff69f66f8c",
   "metadata": {},
   "outputs": [
    {
     "data": {
      "text/plain": [
       "['NTU85.jpg',\n",
       " 'NTU190.jpg',\n",
       " 'NTU156.jpg',\n",
       " 'NTU41.jpg',\n",
       " 'NTU95.jpg',\n",
       " 'NTU87_5.jpg',\n",
       " 'NTU44_2.jpg',\n",
       " 'NTU76_1.jpg',\n",
       " 'NTU0.jpg',\n",
       " 'NTU290.jpg',\n",
       " 'NTU113.jpg',\n",
       " 'NTU69_9.jpg',\n",
       " 'NTU182.jpg',\n",
       " 'NTU142.jpg',\n",
       " 'NTU36_5.jpg',\n",
       " 'NTU16_1.jpg',\n",
       " 'NTU167.jpg',\n",
       " 'NTU108.jpg',\n",
       " 'NTU208.jpg',\n",
       " 'NTU250.jpg',\n",
       " 'NTU212.jpg',\n",
       " 'NTU235.jpg',\n",
       " 'NTU281.jpg',\n",
       " 'NTU266.jpg',\n",
       " 'NTU256.jpg',\n",
       " 'NTU145.jpg',\n",
       " 'NTU126.jpg',\n",
       " 'NTU129.jpg',\n",
       " 'NTU135.jpg',\n",
       " 'NTU50.jpg',\n",
       " 'NTU33_3.jpg',\n",
       " 'NTU24_5.jpg',\n",
       " 'NTU123.jpg',\n",
       " 'NTU224.jpg',\n",
       " 'NTU308.jpg',\n",
       " 'NTU272.jpg',\n",
       " 'NTU341.jpg',\n",
       " 'NTU315.jpg',\n",
       " 'NTU330.jpg']"
      ]
     },
     "execution_count": 7,
     "metadata": {},
     "output_type": "execute_result"
    }
   ],
   "source": [
    "for dic in os.listdir(dest):\n",
    "    if dic != '.ipynb_checkpoints':\n",
    "        img_lib.append(dic)\n",
    "img_lib"
   ]
  },
  {
   "cell_type": "code",
   "execution_count": 8,
   "id": "5d5edae2-9cc8-4421-abf5-b9aece7acfaa",
   "metadata": {},
   "outputs": [],
   "source": [
    "markers_lib = dict()\n",
    "for img in img_lib:\n",
    "    markers = watershed(dest, img)\n",
    "    markers_lib[img] = markers"
   ]
  },
  {
   "cell_type": "code",
   "execution_count": 9,
   "id": "f22369bf-9285-4ca2-bab4-4900a62bce2a",
   "metadata": {},
   "outputs": [],
   "source": [
    "bottom_lib = dict()\n",
    "left_lib = dict()"
   ]
  },
  {
   "cell_type": "code",
   "execution_count": 10,
   "id": "8b7cbe6b-4d6f-42ce-9a46-24f5e068b3bb",
   "metadata": {},
   "outputs": [
    {
     "data": {
      "text/plain": [
       "({'NTU85.jpg': 1700,\n",
       "  'NTU190.jpg': 1700,\n",
       "  'NTU156.jpg': 1700,\n",
       "  'NTU41.jpg': 1700,\n",
       "  'NTU95.jpg': 1700,\n",
       "  'NTU87_5.jpg': 1700,\n",
       "  'NTU44_2.jpg': 1700,\n",
       "  'NTU76_1.jpg': 1700,\n",
       "  'NTU0.jpg': 1700,\n",
       "  'NTU290.jpg': 1700,\n",
       "  'NTU113.jpg': 1700,\n",
       "  'NTU69_9.jpg': 1700,\n",
       "  'NTU182.jpg': 1700,\n",
       "  'NTU142.jpg': 1700,\n",
       "  'NTU36_5.jpg': 1700,\n",
       "  'NTU16_1.jpg': 1700,\n",
       "  'NTU167.jpg': 1700,\n",
       "  'NTU108.jpg': 1700,\n",
       "  'NTU208.jpg': 1700,\n",
       "  'NTU250.jpg': 1700,\n",
       "  'NTU212.jpg': 1700,\n",
       "  'NTU235.jpg': 1700,\n",
       "  'NTU281.jpg': 1700,\n",
       "  'NTU266.jpg': 1700,\n",
       "  'NTU256.jpg': 1700,\n",
       "  'NTU145.jpg': 1700,\n",
       "  'NTU126.jpg': 1700,\n",
       "  'NTU129.jpg': 1700,\n",
       "  'NTU135.jpg': 1700,\n",
       "  'NTU50.jpg': 1700,\n",
       "  'NTU33_3.jpg': 1700,\n",
       "  'NTU24_5.jpg': 1700,\n",
       "  'NTU123.jpg': 1700,\n",
       "  'NTU224.jpg': 1700,\n",
       "  'NTU308.jpg': 1700,\n",
       "  'NTU272.jpg': 1700,\n",
       "  'NTU341.jpg': 1700,\n",
       "  'NTU315.jpg': 1700,\n",
       "  'NTU330.jpg': 1700},\n",
       " {'NTU85.jpg': 213,\n",
       "  'NTU190.jpg': 1,\n",
       "  'NTU156.jpg': 278,\n",
       "  'NTU41.jpg': 276,\n",
       "  'NTU95.jpg': 224,\n",
       "  'NTU87_5.jpg': 272,\n",
       "  'NTU44_2.jpg': 202,\n",
       "  'NTU76_1.jpg': 203,\n",
       "  'NTU0.jpg': 242,\n",
       "  'NTU290.jpg': 208,\n",
       "  'NTU113.jpg': 184,\n",
       "  'NTU69_9.jpg': 248,\n",
       "  'NTU182.jpg': 191,\n",
       "  'NTU142.jpg': 92,\n",
       "  'NTU36_5.jpg': 207,\n",
       "  'NTU16_1.jpg': 195,\n",
       "  'NTU167.jpg': 235,\n",
       "  'NTU108.jpg': 228,\n",
       "  'NTU208.jpg': 211,\n",
       "  'NTU250.jpg': 230,\n",
       "  'NTU212.jpg': 171,\n",
       "  'NTU235.jpg': 213,\n",
       "  'NTU281.jpg': 197,\n",
       "  'NTU266.jpg': 163,\n",
       "  'NTU256.jpg': 215,\n",
       "  'NTU145.jpg': 209,\n",
       "  'NTU126.jpg': 231,\n",
       "  'NTU129.jpg': 156,\n",
       "  'NTU135.jpg': 217,\n",
       "  'NTU50.jpg': 196,\n",
       "  'NTU33_3.jpg': 179,\n",
       "  'NTU24_5.jpg': 219,\n",
       "  'NTU123.jpg': 209,\n",
       "  'NTU224.jpg': 184,\n",
       "  'NTU308.jpg': 211,\n",
       "  'NTU272.jpg': 167,\n",
       "  'NTU341.jpg': 160,\n",
       "  'NTU315.jpg': 208,\n",
       "  'NTU330.jpg': 218})"
      ]
     },
     "execution_count": 10,
     "metadata": {},
     "output_type": "execute_result"
    }
   ],
   "source": [
    "# Acquire the bottom and the leftmost point of the ROI\n",
    "for key in markers_lib:\n",
    "    bottom = np.where(markers_lib[key]==1)[0].max()\n",
    "    bottom_lib[key] = bottom\n",
    "    left = np.where((markers_lib[key]!=1) & (markers_lib[key]!=-1))[1].min()\n",
    "    left_lib[key] = left\n",
    "bottom_lib, left_lib"
   ]
  },
  {
   "cell_type": "code",
   "execution_count": 11,
   "id": "7f204fc9-f932-40f3-932b-a9de446f1ab7",
   "metadata": {},
   "outputs": [],
   "source": [
    "# Some threshold values\n",
    "vert_thres = 500\n",
    "horz_thres = 50\n",
    "length = 80\n",
    "dist = 350"
   ]
  },
  {
   "cell_type": "code",
   "execution_count": 12,
   "id": "0be2d0ba-352f-4716-bae4-daccc304dec8",
   "metadata": {},
   "outputs": [
    {
     "data": {
      "text/plain": [
       "{'NTU85.jpg': 213,\n",
       " 'NTU190.jpg': 301,\n",
       " 'NTU156.jpg': 278,\n",
       " 'NTU41.jpg': 276,\n",
       " 'NTU95.jpg': 224,\n",
       " 'NTU87_5.jpg': 272,\n",
       " 'NTU44_2.jpg': 202,\n",
       " 'NTU76_1.jpg': 203,\n",
       " 'NTU0.jpg': 242,\n",
       " 'NTU290.jpg': 208,\n",
       " 'NTU113.jpg': 184,\n",
       " 'NTU69_9.jpg': 248,\n",
       " 'NTU182.jpg': 191,\n",
       " 'NTU142.jpg': 142,\n",
       " 'NTU36_5.jpg': 207,\n",
       " 'NTU16_1.jpg': 195,\n",
       " 'NTU167.jpg': 235,\n",
       " 'NTU108.jpg': 228,\n",
       " 'NTU208.jpg': 211,\n",
       " 'NTU250.jpg': 230,\n",
       " 'NTU212.jpg': 171,\n",
       " 'NTU235.jpg': 213,\n",
       " 'NTU281.jpg': 197,\n",
       " 'NTU266.jpg': 163,\n",
       " 'NTU256.jpg': 215,\n",
       " 'NTU145.jpg': 209,\n",
       " 'NTU126.jpg': 231,\n",
       " 'NTU129.jpg': 156,\n",
       " 'NTU135.jpg': 217,\n",
       " 'NTU50.jpg': 196,\n",
       " 'NTU33_3.jpg': 179,\n",
       " 'NTU24_5.jpg': 219,\n",
       " 'NTU123.jpg': 209,\n",
       " 'NTU224.jpg': 184,\n",
       " 'NTU308.jpg': 211,\n",
       " 'NTU272.jpg': 167,\n",
       " 'NTU341.jpg': 160,\n",
       " 'NTU315.jpg': 208,\n",
       " 'NTU330.jpg': 218}"
      ]
     },
     "execution_count": 12,
     "metadata": {},
     "output_type": "execute_result"
    }
   ],
   "source": [
    "# Avoid Extracting incorrect ROI\n",
    "for key in markers_lib:\n",
    "    while markers_lib[key][bottom_lib[key]-vert_thres, left_lib[key]+horz_thres] == 1:\n",
    "        left_lib[key] += horz_thres\n",
    "left_lib"
   ]
  },
  {
   "cell_type": "code",
   "execution_count": 13,
   "id": "e94fe81e-3edd-408f-a256-9dd94e8ba255",
   "metadata": {},
   "outputs": [],
   "source": [
    "# Calibration\n",
    "calibrated = {}\n",
    "for img in img_lib:\n",
    "    org = plt.imread(os.path.join(dest, img))\n",
    "    org = lab_trans(clear, org)\n",
    "    calibrated[img] = org"
   ]
  },
  {
   "cell_type": "code",
   "execution_count": 14,
   "id": "631238ad-b422-4c87-9196-ea1183b37f85",
   "metadata": {},
   "outputs": [],
   "source": [
    "greyscale = {}\n",
    "for img in img_lib:\n",
    "    grey = calibrated[img]\n",
    "    grey = to_single_channel(grey)\n",
    "    greyscale[img] = grey"
   ]
  },
  {
   "cell_type": "code",
   "execution_count": 15,
   "id": "897513e8-99e3-4cef-9c39-3a229e6c5ae4",
   "metadata": {},
   "outputs": [],
   "source": [
    "# x_left represents the ROI of the reference, while x_right represents the ROI of the sample\n",
    "x_left = []\n",
    "x_right = []\n",
    "y_left = []\n",
    "y_right = []"
   ]
  },
  {
   "cell_type": "code",
   "execution_count": 16,
   "id": "0c3c0a7d-c725-4a1b-8e97-699ed24c928c",
   "metadata": {},
   "outputs": [],
   "source": [
    "for key in greyscale:\n",
    "    x = []\n",
    "    x1 = []\n",
    "    y = []\n",
    "    y1 = []\n",
    "    for i in range(bottom_lib[key], bottom_lib[key]-vert_thres, -1):\n",
    "        x.append(i)\n",
    "        y.append(np.mean(greyscale[key][i-1:i, left_lib[key]+horz_thres:left_lib[key]+horz_thres+length]))\n",
    "    x_left.append(x)\n",
    "    y_left.append(y)\n",
    "    for i in range(bottom_lib[key], bottom_lib[key]-vert_thres, -1):\n",
    "        x1.append(i)\n",
    "        y1.append(np.mean(greyscale[key][i-1:i, left_lib[key]+horz_thres+dist:\n",
    "                                         left_lib[key]+horz_thres+dist+length]))\n",
    "    x_right.append(x1)\n",
    "    y_right.append(y1)"
   ]
  },
  {
   "cell_type": "code",
   "execution_count": 17,
   "id": "fefb2984-be44-45c2-878d-7963b2ef4688",
   "metadata": {},
   "outputs": [],
   "source": [
    "x_left = np.array(x_left)\n",
    "x_right = np.array(x_right)\n",
    "y_left = np.array(y_left)\n",
    "y_right = np.array(y_right)"
   ]
  },
  {
   "cell_type": "code",
   "execution_count": 18,
   "id": "42f97bf8-09b3-4b1f-9360-989d1d5e9c05",
   "metadata": {},
   "outputs": [
    {
     "data": {
      "text/plain": [
       "(((39, 500), dtype('int64'), 1201, 1700),\n",
       " ((39, 500), dtype('float64'), 13.2125, 179.05))"
      ]
     },
     "execution_count": 18,
     "metadata": {},
     "output_type": "execute_result"
    }
   ],
   "source": [
    "arr_info(x_left), arr_info(y_left)"
   ]
  },
  {
   "cell_type": "code",
   "execution_count": 19,
   "id": "e99fd2cc-ac6a-4d59-8274-929557191f8a",
   "metadata": {},
   "outputs": [],
   "source": [
    "# plot the ratio with respect to NTU\n",
    "num = []\n",
    "for img in img_lib:\n",
    "    img = img.replace('_', '.')\n",
    "    a = img.split('NTU')\n",
    "    a = [b.split('.jpg') for b in a]\n",
    "    for item in a:\n",
    "        item.remove(\"\")\n",
    "    num.append(a)"
   ]
  },
  {
   "cell_type": "code",
   "execution_count": 20,
   "id": "a4a96337-bec0-414c-b38d-a84bfc4fcac6",
   "metadata": {},
   "outputs": [],
   "source": [
    "NTU = []\n",
    "for i in num:\n",
    "    for j in i:\n",
    "        if len(j) != 0:\n",
    "            NTU.append(float(j[0]))"
   ]
  },
  {
   "cell_type": "code",
   "execution_count": 21,
   "id": "ac6fe5eb-98cb-4b71-9eaa-433abc3e66a6",
   "metadata": {},
   "outputs": [],
   "source": [
    "# diff = {}\n",
    "# for i in range(x_left.shape[0]):\n",
    "#     diff[img_lib[i]] = np.mean(y_left[i] - y_right[i])\n",
    "# diff"
   ]
  },
  {
   "cell_type": "code",
   "execution_count": 22,
   "id": "f70fc52b-4d6c-487f-841b-bf33f03f7c81",
   "metadata": {},
   "outputs": [
    {
     "data": {
      "text/plain": [
       "{'NTU85.jpg': 23.386875,\n",
       " 'NTU190.jpg': 33.40455,\n",
       " 'NTU156.jpg': 33.261125,\n",
       " 'NTU41.jpg': 16.243575,\n",
       " 'NTU95.jpg': 24.907950000000003,\n",
       " 'NTU87_5.jpg': 24.5965,\n",
       " 'NTU44_2.jpg': 22.6719,\n",
       " 'NTU76_1.jpg': 22.094574999999995,\n",
       " 'NTU0.jpg': 3.95865,\n",
       " 'NTU290.jpg': 46.628525,\n",
       " 'NTU113.jpg': 26.873,\n",
       " 'NTU69_9.jpg': 20.1203,\n",
       " 'NTU182.jpg': 33.91975,\n",
       " 'NTU142.jpg': 29.727775,\n",
       " 'NTU36_5.jpg': 15.109174999999999,\n",
       " 'NTU16_1.jpg': 9.99935,\n",
       " 'NTU167.jpg': 35.656974999999996,\n",
       " 'NTU108.jpg': 25.412125,\n",
       " 'NTU208.jpg': 35.679300000000005,\n",
       " 'NTU250.jpg': 38.1714,\n",
       " 'NTU212.jpg': 35.08435,\n",
       " 'NTU235.jpg': 37.588175,\n",
       " 'NTU281.jpg': 40.301725000000005,\n",
       " 'NTU266.jpg': 38.01685,\n",
       " 'NTU256.jpg': 37.82795,\n",
       " 'NTU145.jpg': 27.88685,\n",
       " 'NTU126.jpg': 30.984775000000003,\n",
       " 'NTU129.jpg': 30.065875,\n",
       " 'NTU135.jpg': 31.460525,\n",
       " 'NTU50.jpg': 19.7184,\n",
       " 'NTU33_3.jpg': 15.992875,\n",
       " 'NTU24_5.jpg': 18.9902,\n",
       " 'NTU123.jpg': 26.225799999999996,\n",
       " 'NTU224.jpg': 36.93085000000001,\n",
       " 'NTU308.jpg': 54.7026,\n",
       " 'NTU272.jpg': 42.64827499999999,\n",
       " 'NTU341.jpg': 55.817675,\n",
       " 'NTU315.jpg': 54.01457500000001,\n",
       " 'NTU330.jpg': 56.992725}"
      ]
     },
     "execution_count": 22,
     "metadata": {},
     "output_type": "execute_result"
    }
   ],
   "source": [
    "diff = {}\n",
    "for i in range(x_left.shape[0]):\n",
    "    diff[img_lib[i]] = np.mean(y_right[i] - y_left[i])\n",
    "diff"
   ]
  },
  {
   "cell_type": "code",
   "execution_count": 23,
   "id": "0367ca23-0b99-470b-a16f-ff789e036260",
   "metadata": {},
   "outputs": [],
   "source": [
    "# diff_c = diff['NTU0.jpg']\n",
    "# for i in range(x_left.shape[0]):\n",
    "#     y_right[i] += diff_c"
   ]
  },
  {
   "cell_type": "code",
   "execution_count": 24,
   "id": "41e5435e-7fa8-43ab-b3a9-4bf98ddcc20a",
   "metadata": {},
   "outputs": [
    {
     "data": {
      "text/plain": [
       "{'NTU85.jpg': 19.428225,\n",
       " 'NTU190.jpg': 29.4459,\n",
       " 'NTU156.jpg': 29.302475,\n",
       " 'NTU41.jpg': 12.284925,\n",
       " 'NTU95.jpg': 20.949300000000004,\n",
       " 'NTU87_5.jpg': 20.63785,\n",
       " 'NTU44_2.jpg': 18.713250000000002,\n",
       " 'NTU76_1.jpg': 18.135924999999997,\n",
       " 'NTU0.jpg': 0.0,\n",
       " 'NTU290.jpg': 42.669875000000005,\n",
       " 'NTU113.jpg': 22.914350000000002,\n",
       " 'NTU69_9.jpg': 16.16165,\n",
       " 'NTU182.jpg': 29.961100000000002,\n",
       " 'NTU142.jpg': 25.769125000000003,\n",
       " 'NTU36_5.jpg': 11.150524999999998,\n",
       " 'NTU16_1.jpg': 6.040699999999999,\n",
       " 'NTU167.jpg': 31.698324999999997,\n",
       " 'NTU108.jpg': 21.453475,\n",
       " 'NTU208.jpg': 31.720650000000006,\n",
       " 'NTU250.jpg': 34.21275,\n",
       " 'NTU212.jpg': 31.125700000000002,\n",
       " 'NTU235.jpg': 33.629525,\n",
       " 'NTU281.jpg': 36.343075000000006,\n",
       " 'NTU266.jpg': 34.0582,\n",
       " 'NTU256.jpg': 33.8693,\n",
       " 'NTU145.jpg': 23.9282,\n",
       " 'NTU126.jpg': 27.026125000000004,\n",
       " 'NTU129.jpg': 26.107225,\n",
       " 'NTU135.jpg': 27.501875000000002,\n",
       " 'NTU50.jpg': 15.759749999999999,\n",
       " 'NTU33_3.jpg': 12.034225,\n",
       " 'NTU24_5.jpg': 15.031550000000001,\n",
       " 'NTU123.jpg': 22.267149999999997,\n",
       " 'NTU224.jpg': 32.97220000000001,\n",
       " 'NTU308.jpg': 50.74395,\n",
       " 'NTU272.jpg': 38.68962499999999,\n",
       " 'NTU341.jpg': 51.859025,\n",
       " 'NTU315.jpg': 50.05592500000001,\n",
       " 'NTU330.jpg': 53.034075}"
      ]
     },
     "execution_count": 24,
     "metadata": {},
     "output_type": "execute_result"
    }
   ],
   "source": [
    "diff_c = diff['NTU0.jpg']\n",
    "for key in diff:\n",
    "    diff[key] -= diff_c\n",
    "diff"
   ]
  },
  {
   "cell_type": "code",
   "execution_count": 25,
   "id": "9131e980-65c0-43ab-88dc-3c19839f3967",
   "metadata": {},
   "outputs": [],
   "source": [
    "# pixel_intensity = []\n",
    "# for i in range(y_right.shape[0]):\n",
    "#     pixel_intensity.append(np.mean(y_right[i]))\n",
    "# pixel_intensity = np.array(pixel_intensity)"
   ]
  },
  {
   "cell_type": "code",
   "execution_count": 26,
   "id": "ed571063-af76-4adb-bd54-bbfecc82ec18",
   "metadata": {},
   "outputs": [],
   "source": [
    "pixel_intensity = []\n",
    "for key in diff:\n",
    "    pixel_intensity.append(diff[key])\n",
    "pixel_intensity = np.array(pixel_intensity)"
   ]
  },
  {
   "cell_type": "code",
   "execution_count": 27,
   "id": "830dae12-8eeb-4e5e-bf87-90c1130ccf94",
   "metadata": {},
   "outputs": [],
   "source": [
    "NTU = np.array(NTU)"
   ]
  },
  {
   "cell_type": "code",
   "execution_count": 28,
   "id": "08062d38-1880-4f1d-b569-cad3b7a2db5d",
   "metadata": {},
   "outputs": [
    {
     "data": {
      "text/plain": [
       "Text(0.5, 1.0, 'Pixel Intensity V.S. NTU Value')"
      ]
     },
     "execution_count": 28,
     "metadata": {},
     "output_type": "execute_result"
    },
    {
     "data": {
      "application/vnd.jupyter.widget-view+json": {
       "model_id": "2aeadae9bf704413bdd45405870262fa",
       "version_major": 2,
       "version_minor": 0
      },
      "image/png": "[encoded data removed]",
      "text/html": [
       "\n",
       "            <div style=\"display: inline-block;\">\n",
       "                <div class=\"jupyter-widgets widget-label\" style=\"text-align: center;\">\n",
       "                    Figure\n",
       "                </div>\n",
       "                <img src='data:image/png;base64,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' width=640.0/>\n",
       "            </div>\n",
       "        "
      ],
      "text/plain": [
       "Canvas(toolbar=Toolbar(toolitems=[('Home', 'Reset original view', 'home', 'home'), ('Back', 'Back to previous …"
      ]
     },
     "metadata": {},
     "output_type": "display_data"
    }
   ],
   "source": [
    "plt.figure()\n",
    "plt.plot(pixel_intensity, NTU, 'yo')\n",
    "plt.title('Pixel Intensity V.S. NTU Value')"
   ]
  },
  {
   "cell_type": "code",
   "execution_count": 29,
   "id": "a7b307f0-a1c4-409e-883c-655776d867e9",
   "metadata": {},
   "outputs": [
    {
     "data": {
      "text/plain": [
       "array([  7.72951815, -51.79592218])"
      ]
     },
     "execution_count": 29,
     "metadata": {},
     "output_type": "execute_result"
    }
   ],
   "source": [
    "theta = np.polyfit(pixel_intensity, NTU, 1)\n",
    "theta"
   ]
  },
  {
   "cell_type": "code",
   "execution_count": 30,
   "id": "3433a0bb-5b4a-4ce2-88a1-3a44543616b8",
   "metadata": {},
   "outputs": [
    {
     "data": {
      "text/plain": [
       "[<matplotlib.lines.Line2D at 0x7fbff9f58700>]"
      ]
     },
     "execution_count": 30,
     "metadata": {},
     "output_type": "execute_result"
    }
   ],
   "source": [
    "plt.plot(pixel_intensity, theta[0]*pixel_intensity + theta[1])"
   ]
  },
  {
   "cell_type": "code",
   "execution_count": 31,
   "id": "f9859cf8-bfe5-431e-bb09-fa6d6ed35be4",
   "metadata": {},
   "outputs": [],
   "source": [
    "f = open('../assets/theta.txt', 'w')\n",
    "f.write(str(diff_c))\n",
    "f.write('\\n')\n",
    "f.write(str(theta[0]))\n",
    "f.write('\\n')\n",
    "f.write(str(theta[1]))\n",
    "f.close()"
   ]
  },
  {
   "cell_type": "code",
   "execution_count": null,
   "id": "424fc630-13bb-459b-9fdc-09ee248c9078",
   "metadata": {},
   "outputs": [],
   "source": []
  }
 ],
 "metadata": {
  "kernelspec": {
   "display_name": "Python 3",
   "language": "python",
   "name": "python3"
  },
  "language_info": {
   "codemirror_mode": {
    "name": "ipython",
    "version": 3
   },
   "file_extension": ".py",
   "mimetype": "text/x-python",
   "name": "python",
   "nbconvert_exporter": "python",
   "pygments_lexer": "ipython3",
   "version": "3.9.12"
  }
 },
 "nbformat": 4,
 "nbformat_minor": 5
}
