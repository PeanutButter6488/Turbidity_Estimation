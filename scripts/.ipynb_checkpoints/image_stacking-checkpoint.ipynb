{
 "cells": [
  {
   "cell_type": "code",
   "execution_count": 1,
   "id": "7299992c-9ffa-40fb-abe5-23040af765eb",
   "metadata": {},
   "outputs": [],
   "source": [
    "%matplotlib widget\n",
    "import numpy as np\n",
    "from matplotlib import pyplot as plt\n",
    "import glob\n",
    "from PIL import Image\n",
    "\n",
    "import os\n",
    "import sys  \n",
    "sys.path.insert(0, '../dip_utils')\n",
    "\n",
    "from matrix_utils import arr_info\n",
    "from vis_utils import (vis_rgb_cube,\n",
    "                       vis_hists,\n",
    "                       vis_pair)"
   ]
  },
  {
   "cell_type": "code",
   "execution_count": 2,
   "id": "592dd676-0045-4705-b569-861f8c89cb3b",
   "metadata": {},
   "outputs": [],
   "source": [
    "def blend_stack(I):\n",
    "    blend = np.mean(I, axis=0)\n",
    "    return blend.astype(I.dtype)"
   ]
  },
  {
   "cell_type": "code",
   "execution_count": 3,
   "id": "6d39461c-da8b-47b3-9943-d853ecdb4427",
   "metadata": {},
   "outputs": [],
   "source": [
    "def stackRead(path):\n",
    "    img_lib = glob.glob(path)\n",
    "    n = len(img_lib)\n",
    "    sample = plt.imread(img_lib[0])\n",
    "    y, x, c = sample.shape\n",
    "    stack = np.zeros((n,y,x,c), dtype=sample.dtype)\n",
    "    for file in img_lib:\n",
    "        index = img_lib.index(file)\n",
    "        image = plt.imread(file)\n",
    "        stack[index] = image\n",
    "    return stack"
   ]
  },
  {
   "cell_type": "code",
   "execution_count": 4,
   "id": "43351ec7-43cf-4e19-8b95-f25f28a9dae8",
   "metadata": {},
   "outputs": [],
   "source": [
    "def image_stacking(path, dest):\n",
    "    stack_list = []\n",
    "    filename = []\n",
    "    for dic in os.listdir(path):\n",
    "        if dic != '.ipynb_checkpoints':\n",
    "            filename.append(dic)\n",
    "    for dic in os.listdir(path):\n",
    "        d = os.path.join(path, dic)  # directory of water samples\n",
    "        if not d.endswith('.ipynb_checkpoints'):\n",
    "            stack = stackRead(os.path.join(d, '*.jpg'))\n",
    "            stack_list.append(stack)\n",
    "    for i in range(len(stack_list)):\n",
    "        mean = blend_stack(stack_list[i])\n",
    "        I = Image.fromarray(mean)\n",
    "        #I.save(\"../%s/%s.jpg\" % (dest, filename[i]))\n",
    "        I.save(\"%s/%s.jpg\" % (dest, filename[i]))"
   ]
  },
  {
   "cell_type": "code",
   "execution_count": 5,
   "id": "9e42d828-575f-4260-983c-81edc6adde26",
   "metadata": {},
   "outputs": [],
   "source": [
    "# %%bash\n",
    "# cd ../stacked_new/\n",
    "# rm -r *"
   ]
  },
  {
   "cell_type": "code",
   "execution_count": 6,
   "id": "3dd036c3-8606-42d9-89ca-de24578ea4c7",
   "metadata": {},
   "outputs": [],
   "source": [
    "# path = '../sampled_images'"
   ]
  },
  {
   "cell_type": "code",
   "execution_count": 7,
   "id": "a215a788-60fa-413a-a3a1-afb3416d1ef6",
   "metadata": {},
   "outputs": [],
   "source": [
    "# stack_list = []\n",
    "# filename = []"
   ]
  },
  {
   "cell_type": "code",
   "execution_count": 8,
   "id": "2cac431b-5c27-43d7-adfd-cf9a00e42ae2",
   "metadata": {},
   "outputs": [],
   "source": [
    "# for dic in os.listdir(path):\n",
    "#     if dic != '.ipynb_checkpoints':\n",
    "#         filename.append(dic)\n",
    "# filename"
   ]
  },
  {
   "cell_type": "code",
   "execution_count": 9,
   "id": "81987ad1-51aa-47dc-b65c-7e0aaf7e6725",
   "metadata": {},
   "outputs": [],
   "source": [
    "# for dic in os.listdir(path):\n",
    "#     d = os.path.join(path, dic)  # directory of water samples\n",
    "#     if not d.endswith('.ipynb_checkpoints'):\n",
    "#         stack = stackRead(os.path.join(d, '*.jpg'))\n",
    "#         stack_list.append(stack)"
   ]
  },
  {
   "cell_type": "code",
   "execution_count": 10,
   "id": "25b62206-3613-4645-a9fc-9349e4699cf6",
   "metadata": {},
   "outputs": [],
   "source": [
    "# for i in range(len(stack_list)):\n",
    "#     mean = blend_stack(stack_list[i])\n",
    "#     I = Image.fromarray(mean)\n",
    "#     I.save(\"../stacked_new/%s.jpg\" % filename[i])"
   ]
  },
  {
   "cell_type": "code",
   "execution_count": 11,
   "id": "a7c95eaf-189a-450f-851e-8fed14ed56c0",
   "metadata": {},
   "outputs": [],
   "source": [
    "# J = plt.imread('%s/%s/%sa.jpg' % (path, filename[i], filename[i]))\n",
    "# vis_pair(J, I, first_title='%s original' % filename[i], second_title='%s stacked' % filename[i]) "
   ]
  },
  {
   "cell_type": "code",
   "execution_count": null,
   "id": "88eafc4c-2be9-4cb3-8457-6e9340c1959e",
   "metadata": {},
   "outputs": [],
   "source": []
  }
 ],
 "metadata": {
  "kernelspec": {
   "display_name": "Python 3",
   "language": "python",
   "name": "python3"
  },
  "language_info": {
   "codemirror_mode": {
    "name": "ipython",
    "version": 3
   },
   "file_extension": ".py",
   "mimetype": "text/x-python",
   "name": "python",
   "nbconvert_exporter": "python",
   "pygments_lexer": "ipython3",
   "version": "3.9.12"
  }
 },
 "nbformat": 4,
 "nbformat_minor": 5
}
