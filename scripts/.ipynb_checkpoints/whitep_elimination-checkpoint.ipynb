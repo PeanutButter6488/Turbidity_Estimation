{
 "cells": [
  {
   "cell_type": "markdown",
   "id": "9cee8146-29e8-417d-9075-fb9cbe2c56af",
   "metadata": {},
   "source": [
    "### White Spot Elimination\n",
    "\n",
    "Median filter is applied to eliminate white spot caused by salt-and-pepper noise.\n",
    "\n",
    "Idea came from this [blog](https://www.bogotobogo.com/python/OpenCV_Python/python_opencv3_Image_Non-local_Means_Denoising_Algorithm_Noise_Reduction.php)."
   ]
  },
  {
   "cell_type": "code",
   "execution_count": null,
   "id": "45ead7a5-0eeb-4f59-90a9-35f11fb1343b",
   "metadata": {},
   "outputs": [],
   "source": [
    "%matplotlib widget\n",
    "import numpy as np\n",
    "import cv2\n",
    "from matplotlib import pyplot as plt\n",
    "import os\n",
    "\n",
    "from PIL import Image\n",
    "import sys  \n",
    "sys.path.insert(0, '../dip_utils')\n",
    "\n",
    "from matrix_utils import arr_info\n",
    "from vis_utils import (vis_rgb_cube,\n",
    "                       vis_hists,\n",
    "                       vis_pair)\n",
    "from mpl_toolkits.axes_grid1.inset_locator import zoomed_inset_axes \n",
    "from mpl_toolkits.axes_grid1.inset_locator import mark_inset"
   ]
  },
  {
   "cell_type": "code",
   "execution_count": 3,
   "id": "ed2f37c6-bb04-4a74-9c95-18321185676d",
   "metadata": {},
   "outputs": [],
   "source": [
    "def white_spot_elimination(path):\n",
    "    for dic in os.listdir(path):\n",
    "        if dic != '.ipynb_checkpoints':\n",
    "            img = os.path.join(path, dic)\n",
    "            I = plt.imread(img)\n",
    "            dst = cv2.fastNlMeansDenoisingColored(I,None,10,10,7,21)\n",
    "            dst = Image.fromarray(dst)\n",
    "            dst.save(\"%s\" % img)"
   ]
  },
  {
   "cell_type": "code",
   "execution_count": null,
   "id": "d66817e0-a2ba-43ac-9301-b23cc8c1c64b",
   "metadata": {},
   "outputs": [],
   "source": [
    "# white_spot_elimination('../test/')"
   ]
  },
  {
   "cell_type": "code",
   "execution_count": null,
   "id": "5fd5c5f7-dfd2-492f-b030-636d8baff8c3",
   "metadata": {},
   "outputs": [],
   "source": [
    "# I = plt.imread('../stacked_new/NTU129.jpg')\n",
    "# J = plt.imread('../test/NTU129.jpg')\n",
    "# vis_pair(I, J)"
   ]
  },
  {
   "cell_type": "code",
   "execution_count": null,
   "id": "252c37cd-c22e-4ca6-9d98-3a624c40c67d",
   "metadata": {},
   "outputs": [],
   "source": [
    "# Ilog = (32*np.log2(I + 1)).astype('uint8')\n",
    "# arr_info(Ilog)"
   ]
  },
  {
   "cell_type": "code",
   "execution_count": null,
   "id": "3b94ab58-1c20-4284-8356-40d04cdfe354",
   "metadata": {},
   "outputs": [],
   "source": [
    "# Jlog = (32*np.log2(J + 1)).astype('uint8')"
   ]
  },
  {
   "cell_type": "code",
   "execution_count": null,
   "id": "fcac12f2-3201-459b-aa93-e325b794a50e",
   "metadata": {},
   "outputs": [],
   "source": [
    "# vis_pair(Ilog, Jlog)\n",
    "# #120*114"
   ]
  },
  {
   "cell_type": "code",
   "execution_count": null,
   "id": "10eb9baf-f3ea-44b9-9b48-f89bb2bca6c3",
   "metadata": {},
   "outputs": [],
   "source": [
    "# plt.savefig('../assets/white_p_log.pdf', dpi=600)"
   ]
  },
  {
   "cell_type": "code",
   "execution_count": null,
   "id": "ae51b091-cc56-47b0-8a54-a18904a90db6",
   "metadata": {},
   "outputs": [],
   "source": [
    "# # y1 = 1110\n",
    "# # y2 = 1235\n",
    "# # x1 = 595\n",
    "# # x2 = 710\n",
    "# x1 = 185\n",
    "# x2 = 305\n",
    "# y1 = 1436\n",
    "# y2 = 1556"
   ]
  },
  {
   "cell_type": "code",
   "execution_count": null,
   "id": "5960be2b-dc9f-499c-8699-526c21980cfa",
   "metadata": {},
   "outputs": [],
   "source": [
    "# f, ax = plt.subplots(1,2,figsize=(8,4), sharex=True, sharey=True)\n",
    "# ax[0].imshow(I)\n",
    "# ax[0].set_title('Stacked Image')\n",
    "# ax[1].imshow(J) # black to red colormap\n",
    "# ax[1].set_title('White Spot Elimination')\n",
    "# axinsl = zoomed_inset_axes(ax[0], 6.5, loc=1) # zoom = 2\n",
    "# axinsl.imshow(I)\n",
    "# axinsl.set_xlim(x1, x2)\n",
    "# axinsl.set_ylim(y1, y2)\n",
    "# mark_inset(ax[0], axinsl, loc1=2, loc2=4, fc=\"none\", ec=\"0.5\")\n",
    "# plt.xticks(visible=False)\n",
    "# plt.yticks(visible=False)\n",
    "# axinsr = zoomed_inset_axes(ax[1], 6.5, loc=1) # zoom = 2\n",
    "# axinsr.imshow(J)\n",
    "# axinsr.set_xlim(x1, x2)\n",
    "# axinsr.set_ylim(y1, y2)\n",
    "# mark_inset(ax[1], axinsr, loc1=2, loc2=4, fc=\"none\", ec=\"0.5\")\n",
    "# ax[0].tick_params(\n",
    "#     axis='both',         \n",
    "#     which='both',      \n",
    "#     bottom=False,      \n",
    "#     top=False,         \n",
    "#     labelbottom=False) \n",
    "# ax[1].tick_params(\n",
    "#     axis='both',         \n",
    "#     which='both',      \n",
    "#     bottom=False,      \n",
    "#     top=False,         \n",
    "#     labelbottom=False) \n",
    "# [a.axes.get_xaxis().set_visible(False) for a in ax];\n",
    "# [a.axes.get_yaxis().set_visible(False) for a in ax];\n",
    "# plt.xticks(visible=False)\n",
    "# plt.yticks(visible=False)\n",
    "# plt.draw()\n",
    "# plt.show()"
   ]
  },
  {
   "cell_type": "code",
   "execution_count": null,
   "id": "44319503-e04f-4706-92bd-edbea7fc5bce",
   "metadata": {},
   "outputs": [],
   "source": [
    "# plt.savefig('../assets/white_p.pdf', dpi=600)"
   ]
  },
  {
   "cell_type": "code",
   "execution_count": null,
   "id": "95877768-1f99-42a3-a8b5-5c4464b9c7db",
   "metadata": {},
   "outputs": [],
   "source": []
  }
 ],
 "metadata": {
  "kernelspec": {
   "display_name": "Python 3",
   "language": "python",
   "name": "python3"
  },
  "language_info": {
   "codemirror_mode": {
    "name": "ipython",
    "version": 3
   },
   "file_extension": ".py",
   "mimetype": "text/x-python",
   "name": "python",
   "nbconvert_exporter": "python",
   "pygments_lexer": "ipython3",
   "version": "3.9.12"
  }
 },
 "nbformat": 4,
 "nbformat_minor": 5
}
