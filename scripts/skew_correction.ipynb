{
 "cells": [
  {
   "cell_type": "code",
   "execution_count": 1,
   "id": "c40307c6-7cfe-46ef-81ef-690332add023",
   "metadata": {},
   "outputs": [],
   "source": [
    "%matplotlib widget\n",
    "import numpy as np\n",
    "import pandas as pd\n",
    "from matplotlib import pyplot as plt\n",
    "import glob\n",
    "import cv2\n",
    "\n",
    "import os\n",
    "import sys  \n",
    "import re\n",
    "sys.path.insert(0, '../dip_utils')\n",
    "\n",
    "from matrix_utils import arr_info\n",
    "from vis_utils import (vis_rgb_cube,\n",
    "                       vis_hists,\n",
    "                       vis_pair, \n",
    "                       vis_triple)"
   ]
  },
  {
   "cell_type": "code",
   "execution_count": null,
   "id": "c45b1593-45b3-43a1-bb7f-e085ee693e43",
   "metadata": {},
   "outputs": [],
   "source": [
    "def get_destination_points(corners):\n",
    "    \"\"\"\n",
    "    -Get destination points from corners of warped images\n",
    "    -Approximating height and width of the rectangle: we take maximum of the 2 widths and 2 heights\n",
    "    Args:\n",
    "        corners: list\n",
    "    Returns:\n",
    "        destination_corners: list\n",
    "        height: int\n",
    "        width: int\n",
    "    \"\"\"\n",
    "\n",
    "    w1 = np.sqrt((corners[0][0] - corners[1][0]) ** 2 + (corners[0][1] - corners[1][1]) ** 2)\n",
    "    w2 = np.sqrt((corners[2][0] - corners[3][0]) ** 2 + (corners[2][1] - corners[3][1]) ** 2)\n",
    "    w = max(int(w1), int(w2))\n",
    "\n",
    "    h1 = np.sqrt((corners[0][0] - corners[2][0]) ** 2 + (corners[0][1] - corners[2][1]) ** 2)\n",
    "    h2 = np.sqrt((corners[1][0] - corners[3][0]) ** 2 + (corners[1][1] - corners[3][1]) ** 2)\n",
    "    h = max(int(h1), int(h2))\n",
    "\n",
    "    destination_corners = np.float32([(0, 0), (w - 1, 0), (0, h - 1), (w - 1, h - 1)])\n",
    "    return destination_corners, h, w"
   ]
  },
  {
   "cell_type": "code",
   "execution_count": null,
   "id": "6014a0b6-5439-460b-a5e1-deaba04c71f4",
   "metadata": {},
   "outputs": [],
   "source": [
    "def unwarp(path, img, src, dst):\n",
    "    \"\"\"\n",
    "    Args:\n",
    "        img: np.array\n",
    "        src: list\n",
    "        dst: list\n",
    "    Returns:\n",
    "        un_warped: np.array\n",
    "    \"\"\"\n",
    "    img = plt.imread('%s/%s' % (path, img))\n",
    "    img_c = img.copy()\n",
    "    h, w = img.shape[:2]\n",
    "    H, _ = cv2.findHomography(src, dst, cv2.RANSAC, 3.0)\n",
    "    un_warped = cv2.warpPerspective(img_c, H, (w, h), flags=cv2.INTER_LINEAR)\n",
    "    \n",
    "    return un_warped"
   ]
  }
 ],
 "metadata": {
  "kernelspec": {
   "display_name": "Python 3 (ipykernel)",
   "language": "python",
   "name": "python3"
  },
  "language_info": {
   "codemirror_mode": {
    "name": "ipython",
    "version": 3
   },
   "file_extension": ".py",
   "mimetype": "text/x-python",
   "name": "python",
   "nbconvert_exporter": "python",
   "pygments_lexer": "ipython3",
   "version": "3.9.13"
  }
 },
 "nbformat": 4,
 "nbformat_minor": 5
}
